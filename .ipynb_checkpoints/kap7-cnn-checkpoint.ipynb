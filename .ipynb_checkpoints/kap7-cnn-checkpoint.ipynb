{
 "cells": [
  {
   "cell_type": "markdown",
   "metadata": {
    "colab_type": "text",
    "id": "view-in-github"
   },
   "source": [
    "<a href=\"https://colab.research.google.com/github/DJCordhose/buch-machine-learning-notebooks/blob/master/kap7-cnn.ipynb\" target=\"_parent\"><img src=\"https://colab.research.google.com/assets/colab-badge.svg\" alt=\"Open In Colab\"/></a>"
   ]
  },
  {
   "cell_type": "markdown",
   "metadata": {
    "colab_type": "text",
    "id": "LzCzd16RpoPh"
   },
   "source": [
    "# Kapitel 7: Neuronale Netzwerke - Bilderkennung"
   ]
  },
  {
   "cell_type": "code",
   "execution_count": 1,
   "metadata": {
    "colab": {},
    "colab_type": "code",
    "id": "pjxdBjpNpoPi"
   },
   "outputs": [],
   "source": [
    "import warnings\n",
    "warnings.filterwarnings('ignore')"
   ]
  },
  {
   "cell_type": "code",
   "execution_count": 2,
   "metadata": {
    "colab": {
     "base_uri": "https://localhost:8080/",
     "height": 34
    },
    "colab_type": "code",
    "id": "9xOCX6mopoPm",
    "outputId": "3418c4d9-2ab2-4484-9427-a2c1875e1f11"
   },
   "outputs": [
    {
     "name": "stdout",
     "output_type": "stream",
     "text": [
      "Populating the interactive namespace from numpy and matplotlib\n"
     ]
    }
   ],
   "source": [
    "%matplotlib inline\n",
    "%pylab inline"
   ]
  },
  {
   "cell_type": "code",
   "execution_count": 3,
   "metadata": {
    "colab": {},
    "colab_type": "code",
    "id": "hihiDGcLpoPp"
   },
   "outputs": [],
   "source": [
    "import matplotlib.pylab as plt\n",
    "import numpy as np"
   ]
  },
  {
   "cell_type": "code",
   "execution_count": 4,
   "metadata": {
    "colab": {},
    "colab_type": "code",
    "id": "CBk_vCWwpoPu"
   },
   "outputs": [],
   "source": [
    "colors = 'bwr'#['b','y','r']\n",
    "CMAP = colors#plt.cm.rainbow"
   ]
  },
  {
   "cell_type": "code",
   "execution_count": 5,
   "metadata": {
    "colab": {
     "base_uri": "https://localhost:8080/",
     "height": 34
    },
    "colab_type": "code",
    "id": "4iE8z4UPpoPy",
    "outputId": "b9cdd306-478b-439a-ce86-cffaf6bfddcd"
   },
   "outputs": [
    {
     "name": "stdout",
     "output_type": "stream",
     "text": [
      "1.0.2\n"
     ]
    }
   ],
   "source": [
    "import sklearn\n",
    "print(sklearn.__version__)"
   ]
  },
  {
   "cell_type": "code",
   "execution_count": 6,
   "metadata": {
    "colab": {
     "base_uri": "https://localhost:8080/",
     "height": 34
    },
    "colab_type": "code",
    "id": "UDMwrHxipoP1",
    "outputId": "9beab8a5-5fb7-40ac-de1f-91b64f7be950"
   },
   "outputs": [
    {
     "name": "stdout",
     "output_type": "stream",
     "text": [
      "2.4.0\n"
     ]
    }
   ],
   "source": [
    "import tensorflow as tf\n",
    "print(tf.__version__)"
   ]
  },
  {
   "cell_type": "code",
   "execution_count": 7,
   "metadata": {
    "colab": {
     "base_uri": "https://localhost:8080/",
     "height": 34
    },
    "colab_type": "code",
    "id": "n1402Tv0poP3",
    "outputId": "95926bea-8b20-41ab-ad2b-d96872d88df0"
   },
   "outputs": [
    {
     "name": "stdout",
     "output_type": "stream",
     "text": [
      "2.4.0\n"
     ]
    },
    {
     "name": "stderr",
     "output_type": "stream",
     "text": [
      "Using TensorFlow backend.\n"
     ]
    }
   ],
   "source": [
    "import keras\n",
    "print(keras.__version__)"
   ]
  },
  {
   "cell_type": "code",
   "execution_count": 8,
   "metadata": {
    "colab": {
     "base_uri": "https://localhost:8080/",
     "height": 34
    },
    "colab_type": "code",
    "id": "RJ1jquySpoP6",
    "outputId": "7b69e05f-f6af-44c3-8443-e4365d2c1e6e"
   },
   "outputs": [
    {
     "name": "stdout",
     "output_type": "stream",
     "text": [
      "1.3.5\n"
     ]
    }
   ],
   "source": [
    "import pandas as pd\n",
    "print(pd.__version__)"
   ]
  },
  {
   "cell_type": "markdown",
   "metadata": {
    "colab_type": "text",
    "id": "Y1gku3A3poP9"
   },
   "source": [
    "## Laden und Vorbereiten der Bild-Daten"
   ]
  },
  {
   "cell_type": "code",
   "execution_count": 9,
   "metadata": {
    "colab": {
     "base_uri": "https://localhost:8080/",
     "height": 68
    },
    "colab_type": "code",
    "id": "_5uS-zXVpoP-",
    "outputId": "ceedd415-166e-4993-f681-14ffa0461753"
   },
   "outputs": [
    {
     "name": "stderr",
     "output_type": "stream",
     "text": [
      "  % Total    % Received % Xferd  Average Speed   Time    Time     Time  Current\n",
      "                                 Dload  Upload   Total   Spent    Left  Speed\n",
      "\n",
      "  0     0    0     0    0     0      0      0 --:--:-- --:--:-- --:--:--     0\n",
      "100 1810k  100 1810k    0     0  3285k      0 --:--:-- --:--:-- --:--:-- 3291k\n"
     ]
    }
   ],
   "source": [
    "!curl -O https://raw.githubusercontent.com/DJCordhose/speed-limit-signs/master/data/speed-limit-signs.zip\n",
    "from zipfile import ZipFile\n",
    "zip = ZipFile(r'speed-limit-signs.zip')\n",
    "zip.extractall('.')"
   ]
  },
  {
   "cell_type": "code",
   "execution_count": 10,
   "metadata": {
    "colab": {
     "base_uri": "https://localhost:8080/",
     "height": 153
    },
    "colab_type": "code",
    "id": "P6fwa6rzpoQA",
    "outputId": "57906e58-190c-4fd1-a960-a5c4927162ee"
   },
   "outputs": [
    {
     "name": "stdout",
     "output_type": "stream",
     "text": [
      " Volume in Laufwerk C: hat keine Bezeichnung.\n",
      " Volumeseriennummer: 5ED5-9136\n",
      "\n",
      " Verzeichnis von C:\\Users\\kleme\\Python-Programme\\ML_Intro\\speed-limit-signs\n",
      "\n",
      "09.03.2022  19:15    <DIR>          .\n",
      "09.03.2022  19:15    <DIR>          ..\n",
      "10.03.2022  10:39             6.148 .DS_Store\n",
      "09.03.2022  19:15    <DIR>          0\n",
      "09.03.2022  19:15    <DIR>          1\n",
      "09.03.2022  19:15    <DIR>          2\n",
      "09.03.2022  19:15    <DIR>          3\n",
      "09.03.2022  19:15    <DIR>          4\n",
      "09.03.2022  19:15    <DIR>          5\n",
      "10.03.2022  10:39               380 README.md\n",
      "               2 Datei(en),          6.528 Bytes\n",
      "               8 Verzeichnis(se), 575.479.758.848 Bytes frei\n"
     ]
    }
   ],
   "source": [
    "!dir speed-limit-signs\n",
    "#!ls -l speed-limit-signs"
   ]
  },
  {
   "cell_type": "code",
   "execution_count": 11,
   "metadata": {
    "colab": {
     "base_uri": "https://localhost:8080/",
     "height": 306
    },
    "colab_type": "code",
    "id": "wm9Q5NR3poQD",
    "outputId": "eef4263c-e032-4195-dfa9-3ab70c104f99"
   },
   "outputs": [
    {
     "name": "stdout",
     "output_type": "stream",
     "text": [
      "Data extracted from http://benchmark.ini.rub.de/?section=gtsdb&subsection=dataset\n",
      "\n",
      "From http://benchmark.ini.rub.de/Dataset_GTSDB/FullIJCNN2013.zip just the samples for the speed limit signs \n",
      "\n",
      "## Format\n",
      "\n",
      "https://en.wikipedia.org/wiki/Netpbm_format\n",
      "\n",
      "Can be previewed on a Mac and be processed by http://scikit-image.org/\n",
      "\n",
      "## Labels\n",
      "- 0: 30\n",
      "- 1: 50\n",
      "- 2: 70\n",
      "- 3: 80\n",
      "- 4: 100\n",
      "- 5: 120\n"
     ]
    }
   ],
   "source": [
    "!type speed-limit-signs\\README.md\n",
    "#!cat speed-limit-signs/README.md"
   ]
  },
  {
   "cell_type": "markdown",
   "metadata": {
    "colab_type": "text",
    "id": "9D-SaV3apoQF"
   },
   "source": [
    "# Big Kudos to [Waleed Abdulla](https://medium.com/@waleedka) for providing the initial idea and many of the functions used to prepare and display the images: https://medium.com/@waleedka/traffic-sign-recognition-with-tensorflow-629dffc391a6#.i728o84ib  "
   ]
  },
  {
   "cell_type": "code",
   "execution_count": 12,
   "metadata": {
    "colab": {},
    "colab_type": "code",
    "id": "dEyC7dgJsohW"
   },
   "outputs": [],
   "source": [
    "import os\n",
    "from skimage import data, io, filters\n",
    "\n",
    "ROOT_PATH = \"./\"\n",
    "data_dir = os.path.join(ROOT_PATH, \"speed-limit-signs\")\n",
    "type = \".ppm\"\n",
    "\n",
    "# Get all subdirectories of data_dir. Each represents a label.\n",
    "directories = [d for d in os.listdir(data_dir) \n",
    "                if os.path.isdir(os.path.join(data_dir, d))]\n",
    "# Loop through the label directories and collect the data in\n",
    "# two lists, labels and images.\n",
    "labels = []\n",
    "images = []\n",
    "for d in directories:\n",
    "    label_dir = os.path.join(data_dir, d)\n",
    "    file_names = [os.path.join(label_dir, f) for f in os.listdir(label_dir) if f.endswith(type)]\n",
    "    # For each label, load it's images and add them to the images list.\n",
    "    # And add the label number (i.e. directory name) to the labels list.\n",
    "    for f in file_names:\n",
    "        images.append(io.imread(f))\n",
    "        labels.append(int(d))\n",
    "\n",
    "images, labels = np.array(images), np.array(labels)"
   ]
  },
  {
   "cell_type": "code",
   "execution_count": 13,
   "metadata": {
    "colab": {
     "base_uri": "https://localhost:8080/",
     "height": 249
    },
    "colab_type": "code",
    "id": "A6mqGPAEpoQJ",
    "outputId": "08f04785-f44e-496c-fd3a-e1f0244c1268"
   },
   "outputs": [
    {
     "data": {
      "image/png": "[encoded data removed]",
      "text/plain": [
       "<Figure size 2160x1080 with 6 Axes>"
      ]
     },
     "metadata": {
      "needs_background": "light"
     },
     "output_type": "display_data"
    }
   ],
   "source": [
    "import matplotlib\n",
    "import matplotlib.pyplot as plt\n",
    "\n",
    "label_names = ['30', '50', '70', '80', '100', '120']\n",
    "\n",
    "plt.figure(figsize=(30, 15))\n",
    "\n",
    "unique_values, counts = np.unique(labels, return_counts=True)\n",
    "classes = len(unique_values)\n",
    "\n",
    "i = 1\n",
    "for label in unique_values:\n",
    "    # Pick the first image for each label.\n",
    "    image = images[np.where(labels == label)[0][0]]\n",
    "    plt.subplot(1, 8, i)\n",
    "    plt.title(\"{0} (#{1})\".format(label_names[label], counts[label]))\n",
    "    i += 1\n",
    "    plt.imshow(image)"
   ]
  },
  {
   "cell_type": "code",
   "execution_count": 14,
   "metadata": {
    "colab": {},
    "colab_type": "code",
    "id": "BFGPTn_atT-6"
   },
   "outputs": [],
   "source": [
    "import skimage.transform\n",
    "\n",
    "images_64 = np.array([skimage.transform.resize(image, (64, 64)) for image in images])"
   ]
  },
  {
   "cell_type": "markdown",
   "metadata": {
    "colab_type": "text",
    "id": "H9_TAlqUpoQO"
   },
   "source": [
    "## Modell-Architektur"
   ]
  },
  {
   "cell_type": "code",
   "execution_count": 15,
   "metadata": {
    "colab": {},
    "colab_type": "code",
    "id": "ylVn6kfspoQP"
   },
   "outputs": [],
   "source": [
    "y = np.array(labels)\n",
    "X = np.array(images_64)\n",
    "from keras.utils.np_utils import to_categorical\n",
    "\n",
    "num_categories = 6\n",
    "\n",
    "y = to_categorical(y, num_categories)"
   ]
  },
  {
   "cell_type": "code",
   "execution_count": 16,
   "metadata": {
    "colab": {},
    "colab_type": "code",
    "id": "nEQCr3YgpoQR"
   },
   "outputs": [],
   "source": [
    "from keras.models import Model\n",
    "from keras.layers import Dense, Dropout, Flatten, Input\n",
    "from keras.layers import Convolution2D, MaxPooling2D\n",
    "\n",
    "# input tensor for a 3-channel 64x64 image\n",
    "inputs = Input(shape=(64, 64, 3))\n",
    "\n",
    "# one block of convolutional layers\n",
    "x = Convolution2D(64, 3, activation='relu', padding='same')(inputs)\n",
    "x = Convolution2D(64, 3, activation='relu', padding='same')(x)\n",
    "x = Convolution2D(64, 3, activation='relu', padding='same')(x)\n",
    "x = MaxPooling2D(pool_size=(2, 2))(x)\n",
    "\n",
    "# one more block\n",
    "x = Convolution2D(128, 3, activation='relu', padding='same')(x)\n",
    "x = Convolution2D(128, 3, activation='relu', padding='same')(x)\n",
    "x = MaxPooling2D(pool_size=(2, 2))(x)\n",
    "\n",
    "# one more block\n",
    "x = Convolution2D(256, 3, activation='relu', padding='same')(x)\n",
    "x = MaxPooling2D(pool_size=(2, 2))(x)\n",
    "\n",
    "x = Flatten()(x)\n",
    "x = Dense(256, activation='relu')(x)\n",
    "\n",
    "# softmax activation, 6 categories\n",
    "predictions = Dense(6, activation='softmax')(x)"
   ]
  },
  {
   "cell_type": "code",
   "execution_count": 17,
   "metadata": {
    "colab": {
     "base_uri": "https://localhost:8080/",
     "height": 595
    },
    "colab_type": "code",
    "id": "6EJNZgpopoQT",
    "outputId": "da4ab145-bffb-4297-f039-040d64b9a257"
   },
   "outputs": [
    {
     "name": "stdout",
     "output_type": "stream",
     "text": [
      "Model: \"model\"\n",
      "_________________________________________________________________\n",
      "Layer (type)                 Output Shape              Param #   \n",
      "=================================================================\n",
      "input_1 (InputLayer)         [(None, 64, 64, 3)]       0         \n",
      "_________________________________________________________________\n",
      "conv2d (Conv2D)              (None, 64, 64, 64)        1792      \n",
      "_________________________________________________________________\n",
      "conv2d_1 (Conv2D)            (None, 64, 64, 64)        36928     \n",
      "_________________________________________________________________\n",
      "conv2d_2 (Conv2D)            (None, 64, 64, 64)        36928     \n",
      "_________________________________________________________________\n",
      "max_pooling2d (MaxPooling2D) (None, 32, 32, 64)        0         \n",
      "_________________________________________________________________\n",
      "conv2d_3 (Conv2D)            (None, 32, 32, 128)       73856     \n",
      "_________________________________________________________________\n",
      "conv2d_4 (Conv2D)            (None, 32, 32, 128)       147584    \n",
      "_________________________________________________________________\n",
      "max_pooling2d_1 (MaxPooling2 (None, 16, 16, 128)       0         \n",
      "_________________________________________________________________\n",
      "conv2d_5 (Conv2D)            (None, 16, 16, 256)       295168    \n",
      "_________________________________________________________________\n",
      "max_pooling2d_2 (MaxPooling2 (None, 8, 8, 256)         0         \n",
      "_________________________________________________________________\n",
      "flatten (Flatten)            (None, 16384)             0         \n",
      "_________________________________________________________________\n",
      "dense (Dense)                (None, 256)               4194560   \n",
      "_________________________________________________________________\n",
      "dense_1 (Dense)              (None, 6)                 1542      \n",
      "=================================================================\n",
      "Total params: 4,788,358\n",
      "Trainable params: 4,788,358\n",
      "Non-trainable params: 0\n",
      "_________________________________________________________________\n"
     ]
    }
   ],
   "source": [
    "model = Model(inputs=inputs, outputs=predictions)\n",
    "model.summary()"
   ]
  },
  {
   "cell_type": "code",
   "execution_count": 18,
   "metadata": {
    "colab": {},
    "colab_type": "code",
    "id": "LP2w1xoypoQW"
   },
   "outputs": [],
   "source": [
    "model.compile(optimizer='adam',\n",
    "              loss='categorical_crossentropy',\n",
    "              metrics=['accuracy'])"
   ]
  },
  {
   "cell_type": "markdown",
   "metadata": {
    "colab_type": "text",
    "id": "hbe-R5ilpoQZ"
   },
   "source": [
    "## Zuerst testen wir unser Modell, ob wir es überhaupt trainiert bekommen, indem wir auf einer kleinen Menge von Daten overfitten"
   ]
  },
  {
   "cell_type": "code",
   "execution_count": 19,
   "metadata": {
    "colab": {},
    "colab_type": "code",
    "id": "X_DsvSwtpoQZ"
   },
   "outputs": [],
   "source": [
    "from sklearn.model_selection import train_test_split\n",
    "X_train, X_test, y_train, y_test = train_test_split(X, y, test_size=0.9, random_state=42, stratify=y)"
   ]
  },
  {
   "cell_type": "code",
   "execution_count": 20,
   "metadata": {
    "colab": {
     "base_uri": "https://localhost:8080/",
     "height": 34
    },
    "colab_type": "code",
    "id": "k53co0k0poQb",
    "outputId": "9908e65b-0c91-4c47-fef3-9d5d2c5353f2"
   },
   "outputs": [
    {
     "data": {
      "text/plain": [
       "((37, 64, 64, 3), (37, 6))"
      ]
     },
     "execution_count": 20,
     "metadata": {},
     "output_type": "execute_result"
    }
   ],
   "source": [
    "X_train.shape, y_train.shape"
   ]
  },
  {
   "cell_type": "code",
   "execution_count": 21,
   "metadata": {
    "colab": {
     "base_uri": "https://localhost:8080/",
     "height": 1000
    },
    "colab_type": "code",
    "id": "-AHBs2IapoQe",
    "outputId": "0380dfa4-d2ec-4372-ff74-516c5726bdf4"
   },
   "outputs": [
    {
     "name": "stdout",
     "output_type": "stream",
     "text": [
      "Epoch 1/100\n",
      "1/1 [==============================] - 3s 3s/step - loss: 1.7909 - accuracy: 0.1200 - val_loss: 1.6939 - val_accuracy: 0.0000e+00\n",
      "Epoch 2/100\n",
      "1/1 [==============================] - 1s 896ms/step - loss: 1.7249 - accuracy: 0.2800 - val_loss: 2.2498 - val_accuracy: 0.0000e+00\n",
      "Epoch 3/100\n",
      "1/1 [==============================] - 1s 877ms/step - loss: 1.9767 - accuracy: 0.2800 - val_loss: 1.5110 - val_accuracy: 0.1667\n",
      "Epoch 4/100\n",
      "1/1 [==============================] - 1s 921ms/step - loss: 1.6991 - accuracy: 0.3200 - val_loss: 1.6734 - val_accuracy: 0.2500\n",
      "Epoch 5/100\n",
      "1/1 [==============================] - 1s 877ms/step - loss: 1.7312 - accuracy: 0.2000 - val_loss: 1.7459 - val_accuracy: 0.1667\n",
      "Epoch 6/100\n",
      "1/1 [==============================] - 1s 880ms/step - loss: 1.7511 - accuracy: 0.4000 - val_loss: 1.7381 - val_accuracy: 0.1667\n",
      "Epoch 7/100\n",
      "1/1 [==============================] - 1s 807ms/step - loss: 1.7343 - accuracy: 0.4400 - val_loss: 1.6234 - val_accuracy: 0.1667\n",
      "Epoch 8/100\n",
      "1/1 [==============================] - 1s 783ms/step - loss: 1.6721 - accuracy: 0.3200 - val_loss: 1.4280 - val_accuracy: 0.1667\n",
      "Epoch 9/100\n",
      "1/1 [==============================] - 1s 840ms/step - loss: 1.6175 - accuracy: 0.2800 - val_loss: 1.6418 - val_accuracy: 0.2500\n",
      "Epoch 10/100\n",
      "1/1 [==============================] - 1s 762ms/step - loss: 1.5019 - accuracy: 0.4400 - val_loss: 2.0154 - val_accuracy: 0.0000e+00\n",
      "Epoch 11/100\n",
      "1/1 [==============================] - 1s 744ms/step - loss: 1.4385 - accuracy: 0.3600 - val_loss: 1.7233 - val_accuracy: 0.3333\n",
      "Epoch 12/100\n",
      "1/1 [==============================] - 1s 801ms/step - loss: 1.4399 - accuracy: 0.5600 - val_loss: 1.8142 - val_accuracy: 0.2500\n",
      "Epoch 13/100\n",
      "1/1 [==============================] - 1s 810ms/step - loss: 1.2011 - accuracy: 0.6400 - val_loss: 2.3551 - val_accuracy: 0.0833\n",
      "Epoch 14/100\n",
      "1/1 [==============================] - 1s 813ms/step - loss: 1.2567 - accuracy: 0.4400 - val_loss: 2.0170 - val_accuracy: 0.3333\n",
      "Epoch 15/100\n",
      "1/1 [==============================] - 1s 786ms/step - loss: 1.0663 - accuracy: 0.5200 - val_loss: 2.3112 - val_accuracy: 0.5000\n",
      "Epoch 16/100\n",
      "1/1 [==============================] - 1s 819ms/step - loss: 0.9521 - accuracy: 0.6000 - val_loss: 3.6313 - val_accuracy: 0.1667\n",
      "Epoch 17/100\n",
      "1/1 [==============================] - 1s 928ms/step - loss: 0.9505 - accuracy: 0.6400 - val_loss: 2.8851 - val_accuracy: 0.2500\n",
      "Epoch 18/100\n",
      "1/1 [==============================] - 1s 1s/step - loss: 0.7123 - accuracy: 0.7200 - val_loss: 3.1753 - val_accuracy: 0.4167\n",
      "Epoch 19/100\n",
      "1/1 [==============================] - 1s 914ms/step - loss: 0.7278 - accuracy: 0.6400 - val_loss: 3.7917 - val_accuracy: 0.4167\n",
      "Epoch 20/100\n",
      "1/1 [==============================] - 1s 924ms/step - loss: 0.5815 - accuracy: 0.7600 - val_loss: 5.5753 - val_accuracy: 0.3333\n",
      "Epoch 21/100\n",
      "1/1 [==============================] - 1s 916ms/step - loss: 0.7137 - accuracy: 0.6400 - val_loss: 5.5483 - val_accuracy: 0.4167\n",
      "Epoch 22/100\n",
      "1/1 [==============================] - 1s 896ms/step - loss: 0.5026 - accuracy: 0.7600 - val_loss: 5.6019 - val_accuracy: 0.5000\n",
      "Epoch 23/100\n",
      "1/1 [==============================] - 1s 914ms/step - loss: 0.5101 - accuracy: 0.7600 - val_loss: 5.0904 - val_accuracy: 0.3333\n",
      "Epoch 24/100\n",
      "1/1 [==============================] - 1s 871ms/step - loss: 0.3696 - accuracy: 0.8400 - val_loss: 5.8417 - val_accuracy: 0.2500\n",
      "Epoch 25/100\n",
      "1/1 [==============================] - 1s 870ms/step - loss: 0.3279 - accuracy: 0.8800 - val_loss: 6.6794 - val_accuracy: 0.2500\n",
      "Epoch 26/100\n",
      "1/1 [==============================] - 1s 894ms/step - loss: 0.2488 - accuracy: 0.9200 - val_loss: 7.8284 - val_accuracy: 0.2500\n",
      "Epoch 27/100\n",
      "1/1 [==============================] - 1s 775ms/step - loss: 0.1730 - accuracy: 0.9600 - val_loss: 10.5970 - val_accuracy: 0.2500\n",
      "Epoch 28/100\n",
      "1/1 [==============================] - 1s 872ms/step - loss: 0.1425 - accuracy: 1.0000 - val_loss: 11.4612 - val_accuracy: 0.3333\n",
      "Epoch 29/100\n",
      "1/1 [==============================] - 1s 769ms/step - loss: 0.1758 - accuracy: 1.0000 - val_loss: 23.1623 - val_accuracy: 0.3333\n",
      "Epoch 30/100\n",
      "1/1 [==============================] - 1s 812ms/step - loss: 3.0322 - accuracy: 0.5600 - val_loss: 12.2805 - val_accuracy: 0.3333\n",
      "Epoch 31/100\n",
      "1/1 [==============================] - 1s 749ms/step - loss: 2.3304 - accuracy: 0.6400 - val_loss: 8.9357 - val_accuracy: 0.3333\n",
      "Epoch 32/100\n",
      "1/1 [==============================] - 1s 746ms/step - loss: 1.2735 - accuracy: 0.7200 - val_loss: 9.3470 - val_accuracy: 0.0833\n",
      "Epoch 33/100\n",
      "1/1 [==============================] - 1s 756ms/step - loss: 1.4005 - accuracy: 0.8000 - val_loss: 5.3497 - val_accuracy: 0.0833\n",
      "Epoch 34/100\n",
      "1/1 [==============================] - 1s 790ms/step - loss: 0.8123 - accuracy: 0.7200 - val_loss: 2.9064 - val_accuracy: 0.4167\n",
      "Epoch 35/100\n",
      "1/1 [==============================] - 1s 763ms/step - loss: 0.7050 - accuracy: 0.7600 - val_loss: 2.2879 - val_accuracy: 0.3333\n",
      "Epoch 36/100\n",
      "1/1 [==============================] - 1s 827ms/step - loss: 0.8420 - accuracy: 0.6400 - val_loss: 1.9457 - val_accuracy: 0.3333\n",
      "Epoch 37/100\n",
      "1/1 [==============================] - 1s 816ms/step - loss: 0.8689 - accuracy: 0.6400 - val_loss: 1.6856 - val_accuracy: 0.3333\n",
      "Epoch 38/100\n",
      "1/1 [==============================] - 1s 820ms/step - loss: 0.8469 - accuracy: 0.7200 - val_loss: 1.5179 - val_accuracy: 0.5000\n",
      "Epoch 39/100\n",
      "1/1 [==============================] - 1s 749ms/step - loss: 0.8345 - accuracy: 0.7200 - val_loss: 1.4483 - val_accuracy: 0.5000\n",
      "Epoch 40/100\n",
      "1/1 [==============================] - 1s 778ms/step - loss: 0.8567 - accuracy: 0.7200 - val_loss: 1.4557 - val_accuracy: 0.5833\n",
      "Epoch 41/100\n",
      "1/1 [==============================] - 1s 751ms/step - loss: 0.8937 - accuracy: 0.7200 - val_loss: 1.5224 - val_accuracy: 0.5833\n",
      "Epoch 42/100\n",
      "1/1 [==============================] - 1s 757ms/step - loss: 0.8979 - accuracy: 0.7200 - val_loss: 1.5889 - val_accuracy: 0.5833\n",
      "Epoch 43/100\n",
      "1/1 [==============================] - 1s 742ms/step - loss: 0.8393 - accuracy: 0.7600 - val_loss: 1.6444 - val_accuracy: 0.5000\n",
      "Epoch 44/100\n",
      "1/1 [==============================] - 1s 750ms/step - loss: 0.7400 - accuracy: 0.8000 - val_loss: 1.7327 - val_accuracy: 0.5000\n",
      "Epoch 45/100\n",
      "1/1 [==============================] - 1s 755ms/step - loss: 0.6425 - accuracy: 0.7600 - val_loss: 1.8671 - val_accuracy: 0.5000\n",
      "Epoch 46/100\n",
      "1/1 [==============================] - 1s 758ms/step - loss: 0.5746 - accuracy: 0.8000 - val_loss: 2.0819 - val_accuracy: 0.4167\n",
      "Epoch 47/100\n",
      "1/1 [==============================] - 1s 735ms/step - loss: 0.5293 - accuracy: 0.7600 - val_loss: 2.3913 - val_accuracy: 0.3333\n",
      "Epoch 48/100\n",
      "1/1 [==============================] - 1s 746ms/step - loss: 0.4936 - accuracy: 0.8000 - val_loss: 2.7786 - val_accuracy: 0.3333\n",
      "Epoch 49/100\n",
      "1/1 [==============================] - 1s 807ms/step - loss: 0.4573 - accuracy: 0.8400 - val_loss: 3.1842 - val_accuracy: 0.3333\n",
      "Epoch 50/100\n",
      "1/1 [==============================] - 1s 766ms/step - loss: 0.4163 - accuracy: 0.8800 - val_loss: 3.5407 - val_accuracy: 0.3333\n",
      "Epoch 51/100\n",
      "1/1 [==============================] - 1s 805ms/step - loss: 0.3755 - accuracy: 0.9200 - val_loss: 3.8370 - val_accuracy: 0.3333\n",
      "Epoch 52/100\n",
      "1/1 [==============================] - 1s 774ms/step - loss: 0.3346 - accuracy: 0.9600 - val_loss: 4.1184 - val_accuracy: 0.4167\n",
      "Epoch 53/100\n",
      "1/1 [==============================] - 1s 774ms/step - loss: 0.2999 - accuracy: 0.9600 - val_loss: 4.4687 - val_accuracy: 0.4167\n",
      "Epoch 54/100\n",
      "1/1 [==============================] - 1s 739ms/step - loss: 0.2649 - accuracy: 0.9600 - val_loss: 4.9170 - val_accuracy: 0.4167\n",
      "Epoch 55/100\n",
      "1/1 [==============================] - 1s 723ms/step - loss: 0.2359 - accuracy: 0.9200 - val_loss: 5.1887 - val_accuracy: 0.4167\n",
      "Epoch 56/100\n",
      "1/1 [==============================] - 1s 734ms/step - loss: 0.2125 - accuracy: 1.0000 - val_loss: 5.9468 - val_accuracy: 0.4167\n",
      "Epoch 57/100\n",
      "1/1 [==============================] - 1s 781ms/step - loss: 0.2033 - accuracy: 0.9600 - val_loss: 6.3378 - val_accuracy: 0.4167\n",
      "Epoch 58/100\n",
      "1/1 [==============================] - 1s 821ms/step - loss: 0.1126 - accuracy: 0.9600 - val_loss: 6.6656 - val_accuracy: 0.5833\n"
     ]
    },
    {
     "name": "stdout",
     "output_type": "stream",
     "text": [
      "Epoch 59/100\n",
      "1/1 [==============================] - 1s 759ms/step - loss: 0.1190 - accuracy: 0.9600 - val_loss: 7.0631 - val_accuracy: 0.4167\n",
      "Epoch 60/100\n",
      "1/1 [==============================] - 1s 763ms/step - loss: 0.0716 - accuracy: 0.9600 - val_loss: 7.5221 - val_accuracy: 0.3333\n",
      "Epoch 61/100\n",
      "1/1 [==============================] - 1s 738ms/step - loss: 0.0355 - accuracy: 1.0000 - val_loss: 8.1237 - val_accuracy: 0.3333\n",
      "Epoch 62/100\n",
      "1/1 [==============================] - 1s 875ms/step - loss: 0.0527 - accuracy: 1.0000 - val_loss: 8.6937 - val_accuracy: 0.2500\n",
      "Epoch 63/100\n",
      "1/1 [==============================] - 1s 790ms/step - loss: 0.0381 - accuracy: 1.0000 - val_loss: 9.3365 - val_accuracy: 0.2500\n",
      "Epoch 64/100\n",
      "1/1 [==============================] - 1s 732ms/step - loss: 0.0207 - accuracy: 1.0000 - val_loss: 10.2193 - val_accuracy: 0.2500\n",
      "Epoch 65/100\n",
      "1/1 [==============================] - 1s 761ms/step - loss: 0.0230 - accuracy: 1.0000 - val_loss: 11.1933 - val_accuracy: 0.2500\n",
      "Epoch 66/100\n",
      "1/1 [==============================] - 1s 747ms/step - loss: 0.0213 - accuracy: 1.0000 - val_loss: 11.7440 - val_accuracy: 0.2500\n",
      "Epoch 67/100\n",
      "1/1 [==============================] - 1s 811ms/step - loss: 0.0088 - accuracy: 1.0000 - val_loss: 11.8868 - val_accuracy: 0.2500\n",
      "Epoch 68/100\n",
      "1/1 [==============================] - 1s 776ms/step - loss: 0.0034 - accuracy: 1.0000 - val_loss: 12.0398 - val_accuracy: 0.2500\n",
      "Epoch 69/100\n",
      "1/1 [==============================] - 1s 770ms/step - loss: 0.0021 - accuracy: 1.0000 - val_loss: 12.2163 - val_accuracy: 0.2500\n",
      "Epoch 70/100\n",
      "1/1 [==============================] - 1s 843ms/step - loss: 0.0015 - accuracy: 1.0000 - val_loss: 12.3951 - val_accuracy: 0.2500\n",
      "Epoch 71/100\n",
      "1/1 [==============================] - 1s 1s/step - loss: 0.0012 - accuracy: 1.0000 - val_loss: 12.5643 - val_accuracy: 0.2500\n",
      "Epoch 72/100\n",
      "1/1 [==============================] - 1s 931ms/step - loss: 0.0011 - accuracy: 1.0000 - val_loss: 12.7553 - val_accuracy: 0.2500\n",
      "Epoch 73/100\n",
      "1/1 [==============================] - 1s 854ms/step - loss: 9.3808e-04 - accuracy: 1.0000 - val_loss: 12.9835 - val_accuracy: 0.2500\n",
      "Epoch 74/100\n",
      "1/1 [==============================] - 1s 870ms/step - loss: 7.3669e-04 - accuracy: 1.0000 - val_loss: 13.3122 - val_accuracy: 0.2500\n",
      "Epoch 75/100\n",
      "1/1 [==============================] - 1s 750ms/step - loss: 4.9742e-04 - accuracy: 1.0000 - val_loss: 13.7611 - val_accuracy: 0.2500\n",
      "Epoch 76/100\n",
      "1/1 [==============================] - 1s 804ms/step - loss: 3.2041e-04 - accuracy: 1.0000 - val_loss: 14.3308 - val_accuracy: 0.3333\n",
      "Epoch 77/100\n",
      "1/1 [==============================] - 1s 919ms/step - loss: 2.3106e-04 - accuracy: 1.0000 - val_loss: 15.0109 - val_accuracy: 0.2500\n",
      "Epoch 78/100\n",
      "1/1 [==============================] - 1s 906ms/step - loss: 2.3764e-04 - accuracy: 1.0000 - val_loss: 15.7568 - val_accuracy: 0.2500\n",
      "Epoch 79/100\n",
      "1/1 [==============================] - 1s 844ms/step - loss: 4.4535e-04 - accuracy: 1.0000 - val_loss: 16.3097 - val_accuracy: 0.2500\n",
      "Epoch 80/100\n",
      "1/1 [==============================] - 1s 840ms/step - loss: 5.3259e-04 - accuracy: 1.0000 - val_loss: 16.4834 - val_accuracy: 0.2500\n",
      "Epoch 81/100\n",
      "1/1 [==============================] - 1s 832ms/step - loss: 2.3179e-04 - accuracy: 1.0000 - val_loss: 16.5493 - val_accuracy: 0.2500\n",
      "Epoch 82/100\n",
      "1/1 [==============================] - 1s 727ms/step - loss: 1.1820e-04 - accuracy: 1.0000 - val_loss: 16.6532 - val_accuracy: 0.2500\n",
      "Epoch 83/100\n",
      "1/1 [==============================] - 1s 729ms/step - loss: 9.6657e-05 - accuracy: 1.0000 - val_loss: 16.8074 - val_accuracy: 0.2500\n",
      "Epoch 84/100\n",
      "1/1 [==============================] - 1s 716ms/step - loss: 9.9333e-05 - accuracy: 1.0000 - val_loss: 16.9557 - val_accuracy: 0.2500\n",
      "Epoch 85/100\n",
      "1/1 [==============================] - 1s 735ms/step - loss: 1.0642e-04 - accuracy: 1.0000 - val_loss: 17.0884 - val_accuracy: 0.2500\n",
      "Epoch 86/100\n",
      "1/1 [==============================] - 1s 720ms/step - loss: 1.1153e-04 - accuracy: 1.0000 - val_loss: 17.2036 - val_accuracy: 0.3333\n",
      "Epoch 87/100\n",
      "1/1 [==============================] - 1s 738ms/step - loss: 1.1117e-04 - accuracy: 1.0000 - val_loss: 17.2857 - val_accuracy: 0.3333\n",
      "Epoch 88/100\n",
      "1/1 [==============================] - 1s 747ms/step - loss: 1.0475e-04 - accuracy: 1.0000 - val_loss: 17.3283 - val_accuracy: 0.3333\n",
      "Epoch 89/100\n",
      "1/1 [==============================] - 1s 788ms/step - loss: 9.3269e-05 - accuracy: 1.0000 - val_loss: 17.3379 - val_accuracy: 0.4167\n",
      "Epoch 90/100\n",
      "1/1 [==============================] - 1s 808ms/step - loss: 8.0054e-05 - accuracy: 1.0000 - val_loss: 17.3309 - val_accuracy: 0.4167\n",
      "Epoch 91/100\n",
      "1/1 [==============================] - 1s 742ms/step - loss: 6.7489e-05 - accuracy: 1.0000 - val_loss: 17.3280 - val_accuracy: 0.4167\n",
      "Epoch 92/100\n",
      "1/1 [==============================] - 1s 784ms/step - loss: 5.6971e-05 - accuracy: 1.0000 - val_loss: 17.3579 - val_accuracy: 0.3333\n",
      "Epoch 93/100\n",
      "1/1 [==============================] - 1s 796ms/step - loss: 4.8358e-05 - accuracy: 1.0000 - val_loss: 17.4254 - val_accuracy: 0.3333\n",
      "Epoch 94/100\n",
      "1/1 [==============================] - 1s 731ms/step - loss: 4.0517e-05 - accuracy: 1.0000 - val_loss: 17.5342 - val_accuracy: 0.2500\n",
      "Epoch 95/100\n",
      "1/1 [==============================] - 1s 741ms/step - loss: 3.2407e-05 - accuracy: 1.0000 - val_loss: 17.6870 - val_accuracy: 0.2500\n",
      "Epoch 96/100\n",
      "1/1 [==============================] - 1s 724ms/step - loss: 2.5947e-05 - accuracy: 1.0000 - val_loss: 17.8387 - val_accuracy: 0.2500\n",
      "Epoch 97/100\n",
      "1/1 [==============================] - 1s 768ms/step - loss: 2.1075e-05 - accuracy: 1.0000 - val_loss: 17.9890 - val_accuracy: 0.2500\n",
      "Epoch 98/100\n",
      "1/1 [==============================] - 1s 779ms/step - loss: 1.7437e-05 - accuracy: 1.0000 - val_loss: 18.1469 - val_accuracy: 0.2500\n",
      "Epoch 99/100\n",
      "1/1 [==============================] - 1s 752ms/step - loss: 1.4672e-05 - accuracy: 1.0000 - val_loss: 18.3218 - val_accuracy: 0.2500\n",
      "Epoch 100/100\n",
      "1/1 [==============================] - 1s 764ms/step - loss: 1.2550e-05 - accuracy: 1.0000 - val_loss: 18.4881 - val_accuracy: 0.2500\n",
      "Wall time: 1min 22s\n"
     ]
    },
    {
     "data": {
      "text/plain": [
       "<tensorflow.python.keras.callbacks.History at 0x1f5c0cdec88>"
      ]
     },
     "execution_count": 21,
     "metadata": {},
     "output_type": "execute_result"
    }
   ],
   "source": [
    "%time model.fit(X_train, y_train, epochs=100, validation_split=0.3)"
   ]
  },
  {
   "cell_type": "markdown",
   "metadata": {
    "colab_type": "text",
    "id": "tHX352EVpoQh"
   },
   "source": [
    "## Das sieht gut aus, nun versuchen wir es mit dem kompletten Datensatz ohne Overfitting und mit Dropout"
   ]
  },
  {
   "cell_type": "code",
   "execution_count": 22,
   "metadata": {
    "colab": {},
    "colab_type": "code",
    "id": "HsqrLu_ppoQi"
   },
   "outputs": [],
   "source": [
    "from keras.models import Model\n",
    "from keras.layers import Dense, Dropout, Activation, Flatten, Input\n",
    "from keras.layers import Convolution2D, MaxPooling2D\n",
    "\n",
    "drop_out = 0.6\n",
    "\n",
    "# input tensor for a 3-channel 64x64 image\n",
    "inputs = Input(shape=(64, 64, 3))\n",
    "\n",
    "# one block of convolutional layers\n",
    "x = Convolution2D(64, 3, activation='relu', padding='same')(inputs)\n",
    "x = Convolution2D(64, 3, activation='relu', padding='same')(x)\n",
    "x = Convolution2D(64, 3, activation='relu', padding='same')(x)\n",
    "x = MaxPooling2D(pool_size=(2, 2))(x)\n",
    "x = Dropout(drop_out)(x)\n",
    "\n",
    "# one more block\n",
    "x = Convolution2D(128, 3, activation='relu', padding='same')(x)\n",
    "x = Convolution2D(128, 3, activation='relu', padding='same')(x)\n",
    "x = MaxPooling2D(pool_size=(2, 2))(x)\n",
    "x = Dropout(drop_out)(x)\n",
    "\n",
    "# one more block\n",
    "x = Convolution2D(256, 3, activation='relu', padding='same')(x)\n",
    "x = MaxPooling2D(pool_size=(2, 2))(x)\n",
    "x = Dropout(drop_out)(x)\n",
    "\n",
    "x = Flatten()(x)\n",
    "x = Dense(256, activation='relu')(x)\n",
    "x = Dropout(drop_out)(x)\n",
    "\n",
    "# softmax activation, 6 categories\n",
    "predictions = Dense(6, activation='softmax')(x)"
   ]
  },
  {
   "cell_type": "code",
   "execution_count": 23,
   "metadata": {
    "colab": {
     "base_uri": "https://localhost:8080/",
     "height": 731
    },
    "colab_type": "code",
    "id": "PRousp1QpoQk",
    "outputId": "3deaa709-073f-4445-9bff-5a18cb1bf67e"
   },
   "outputs": [
    {
     "name": "stdout",
     "output_type": "stream",
     "text": [
      "Model: \"model_1\"\n",
      "_________________________________________________________________\n",
      "Layer (type)                 Output Shape              Param #   \n",
      "=================================================================\n",
      "input_2 (InputLayer)         [(None, 64, 64, 3)]       0         \n",
      "_________________________________________________________________\n",
      "conv2d_6 (Conv2D)            (None, 64, 64, 64)        1792      \n",
      "_________________________________________________________________\n",
      "conv2d_7 (Conv2D)            (None, 64, 64, 64)        36928     \n",
      "_________________________________________________________________\n",
      "conv2d_8 (Conv2D)            (None, 64, 64, 64)        36928     \n",
      "_________________________________________________________________\n",
      "max_pooling2d_3 (MaxPooling2 (None, 32, 32, 64)        0         \n",
      "_________________________________________________________________\n",
      "dropout (Dropout)            (None, 32, 32, 64)        0         \n",
      "_________________________________________________________________\n",
      "conv2d_9 (Conv2D)            (None, 32, 32, 128)       73856     \n",
      "_________________________________________________________________\n",
      "conv2d_10 (Conv2D)           (None, 32, 32, 128)       147584    \n",
      "_________________________________________________________________\n",
      "max_pooling2d_4 (MaxPooling2 (None, 16, 16, 128)       0         \n",
      "_________________________________________________________________\n",
      "dropout_1 (Dropout)          (None, 16, 16, 128)       0         \n",
      "_________________________________________________________________\n",
      "conv2d_11 (Conv2D)           (None, 16, 16, 256)       295168    \n",
      "_________________________________________________________________\n",
      "max_pooling2d_5 (MaxPooling2 (None, 8, 8, 256)         0         \n",
      "_________________________________________________________________\n",
      "dropout_2 (Dropout)          (None, 8, 8, 256)         0         \n",
      "_________________________________________________________________\n",
      "flatten_1 (Flatten)          (None, 16384)             0         \n",
      "_________________________________________________________________\n",
      "dense_2 (Dense)              (None, 256)               4194560   \n",
      "_________________________________________________________________\n",
      "dropout_3 (Dropout)          (None, 256)               0         \n",
      "_________________________________________________________________\n",
      "dense_3 (Dense)              (None, 6)                 1542      \n",
      "=================================================================\n",
      "Total params: 4,788,358\n",
      "Trainable params: 4,788,358\n",
      "Non-trainable params: 0\n",
      "_________________________________________________________________\n"
     ]
    }
   ],
   "source": [
    "model = Model(inputs=inputs, outputs=predictions)\n",
    "model.summary()"
   ]
  },
  {
   "cell_type": "code",
   "execution_count": 24,
   "metadata": {
    "colab": {},
    "colab_type": "code",
    "id": "KA0BHt8ZpoQm"
   },
   "outputs": [],
   "source": [
    "model.compile(optimizer='adam',\n",
    "              loss='categorical_crossentropy',\n",
    "              metrics=['accuracy'])"
   ]
  },
  {
   "cell_type": "code",
   "execution_count": 25,
   "metadata": {
    "colab": {},
    "colab_type": "code",
    "id": "M4zA_j07poQo"
   },
   "outputs": [],
   "source": [
    "X_train, X_test, y_train, y_test = train_test_split(X, y, test_size=0.2, random_state=42, stratify=y)"
   ]
  },
  {
   "cell_type": "code",
   "execution_count": 26,
   "metadata": {
    "colab": {},
    "colab_type": "code",
    "id": "POU41fDPpoQq"
   },
   "outputs": [],
   "source": [
    "# wenn die Ergebnisse lange Zeit schlecht bleiben, brechen wir lieber ab\n",
    "early_stopping_callback = keras.callbacks.EarlyStopping(monitor='val_loss', patience=25, verbose=1)"
   ]
  },
  {
   "cell_type": "code",
   "execution_count": 27,
   "metadata": {
    "colab": {
     "base_uri": "https://localhost:8080/",
     "height": 1000
    },
    "colab_type": "code",
    "id": "EfN07IOLpoQt",
    "outputId": "e718bc79-15cd-496c-8bcf-8c168c1d7212"
   },
   "outputs": [
    {
     "name": "stdout",
     "output_type": "stream",
     "text": [
      "Epoch 1/500\n",
      "8/8 [==============================] - 8s 875ms/step - loss: 1.8073 - accuracy: 0.2404 - val_loss: 1.7904 - val_accuracy: 0.1148\n",
      "Epoch 2/500\n",
      "8/8 [==============================] - 8s 1s/step - loss: 1.7593 - accuracy: 0.2095 - val_loss: 1.7788 - val_accuracy: 0.1148\n",
      "Epoch 3/500\n",
      "8/8 [==============================] - 7s 867ms/step - loss: 1.6930 - accuracy: 0.2237 - val_loss: 1.7722 - val_accuracy: 0.1148\n",
      "Epoch 4/500\n",
      "8/8 [==============================] - 7s 868ms/step - loss: 1.6989 - accuracy: 0.2460 - val_loss: 1.7698 - val_accuracy: 0.1148\n",
      "Epoch 5/500\n",
      "8/8 [==============================] - 7s 839ms/step - loss: 1.6616 - accuracy: 0.2684 - val_loss: 1.7687 - val_accuracy: 0.2459\n",
      "Epoch 6/500\n",
      "8/8 [==============================] - 6s 812ms/step - loss: 1.6655 - accuracy: 0.2360 - val_loss: 1.7803 - val_accuracy: 0.2295\n",
      "Epoch 7/500\n",
      "8/8 [==============================] - 7s 849ms/step - loss: 1.6393 - accuracy: 0.2598 - val_loss: 1.7797 - val_accuracy: 0.2131\n",
      "Epoch 8/500\n",
      "8/8 [==============================] - 6s 809ms/step - loss: 1.6752 - accuracy: 0.2843 - val_loss: 1.7501 - val_accuracy: 0.2295\n",
      "Epoch 9/500\n",
      "8/8 [==============================] - 7s 838ms/step - loss: 1.6403 - accuracy: 0.3121 - val_loss: 1.7685 - val_accuracy: 0.2295\n",
      "Epoch 10/500\n",
      "8/8 [==============================] - 6s 760ms/step - loss: 1.6687 - accuracy: 0.3390 - val_loss: 1.7761 - val_accuracy: 0.2131\n",
      "Epoch 11/500\n",
      "8/8 [==============================] - 6s 787ms/step - loss: 1.6868 - accuracy: 0.2831 - val_loss: 1.7705 - val_accuracy: 0.1967\n",
      "Epoch 12/500\n",
      "8/8 [==============================] - 6s 789ms/step - loss: 1.7271 - accuracy: 0.2897 - val_loss: 1.7745 - val_accuracy: 0.1967\n",
      "Epoch 13/500\n",
      "8/8 [==============================] - 6s 777ms/step - loss: 1.6792 - accuracy: 0.3022 - val_loss: 1.7653 - val_accuracy: 0.2459\n",
      "Epoch 14/500\n",
      "8/8 [==============================] - 7s 834ms/step - loss: 1.6880 - accuracy: 0.3295 - val_loss: 1.7506 - val_accuracy: 0.2295\n",
      "Epoch 15/500\n",
      "8/8 [==============================] - 7s 830ms/step - loss: 1.6983 - accuracy: 0.3171 - val_loss: 1.7552 - val_accuracy: 0.2787\n",
      "Epoch 16/500\n",
      "8/8 [==============================] - 6s 765ms/step - loss: 1.6318 - accuracy: 0.3579 - val_loss: 1.7399 - val_accuracy: 0.3279\n",
      "Epoch 17/500\n",
      "8/8 [==============================] - 6s 768ms/step - loss: 1.6072 - accuracy: 0.2682 - val_loss: 1.7666 - val_accuracy: 0.1803\n",
      "Epoch 18/500\n",
      "8/8 [==============================] - 6s 758ms/step - loss: 1.6521 - accuracy: 0.2768 - val_loss: 1.7328 - val_accuracy: 0.3115\n",
      "Epoch 19/500\n",
      "8/8 [==============================] - 6s 794ms/step - loss: 1.6382 - accuracy: 0.3247 - val_loss: 1.7044 - val_accuracy: 0.3279\n",
      "Epoch 20/500\n",
      "8/8 [==============================] - 6s 762ms/step - loss: 1.6643 - accuracy: 0.3089 - val_loss: 1.7100 - val_accuracy: 0.2623\n",
      "Epoch 21/500\n",
      "8/8 [==============================] - 6s 738ms/step - loss: 1.5816 - accuracy: 0.3351 - val_loss: 1.7033 - val_accuracy: 0.2295\n",
      "Epoch 22/500\n",
      "8/8 [==============================] - 6s 781ms/step - loss: 1.6239 - accuracy: 0.2724 - val_loss: 1.6726 - val_accuracy: 0.3115\n",
      "Epoch 23/500\n",
      "8/8 [==============================] - 6s 741ms/step - loss: 1.6005 - accuracy: 0.4006 - val_loss: 1.6671 - val_accuracy: 0.2951\n",
      "Epoch 24/500\n",
      "8/8 [==============================] - 6s 736ms/step - loss: 1.5957 - accuracy: 0.3132 - val_loss: 1.7015 - val_accuracy: 0.2459\n",
      "Epoch 25/500\n",
      "8/8 [==============================] - 6s 790ms/step - loss: 1.5510 - accuracy: 0.4027 - val_loss: 1.6479 - val_accuracy: 0.2951\n",
      "Epoch 26/500\n",
      "8/8 [==============================] - 6s 753ms/step - loss: 1.5172 - accuracy: 0.3515 - val_loss: 1.6172 - val_accuracy: 0.3279\n",
      "Epoch 27/500\n",
      "8/8 [==============================] - 6s 763ms/step - loss: 1.5378 - accuracy: 0.3182 - val_loss: 1.6758 - val_accuracy: 0.2787\n",
      "Epoch 28/500\n",
      "8/8 [==============================] - 6s 745ms/step - loss: 1.5043 - accuracy: 0.3947 - val_loss: 1.7006 - val_accuracy: 0.1803\n",
      "Epoch 29/500\n",
      "8/8 [==============================] - 6s 760ms/step - loss: 1.5217 - accuracy: 0.3652 - val_loss: 1.6444 - val_accuracy: 0.2459\n",
      "Epoch 30/500\n",
      "8/8 [==============================] - 6s 769ms/step - loss: 1.5373 - accuracy: 0.3985 - val_loss: 1.6347 - val_accuracy: 0.3115\n",
      "Epoch 31/500\n",
      "8/8 [==============================] - 6s 741ms/step - loss: 1.5883 - accuracy: 0.3527 - val_loss: 1.6363 - val_accuracy: 0.2951\n",
      "Epoch 32/500\n",
      "8/8 [==============================] - 6s 738ms/step - loss: 1.4818 - accuracy: 0.3655 - val_loss: 1.6307 - val_accuracy: 0.3115\n",
      "Epoch 33/500\n",
      "8/8 [==============================] - 6s 768ms/step - loss: 1.4718 - accuracy: 0.3496 - val_loss: 1.5862 - val_accuracy: 0.3279\n",
      "Epoch 34/500\n",
      "8/8 [==============================] - 6s 740ms/step - loss: 1.4479 - accuracy: 0.3973 - val_loss: 1.5662 - val_accuracy: 0.3443\n",
      "Epoch 35/500\n",
      "8/8 [==============================] - 7s 827ms/step - loss: 1.4334 - accuracy: 0.3747 - val_loss: 1.5456 - val_accuracy: 0.3607\n",
      "Epoch 36/500\n",
      "8/8 [==============================] - 6s 758ms/step - loss: 1.3801 - accuracy: 0.4449 - val_loss: 1.5222 - val_accuracy: 0.3934\n",
      "Epoch 37/500\n",
      "8/8 [==============================] - 6s 746ms/step - loss: 1.3059 - accuracy: 0.4737 - val_loss: 1.4987 - val_accuracy: 0.4098\n",
      "Epoch 38/500\n",
      "8/8 [==============================] - 7s 859ms/step - loss: 1.3546 - accuracy: 0.4089 - val_loss: 1.4907 - val_accuracy: 0.3934\n",
      "Epoch 39/500\n",
      "8/8 [==============================] - 7s 869ms/step - loss: 1.3205 - accuracy: 0.4356 - val_loss: 1.5350 - val_accuracy: 0.3443\n",
      "Epoch 40/500\n",
      "8/8 [==============================] - 7s 820ms/step - loss: 1.2966 - accuracy: 0.4252 - val_loss: 1.2724 - val_accuracy: 0.5246\n",
      "Epoch 41/500\n",
      "8/8 [==============================] - 7s 896ms/step - loss: 1.1814 - accuracy: 0.5553 - val_loss: 1.2516 - val_accuracy: 0.6066\n",
      "Epoch 42/500\n",
      "8/8 [==============================] - 8s 966ms/step - loss: 1.1279 - accuracy: 0.6007 - val_loss: 1.1688 - val_accuracy: 0.5246\n",
      "Epoch 43/500\n",
      "8/8 [==============================] - 7s 824ms/step - loss: 1.1009 - accuracy: 0.6479 - val_loss: 0.8851 - val_accuracy: 0.7213\n",
      "Epoch 44/500\n",
      "8/8 [==============================] - 6s 756ms/step - loss: 0.9215 - accuracy: 0.6712 - val_loss: 0.8426 - val_accuracy: 0.7213\n",
      "Epoch 45/500\n",
      "8/8 [==============================] - 6s 767ms/step - loss: 0.8701 - accuracy: 0.7362 - val_loss: 0.6972 - val_accuracy: 0.7869\n",
      "Epoch 46/500\n",
      "8/8 [==============================] - 6s 743ms/step - loss: 0.7154 - accuracy: 0.7437 - val_loss: 0.4421 - val_accuracy: 0.8852\n",
      "Epoch 47/500\n",
      "8/8 [==============================] - 6s 746ms/step - loss: 0.4899 - accuracy: 0.8199 - val_loss: 0.3790 - val_accuracy: 0.9344\n",
      "Epoch 48/500\n",
      "8/8 [==============================] - 6s 765ms/step - loss: 0.4167 - accuracy: 0.8824 - val_loss: 0.3007 - val_accuracy: 0.9344\n",
      "Epoch 49/500\n",
      "8/8 [==============================] - 6s 746ms/step - loss: 0.5868 - accuracy: 0.8416 - val_loss: 0.3613 - val_accuracy: 0.9344\n",
      "Epoch 50/500\n",
      "8/8 [==============================] - 6s 766ms/step - loss: 0.4698 - accuracy: 0.8370 - val_loss: 0.2084 - val_accuracy: 0.9672\n",
      "Epoch 51/500\n",
      "8/8 [==============================] - 6s 758ms/step - loss: 0.4722 - accuracy: 0.8447 - val_loss: 0.3028 - val_accuracy: 0.9508\n",
      "Epoch 52/500\n",
      "8/8 [==============================] - 6s 753ms/step - loss: 0.5342 - accuracy: 0.8477 - val_loss: 0.2777 - val_accuracy: 0.9672\n",
      "Epoch 53/500\n",
      "8/8 [==============================] - 6s 776ms/step - loss: 0.3080 - accuracy: 0.9013 - val_loss: 0.2803 - val_accuracy: 0.8852\n",
      "Epoch 54/500\n",
      "8/8 [==============================] - 6s 738ms/step - loss: 0.3952 - accuracy: 0.8180 - val_loss: 0.3188 - val_accuracy: 0.8852\n",
      "Epoch 55/500\n",
      "8/8 [==============================] - 6s 765ms/step - loss: 0.4375 - accuracy: 0.8593 - val_loss: 0.2302 - val_accuracy: 0.9672\n",
      "Epoch 56/500\n",
      "8/8 [==============================] - 6s 753ms/step - loss: 0.2712 - accuracy: 0.9244 - val_loss: 0.1925 - val_accuracy: 0.9344\n",
      "Epoch 57/500\n",
      "8/8 [==============================] - 6s 766ms/step - loss: 0.2948 - accuracy: 0.9168 - val_loss: 0.1268 - val_accuracy: 0.9672\n",
      "Epoch 58/500\n",
      "8/8 [==============================] - 6s 772ms/step - loss: 0.2290 - accuracy: 0.9467 - val_loss: 0.1280 - val_accuracy: 0.9836\n"
     ]
    },
    {
     "name": "stdout",
     "output_type": "stream",
     "text": [
      "Epoch 59/500\n",
      "8/8 [==============================] - 6s 743ms/step - loss: 0.2149 - accuracy: 0.9499 - val_loss: 0.1979 - val_accuracy: 0.9180\n",
      "Epoch 60/500\n",
      "8/8 [==============================] - 6s 748ms/step - loss: 0.1906 - accuracy: 0.9407 - val_loss: 0.2367 - val_accuracy: 0.9344\n",
      "Epoch 61/500\n",
      "8/8 [==============================] - 6s 766ms/step - loss: 0.2241 - accuracy: 0.9154 - val_loss: 0.1075 - val_accuracy: 0.9836\n",
      "Epoch 62/500\n",
      "8/8 [==============================] - 6s 738ms/step - loss: 0.1787 - accuracy: 0.9438 - val_loss: 0.1303 - val_accuracy: 0.9836\n",
      "Epoch 63/500\n",
      "8/8 [==============================] - 6s 751ms/step - loss: 0.2029 - accuracy: 0.9428 - val_loss: 0.1550 - val_accuracy: 0.9672\n",
      "Epoch 64/500\n",
      "8/8 [==============================] - 6s 741ms/step - loss: 0.1522 - accuracy: 0.9349 - val_loss: 0.1162 - val_accuracy: 0.9836\n",
      "Epoch 65/500\n",
      "8/8 [==============================] - 6s 746ms/step - loss: 0.1220 - accuracy: 0.9326 - val_loss: 0.1221 - val_accuracy: 0.9836\n",
      "Epoch 66/500\n",
      "8/8 [==============================] - 6s 764ms/step - loss: 0.1172 - accuracy: 0.9753 - val_loss: 0.2647 - val_accuracy: 0.9180\n",
      "Epoch 67/500\n",
      "8/8 [==============================] - 6s 763ms/step - loss: 0.1258 - accuracy: 0.9697 - val_loss: 0.1795 - val_accuracy: 0.9672\n",
      "Epoch 68/500\n",
      "8/8 [==============================] - 6s 751ms/step - loss: 0.1537 - accuracy: 0.9620 - val_loss: 0.1788 - val_accuracy: 0.9508\n",
      "Epoch 69/500\n",
      "8/8 [==============================] - 6s 785ms/step - loss: 0.0955 - accuracy: 0.9550 - val_loss: 0.1185 - val_accuracy: 0.9836\n",
      "Epoch 70/500\n",
      "8/8 [==============================] - 6s 751ms/step - loss: 0.0349 - accuracy: 0.9867 - val_loss: 0.1344 - val_accuracy: 0.9672\n",
      "Epoch 71/500\n",
      "8/8 [==============================] - 6s 758ms/step - loss: 0.1268 - accuracy: 0.9641 - val_loss: 0.1374 - val_accuracy: 0.9672\n",
      "Epoch 72/500\n",
      "8/8 [==============================] - 6s 750ms/step - loss: 0.1536 - accuracy: 0.9490 - val_loss: 0.1112 - val_accuracy: 0.9836\n",
      "Epoch 73/500\n",
      "8/8 [==============================] - 6s 740ms/step - loss: 0.0837 - accuracy: 0.9777 - val_loss: 0.1237 - val_accuracy: 0.9836\n",
      "Epoch 74/500\n",
      "8/8 [==============================] - 6s 767ms/step - loss: 0.1225 - accuracy: 0.9534 - val_loss: 0.0986 - val_accuracy: 0.9836\n",
      "Epoch 75/500\n",
      "8/8 [==============================] - 6s 746ms/step - loss: 0.0993 - accuracy: 0.9727 - val_loss: 0.0928 - val_accuracy: 0.9836\n",
      "Epoch 76/500\n",
      "8/8 [==============================] - 6s 738ms/step - loss: 0.0730 - accuracy: 0.9716 - val_loss: 0.0984 - val_accuracy: 0.9672\n",
      "Epoch 77/500\n",
      "8/8 [==============================] - 6s 778ms/step - loss: 0.1210 - accuracy: 0.9503 - val_loss: 0.0750 - val_accuracy: 0.9836\n",
      "Epoch 78/500\n",
      "8/8 [==============================] - 6s 740ms/step - loss: 0.1249 - accuracy: 0.9790 - val_loss: 0.1191 - val_accuracy: 0.9836\n",
      "Epoch 79/500\n",
      "8/8 [==============================] - 6s 768ms/step - loss: 0.0784 - accuracy: 0.9707 - val_loss: 0.1807 - val_accuracy: 0.9508\n",
      "Epoch 80/500\n",
      "8/8 [==============================] - 6s 778ms/step - loss: 0.1136 - accuracy: 0.9429 - val_loss: 0.1779 - val_accuracy: 0.9672\n",
      "Epoch 81/500\n",
      "8/8 [==============================] - 6s 742ms/step - loss: 0.0466 - accuracy: 0.9780 - val_loss: 0.1581 - val_accuracy: 0.9672\n",
      "Epoch 82/500\n",
      "8/8 [==============================] - 6s 772ms/step - loss: 0.0894 - accuracy: 0.9669 - val_loss: 0.1869 - val_accuracy: 0.9180\n",
      "Epoch 83/500\n",
      "8/8 [==============================] - 6s 767ms/step - loss: 0.1393 - accuracy: 0.9663 - val_loss: 0.1319 - val_accuracy: 0.9672\n",
      "Epoch 84/500\n",
      "8/8 [==============================] - 6s 774ms/step - loss: 0.1119 - accuracy: 0.9652 - val_loss: 0.3181 - val_accuracy: 0.9180\n",
      "Epoch 85/500\n",
      "8/8 [==============================] - 7s 808ms/step - loss: 0.2495 - accuracy: 0.9438 - val_loss: 0.1525 - val_accuracy: 0.9344\n",
      "Epoch 86/500\n",
      "8/8 [==============================] - 8s 959ms/step - loss: 0.1200 - accuracy: 0.9514 - val_loss: 0.0972 - val_accuracy: 0.9672\n",
      "Epoch 87/500\n",
      "8/8 [==============================] - 7s 917ms/step - loss: 0.1441 - accuracy: 0.9500 - val_loss: 0.0844 - val_accuracy: 0.9836\n",
      "Epoch 88/500\n",
      "8/8 [==============================] - 7s 843ms/step - loss: 0.0836 - accuracy: 0.9753 - val_loss: 0.0767 - val_accuracy: 0.9836\n",
      "Epoch 89/500\n",
      "8/8 [==============================] - 7s 848ms/step - loss: 0.0962 - accuracy: 0.9668 - val_loss: 0.0888 - val_accuracy: 0.9672\n",
      "Epoch 90/500\n",
      "8/8 [==============================] - 6s 808ms/step - loss: 0.0621 - accuracy: 0.9809 - val_loss: 0.1697 - val_accuracy: 0.9344\n",
      "Epoch 91/500\n",
      "8/8 [==============================] - 7s 871ms/step - loss: 0.0919 - accuracy: 0.9536 - val_loss: 0.1099 - val_accuracy: 0.9672\n",
      "Epoch 92/500\n",
      "8/8 [==============================] - 7s 880ms/step - loss: 0.0538 - accuracy: 0.9852 - val_loss: 0.1341 - val_accuracy: 0.9672\n",
      "Epoch 93/500\n",
      "8/8 [==============================] - 7s 913ms/step - loss: 0.0867 - accuracy: 0.9798 - val_loss: 0.1360 - val_accuracy: 0.9508\n",
      "Epoch 94/500\n",
      "8/8 [==============================] - 7s 925ms/step - loss: 0.0742 - accuracy: 0.9566 - val_loss: 0.1349 - val_accuracy: 0.9672\n",
      "Epoch 95/500\n",
      "8/8 [==============================] - 7s 859ms/step - loss: 0.0879 - accuracy: 0.9597 - val_loss: 0.2215 - val_accuracy: 0.9344\n",
      "Epoch 96/500\n",
      "8/8 [==============================] - 7s 888ms/step - loss: 0.1173 - accuracy: 0.9665 - val_loss: 0.1235 - val_accuracy: 0.9672\n",
      "Epoch 97/500\n",
      "8/8 [==============================] - 7s 826ms/step - loss: 0.0573 - accuracy: 0.9856 - val_loss: 0.0828 - val_accuracy: 0.9836\n",
      "Epoch 98/500\n",
      "8/8 [==============================] - 7s 889ms/step - loss: 0.1218 - accuracy: 0.9663 - val_loss: 0.0871 - val_accuracy: 0.9672\n",
      "Epoch 99/500\n",
      "8/8 [==============================] - 7s 892ms/step - loss: 0.0768 - accuracy: 0.9836 - val_loss: 0.1006 - val_accuracy: 0.9672\n",
      "Epoch 100/500\n",
      "8/8 [==============================] - 7s 847ms/step - loss: 0.0469 - accuracy: 0.9809 - val_loss: 0.0903 - val_accuracy: 0.9672\n",
      "Epoch 101/500\n",
      "8/8 [==============================] - 7s 836ms/step - loss: 0.0784 - accuracy: 0.9711 - val_loss: 0.1045 - val_accuracy: 0.9672\n",
      "Epoch 102/500\n",
      "8/8 [==============================] - 7s 870ms/step - loss: 0.0320 - accuracy: 0.9859 - val_loss: 0.1342 - val_accuracy: 0.9508\n",
      "Epoch 00102: early stopping\n",
      "Wall time: 10min 50s\n"
     ]
    },
    {
     "data": {
      "text/plain": [
       "<tensorflow.python.keras.callbacks.History at 0x1f5c75eda08>"
      ]
     },
     "execution_count": 27,
     "metadata": {},
     "output_type": "execute_result"
    }
   ],
   "source": [
    "# auf Colab haben wir GPU support angeschaltet, d.h. auch dieses Training kann sehr schnell gehen\n",
    "# auf einem lokalen Recher ohne GPU kann sowas aber locker 2 Stunden oder mehr laufen\n",
    "# BATCH_SIZE = 500\n",
    "BATCH_SIZE = 32\n",
    "%time model.fit(X_train, y_train, epochs=500, batch_size=BATCH_SIZE, validation_split=0.2, callbacks=[early_stopping_callback])"
   ]
  },
  {
   "cell_type": "markdown",
   "metadata": {
    "colab_type": "text",
    "id": "o7UDsN7npoQw"
   },
   "source": [
    "# Bewertung"
   ]
  },
  {
   "cell_type": "code",
   "execution_count": 28,
   "metadata": {
    "colab": {
     "base_uri": "https://localhost:8080/",
     "height": 51
    },
    "colab_type": "code",
    "id": "I7KhwcBOpoQw",
    "outputId": "ea955684-1b7b-4409-9132-90d9e92fcaf5"
   },
   "outputs": [
    {
     "name": "stdout",
     "output_type": "stream",
     "text": [
      "10/10 [==============================] - 2s 173ms/step - loss: 0.0357 - accuracy: 0.9901\n"
     ]
    },
    {
     "data": {
      "text/plain": [
       "(0.035718996077775955, 0.9900990128517151)"
      ]
     },
     "execution_count": 28,
     "metadata": {},
     "output_type": "execute_result"
    }
   ],
   "source": [
    "train_loss, train_accuracy = model.evaluate(X_train, y_train, batch_size=BATCH_SIZE)\n",
    "train_loss, train_accuracy"
   ]
  },
  {
   "cell_type": "code",
   "execution_count": 29,
   "metadata": {
    "colab": {
     "base_uri": "https://localhost:8080/",
     "height": 51
    },
    "colab_type": "code",
    "id": "O5DtJ2jcpoQy",
    "outputId": "e296028c-7dad-45b5-ee40-3730deba1019"
   },
   "outputs": [
    {
     "name": "stdout",
     "output_type": "stream",
     "text": [
      "3/3 [==============================] - 0s 131ms/step - loss: 0.1311 - accuracy: 0.9474\n"
     ]
    },
    {
     "data": {
      "text/plain": [
       "(0.13113290071487427, 0.9473684430122375)"
      ]
     },
     "execution_count": 29,
     "metadata": {},
     "output_type": "execute_result"
    }
   ],
   "source": [
    "test_loss, test_accuracy = model.evaluate(X_test, y_test, batch_size=BATCH_SIZE)\n",
    "test_loss, test_accuracy"
   ]
  },
  {
   "cell_type": "markdown",
   "metadata": {
    "colab_type": "text",
    "id": "MTBpM_1vpoQ1"
   },
   "source": [
    "# Sichern des Modells"
   ]
  },
  {
   "cell_type": "code",
   "execution_count": 30,
   "metadata": {
    "colab": {},
    "colab_type": "code",
    "id": "aCNMOFkepoQ1"
   },
   "outputs": [],
   "source": [
    "!rmdir /s /q models\n",
    "!mkdir models\n",
    "#!rm -r models\n",
    "#!mkdir models"
   ]
  },
  {
   "cell_type": "code",
   "execution_count": 31,
   "metadata": {
    "colab": {},
    "colab_type": "code",
    "id": "bIkgD-XhpoQ3"
   },
   "outputs": [],
   "source": [
    "model.save('models/conv-vgg.hdf5')"
   ]
  },
  {
   "cell_type": "code",
   "execution_count": 32,
   "metadata": {
    "colab": {
     "base_uri": "https://localhost:8080/",
     "height": 51
    },
    "colab_type": "code",
    "id": "ruxkxejrpoQ4",
    "outputId": "8867a515-51a9-462b-91d5-1e120e3a79e2"
   },
   "outputs": [
    {
     "name": "stdout",
     "output_type": "stream",
     "text": [
      " Volume in Laufwerk C: hat keine Bezeichnung.\n",
      " Volumeseriennummer: 5ED5-9136\n",
      "\n",
      " Verzeichnis von C:\\Users\\kleme\\Python-Programme\\ML_Intro\\models\n",
      "\n",
      "10.03.2022  10:51    <DIR>          .\n",
      "10.03.2022  10:51    <DIR>          ..\n",
      "10.03.2022  10:51        57.540.480 conv-vgg.hdf5\n",
      "               1 Datei(en),     57.540.480 Bytes\n",
      "               2 Verzeichnis(se), 575.480.303.616 Bytes frei\n"
     ]
    }
   ],
   "source": [
    "!dir models\n",
    "#!ls -lh models"
   ]
  },
  {
   "cell_type": "code",
   "execution_count": 33,
   "metadata": {
    "colab": {},
    "colab_type": "code",
    "id": "rvEl_HczpoQ6"
   },
   "outputs": [],
   "source": [
    "# !curl --upload-file ./models/conv-vgg.hdf5 https://transfer.sh/conv-vgg.hdf5"
   ]
  },
  {
   "cell_type": "markdown",
   "metadata": {
    "colab_type": "text",
    "id": "FdOpaYeJpoQ7"
   },
   "source": [
    "# Ausprobieren auf ein paar Test-Daten"
   ]
  },
  {
   "cell_type": "code",
   "execution_count": 34,
   "metadata": {
    "colab": {
     "base_uri": "https://localhost:8080/",
     "height": 34
    },
    "colab_type": "code",
    "id": "Ocg1wPvOpoQ8",
    "outputId": "d33888e8-0954-4f6e-ddd1-8a9d10eb0660"
   },
   "outputs": [
    {
     "data": {
      "text/plain": [
       "array([5, 2, 0, 5, 0, 5, 2, 1, 0, 5], dtype=int64)"
      ]
     },
     "execution_count": 34,
     "metadata": {},
     "output_type": "execute_result"
    }
   ],
   "source": [
    "import random\n",
    "\n",
    "# Pick 10 random images for test data set\n",
    "random.seed(3) # to make this deterministic\n",
    "sample_indexes = random.sample(range(len(X_test)), 10)\n",
    "sample_images = [X_test[i] for i in sample_indexes]\n",
    "sample_labels = [y_test[i] for i in sample_indexes]\n",
    "\n",
    "ground_truth = np.argmax(sample_labels, axis=1)\n",
    "\n",
    "X_sample = np.array(sample_images)\n",
    "prediction = model.predict(X_sample)\n",
    "predicted_categories = np.argmax(prediction, axis=1)\n",
    "predicted_categories"
   ]
  },
  {
   "cell_type": "code",
   "execution_count": 35,
   "metadata": {
    "colab": {},
    "colab_type": "code",
    "id": "pWp-26pBpoQ9"
   },
   "outputs": [],
   "source": [
    "# Display the predictions and the ground truth visually.\n",
    "def display_prediction (images, true_labels, predicted_labels):\n",
    "    fig = plt.figure(figsize=(10, 10))\n",
    "    for i in range(len(true_labels)):\n",
    "        truth = true_labels[i]\n",
    "        prediction = predicted_labels[i]\n",
    "        plt.subplot(5, 2,1+i)\n",
    "        plt.axis('off')\n",
    "        color='green' if truth == prediction else 'red'\n",
    "        plt.text(80, 10, \"Truth:        {0}\\nPrediction: {1}\".format(truth, prediction), \n",
    "                 fontsize=12, color=color)\n",
    "        plt.imshow(images[i])"
   ]
  },
  {
   "cell_type": "code",
   "execution_count": 36,
   "metadata": {
    "colab": {
     "base_uri": "https://localhost:8080/",
     "height": 584
    },
    "colab_type": "code",
    "id": "nv5nUf4IpoQ_",
    "outputId": "8e76a28a-43e6-41ac-99b6-34e64f22cf20"
   },
   "outputs": [
    {
     "data": {
      "image/png": "[encoded data removed]",
      "text/plain": [
       "<Figure size 720x720 with 10 Axes>"
      ]
     },
     "metadata": {
      "needs_background": "light"
     },
     "output_type": "display_data"
    }
   ],
   "source": [
    "display_prediction(sample_images, ground_truth, predicted_categories)"
   ]
  }
 ],
 "metadata": {
  "accelerator": "GPU",
  "colab": {
   "include_colab_link": true,
   "name": "kap7-cnn.ipynb",
   "provenance": []
  },
  "kernelspec": {
   "display_name": "Python 3 (ipykernel)",
   "language": "python",
   "name": "python3"
  },
  "language_info": {
   "codemirror_mode": {
    "name": "ipython",
    "version": 3
   },
   "file_extension": ".py",
   "mimetype": "text/x-python",
   "name": "python",
   "nbconvert_exporter": "python",
   "pygments_lexer": "ipython3",
   "version": "3.7.11"
  }
 },
 "nbformat": 4,
 "nbformat_minor": 1
}
