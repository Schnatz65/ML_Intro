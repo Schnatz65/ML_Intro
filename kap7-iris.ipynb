{
 "cells": [
  {
   "cell_type": "markdown",
   "metadata": {
    "colab_type": "text",
    "id": "v4eRosoGpl8_"
   },
   "source": [
    "# Kapitel 7: Neuronale Netzwerke - Grundlagen"
   ]
  },
  {
   "cell_type": "code",
   "execution_count": 1,
   "metadata": {
    "colab": {},
    "colab_type": "code",
    "id": "KYbHMTMjpl8_"
   },
   "outputs": [],
   "source": [
    "import warnings\n",
    "warnings.filterwarnings('ignore')"
   ]
  },
  {
   "cell_type": "code",
   "execution_count": 2,
   "metadata": {
    "colab": {
     "base_uri": "https://localhost:8080/",
     "height": 34
    },
    "colab_type": "code",
    "id": "83Ttu0Pnpl9D",
    "outputId": "85822c65-8551-41f3-9bf1-ea0dfc9291f6"
   },
   "outputs": [
    {
     "name": "stdout",
     "output_type": "stream",
     "text": [
      "Populating the interactive namespace from numpy and matplotlib\n"
     ]
    }
   ],
   "source": [
    "%matplotlib inline\n",
    "%pylab inline"
   ]
  },
  {
   "cell_type": "code",
   "execution_count": 3,
   "metadata": {
    "colab": {},
    "colab_type": "code",
    "id": "rJ1DvBlApl9G"
   },
   "outputs": [],
   "source": [
    "import matplotlib.pylab as plt\n",
    "import numpy as np"
   ]
  },
  {
   "cell_type": "code",
   "execution_count": 4,
   "metadata": {
    "colab": {},
    "colab_type": "code",
    "id": "g0rvxIp4pl9J"
   },
   "outputs": [],
   "source": [
    "colors = 'bwr'#['b','y','r']\n",
    "CMAP = colors#plt.cm.rainbow"
   ]
  },
  {
   "cell_type": "code",
   "execution_count": 5,
   "metadata": {
    "colab": {
     "base_uri": "https://localhost:8080/",
     "height": 34
    },
    "colab_type": "code",
    "id": "n5AGdJTFpl9N",
    "outputId": "0b1b66a4-ee5b-4b89-c789-5ca2e27f31f4"
   },
   "outputs": [
    {
     "name": "stdout",
     "output_type": "stream",
     "text": [
      "1.0.2\n"
     ]
    }
   ],
   "source": [
    "import sklearn\n",
    "print(sklearn.__version__)"
   ]
  },
  {
   "cell_type": "code",
   "execution_count": 6,
   "metadata": {
    "colab": {
     "base_uri": "https://localhost:8080/",
     "height": 34
    },
    "colab_type": "code",
    "id": "f5bwPx-ipl9P",
    "outputId": "49d8eea1-8c56-439a-f5bc-a82f32e6b6aa"
   },
   "outputs": [
    {
     "name": "stdout",
     "output_type": "stream",
     "text": [
      "2.4.0\n"
     ]
    }
   ],
   "source": [
    "import tensorflow as tf\n",
    "print(tf.__version__)"
   ]
  },
  {
   "cell_type": "code",
   "execution_count": 7,
   "metadata": {
    "colab": {
     "base_uri": "https://localhost:8080/",
     "height": 34
    },
    "colab_type": "code",
    "id": "ssBE6lbypl9S",
    "outputId": "92738183-eed5-40d3-ccf6-f0d3e4e810af"
   },
   "outputs": [
    {
     "name": "stdout",
     "output_type": "stream",
     "text": [
      "2.4.0\n"
     ]
    },
    {
     "name": "stderr",
     "output_type": "stream",
     "text": [
      "Using TensorFlow backend.\n"
     ]
    }
   ],
   "source": [
    "import keras\n",
    "print(keras.__version__)"
   ]
  },
  {
   "cell_type": "code",
   "execution_count": 8,
   "metadata": {
    "colab": {
     "base_uri": "https://localhost:8080/",
     "height": 34
    },
    "colab_type": "code",
    "id": "_9-yW3Skpl9V",
    "outputId": "19437069-f13b-4c88-f89b-e4635850f0e2"
   },
   "outputs": [
    {
     "name": "stdout",
     "output_type": "stream",
     "text": [
      "1.3.5\n"
     ]
    }
   ],
   "source": [
    "import pandas as pd\n",
    "print(pd.__version__)"
   ]
  },
  {
   "cell_type": "markdown",
   "metadata": {
    "colab_type": "text",
    "id": "lKGPNR5Vpl9Y"
   },
   "source": [
    "## Iris mit Neuronalen Netzwerken"
   ]
  },
  {
   "cell_type": "code",
   "execution_count": 9,
   "metadata": {
    "colab": {},
    "colab_type": "code",
    "id": "5h7LeQWFpl9Y"
   },
   "outputs": [],
   "source": [
    "from sklearn.datasets import load_iris\n",
    "iris = load_iris()"
   ]
  },
  {
   "cell_type": "code",
   "execution_count": 10,
   "metadata": {
    "colab": {
     "base_uri": "https://localhost:8080/",
     "height": 1000
    },
    "colab_type": "code",
    "id": "FtNqwr6Gpl9a",
    "outputId": "0caf111b-fe2f-4113-987b-ef3bdaf81934"
   },
   "outputs": [
    {
     "name": "stdout",
     "output_type": "stream",
     "text": [
      ".. _iris_dataset:\n",
      "\n",
      "Iris plants dataset\n",
      "--------------------\n",
      "\n",
      "**Data Set Characteristics:**\n",
      "\n",
      "    :Number of Instances: 150 (50 in each of three classes)\n",
      "    :Number of Attributes: 4 numeric, predictive attributes and the class\n",
      "    :Attribute Information:\n",
      "        - sepal length in cm\n",
      "        - sepal width in cm\n",
      "        - petal length in cm\n",
      "        - petal width in cm\n",
      "        - class:\n",
      "                - Iris-Setosa\n",
      "                - Iris-Versicolour\n",
      "                - Iris-Virginica\n",
      "                \n",
      "    :Summary Statistics:\n",
      "\n",
      "    ============== ==== ==== ======= ===== ====================\n",
      "                    Min  Max   Mean    SD   Class Correlation\n",
      "    ============== ==== ==== ======= ===== ====================\n",
      "    sepal length:   4.3  7.9   5.84   0.83    0.7826\n",
      "    sepal width:    2.0  4.4   3.05   0.43   -0.4194\n",
      "    petal length:   1.0  6.9   3.76   1.76    0.9490  (high!)\n",
      "    petal width:    0.1  2.5   1.20   0.76    0.9565  (high!)\n",
      "    ============== ==== ==== ======= ===== ====================\n",
      "\n",
      "    :Missing Attribute Values: None\n",
      "    :Class Distribution: 33.3% for each of 3 classes.\n",
      "    :Creator: R.A. Fisher\n",
      "    :Donor: Michael Marshall (MARSHALL%PLU@io.arc.nasa.gov)\n",
      "    :Date: July, 1988\n",
      "\n",
      "The famous Iris database, first used by Sir R.A. Fisher. The dataset is taken\n",
      "from Fisher's paper. Note that it's the same as in R, but not as in the UCI\n",
      "Machine Learning Repository, which has two wrong data points.\n",
      "\n",
      "This is perhaps the best known database to be found in the\n",
      "pattern recognition literature.  Fisher's paper is a classic in the field and\n",
      "is referenced frequently to this day.  (See Duda & Hart, for example.)  The\n",
      "data set contains 3 classes of 50 instances each, where each class refers to a\n",
      "type of iris plant.  One class is linearly separable from the other 2; the\n",
      "latter are NOT linearly separable from each other.\n",
      "\n",
      ".. topic:: References\n",
      "\n",
      "   - Fisher, R.A. \"The use of multiple measurements in taxonomic problems\"\n",
      "     Annual Eugenics, 7, Part II, 179-188 (1936); also in \"Contributions to\n",
      "     Mathematical Statistics\" (John Wiley, NY, 1950).\n",
      "   - Duda, R.O., & Hart, P.E. (1973) Pattern Classification and Scene Analysis.\n",
      "     (Q327.D83) John Wiley & Sons.  ISBN 0-471-22361-1.  See page 218.\n",
      "   - Dasarathy, B.V. (1980) \"Nosing Around the Neighborhood: A New System\n",
      "     Structure and Classification Rule for Recognition in Partially Exposed\n",
      "     Environments\".  IEEE Transactions on Pattern Analysis and Machine\n",
      "     Intelligence, Vol. PAMI-2, No. 1, 67-71.\n",
      "   - Gates, G.W. (1972) \"The Reduced Nearest Neighbor Rule\".  IEEE Transactions\n",
      "     on Information Theory, May 1972, 431-433.\n",
      "   - See also: 1988 MLC Proceedings, 54-64.  Cheeseman et al\"s AUTOCLASS II\n",
      "     conceptual clustering system finds 3 classes in the data.\n",
      "   - Many, many more ...\n"
     ]
    }
   ],
   "source": [
    "print(iris.DESCR)"
   ]
  },
  {
   "cell_type": "code",
   "execution_count": 11,
   "metadata": {
    "colab": {
     "base_uri": "https://localhost:8080/",
     "height": 1000
    },
    "colab_type": "code",
    "id": "LEmm7Weipl9d",
    "outputId": "9fe728e2-2ea0-486c-e520-a3e958b7b3d4"
   },
   "outputs": [
    {
     "data": {
      "text/plain": [
       "array([[<matplotlib.axes._subplots.AxesSubplot object at 0x0000027CD3295288>,\n",
       "        <matplotlib.axes._subplots.AxesSubplot object at 0x0000027CD32DE4C8>,\n",
       "        <matplotlib.axes._subplots.AxesSubplot object at 0x0000027CD3311188>,\n",
       "        <matplotlib.axes._subplots.AxesSubplot object at 0x0000027CD3338E08>],\n",
       "       [<matplotlib.axes._subplots.AxesSubplot object at 0x0000027CD3369AC8>,\n",
       "        <matplotlib.axes._subplots.AxesSubplot object at 0x0000027CD339A7C8>,\n",
       "        <matplotlib.axes._subplots.AxesSubplot object at 0x0000027CD33C9488>,\n",
       "        <matplotlib.axes._subplots.AxesSubplot object at 0x0000027CD33F9108>],\n",
       "       [<matplotlib.axes._subplots.AxesSubplot object at 0x0000027CD3421D88>,\n",
       "        <matplotlib.axes._subplots.AxesSubplot object at 0x0000027CD3452988>,\n",
       "        <matplotlib.axes._subplots.AxesSubplot object at 0x0000027CD3482648>,\n",
       "        <matplotlib.axes._subplots.AxesSubplot object at 0x0000027CD34B2308>],\n",
       "       [<matplotlib.axes._subplots.AxesSubplot object at 0x0000027CD34DBF88>,\n",
       "        <matplotlib.axes._subplots.AxesSubplot object at 0x0000027CD350CC48>,\n",
       "        <matplotlib.axes._subplots.AxesSubplot object at 0x0000027CD353B908>,\n",
       "        <matplotlib.axes._subplots.AxesSubplot object at 0x0000027CD356B5C8>]],\n",
       "      dtype=object)"
      ]
     },
     "execution_count": 11,
     "metadata": {},
     "output_type": "execute_result"
    },
    {
     "data": {
      "image/png": "[encoded data removed]",
      "text/plain": [
       "<Figure size 1440x1440 with 16 Axes>"
      ]
     },
     "metadata": {
      "needs_background": "light"
     },
     "output_type": "display_data"
    }
   ],
   "source": [
    "iris_df = pd.DataFrame(iris.data, columns=iris.feature_names)\n",
    "pd.plotting.scatter_matrix(iris_df, c=iris.target, cmap=CMAP, edgecolor='black', figsize=(20, 20))"
   ]
  },
  {
   "cell_type": "code",
   "execution_count": 12,
   "metadata": {
    "colab": {},
    "colab_type": "code",
    "id": "oa3iYStkpl9f"
   },
   "outputs": [],
   "source": [
    "# plt.savefig('ML_0701.png', bbox_inches='tight')"
   ]
  },
  {
   "cell_type": "markdown",
   "metadata": {
    "colab_type": "text",
    "id": "c-exG806pl9g"
   },
   "source": [
    "## Das künstliche Neuron"
   ]
  },
  {
   "cell_type": "code",
   "execution_count": 13,
   "metadata": {
    "colab": {},
    "colab_type": "code",
    "id": "PrYfSutGpl9h"
   },
   "outputs": [],
   "source": [
    "w0 = 3\n",
    "w1 = -4\n",
    "w2 = 2\n",
    "\n",
    "def neuron_no_activation(x1, x2):\n",
    "    sum = w0 + x1 * w1 + x2 * w2\n",
    "    return sum"
   ]
  },
  {
   "cell_type": "code",
   "execution_count": 14,
   "metadata": {
    "colab": {
     "base_uri": "https://localhost:8080/",
     "height": 34
    },
    "colab_type": "code",
    "id": "Yhw0DMUWpl9j",
    "outputId": "dcc8b20c-be1b-43b6-c60c-2c130cfd3c5b"
   },
   "outputs": [
    {
     "data": {
      "text/plain": [
       "array([5.1, 3.5, 1.4, 0.2])"
      ]
     },
     "execution_count": 14,
     "metadata": {},
     "output_type": "execute_result"
    }
   ],
   "source": [
    "iris.data[0]"
   ]
  },
  {
   "cell_type": "code",
   "execution_count": 15,
   "metadata": {
    "colab": {
     "base_uri": "https://localhost:8080/",
     "height": 34
    },
    "colab_type": "code",
    "id": "rVqDyYWKpl9l",
    "outputId": "4208fc66-5604-4799-e353-65e52fea9e98"
   },
   "outputs": [
    {
     "data": {
      "text/plain": [
       "-10.399999999999999"
      ]
     },
     "execution_count": 15,
     "metadata": {},
     "output_type": "execute_result"
    }
   ],
   "source": [
    "neuron_no_activation(5.1, 3.5)"
   ]
  },
  {
   "cell_type": "markdown",
   "metadata": {
    "colab_type": "text",
    "id": "TpcxmzDspl9o"
   },
   "source": [
    "### Activation Functions"
   ]
  },
  {
   "cell_type": "code",
   "execution_count": 16,
   "metadata": {
    "colab": {},
    "colab_type": "code",
    "id": "wP80A7hkpl9o"
   },
   "outputs": [],
   "source": [
    "def centerAxis(uses_negative=False):\n",
    "    # http://matplotlib.org/api/pyplot_api.html#matplotlib.pyplot.plot\n",
    "    ax = plt.gca()\n",
    "    ax.spines['left'].set_position('center')\n",
    "    if uses_negative:\n",
    "        ax.spines['bottom'].set_position('center')\n",
    "    ax.spines['right'].set_color('none')\n",
    "    ax.spines['top'].set_color('none')\n",
    "    ax.xaxis.set_ticks_position('bottom')\n",
    "    ax.yaxis.set_ticks_position('left')"
   ]
  },
  {
   "cell_type": "markdown",
   "metadata": {
    "colab_type": "text",
    "id": "yNq7ZiU0pl9r"
   },
   "source": [
    "#### Step Function: abrupter, nicht stetig differenzierbarer Übergang zwischen 0 und 1"
   ]
  },
  {
   "cell_type": "code",
   "execution_count": 17,
   "metadata": {
    "colab": {},
    "colab_type": "code",
    "id": "ZqUtjXQ1pl9r"
   },
   "outputs": [],
   "source": [
    "def np_step(X):\n",
    "    return 0.5 * (np.sign(X) + 1)"
   ]
  },
  {
   "cell_type": "code",
   "execution_count": 18,
   "metadata": {
    "colab": {
     "base_uri": "https://localhost:8080/",
     "height": 282
    },
    "colab_type": "code",
    "id": "BIBsOI4epl9t",
    "outputId": "f6676a2a-0eda-4b1f-b4ee-a9aab2298c2d"
   },
   "outputs": [
    {
     "data": {
      "text/plain": [
       "[<matplotlib.lines.Line2D at 0x27cd5077708>]"
      ]
     },
     "execution_count": 18,
     "metadata": {},
     "output_type": "execute_result"
    },
    {
     "data": {
      "image/png": "[encoded data removed]",
      "text/plain": [
       "<Figure size 432x288 with 1 Axes>"
      ]
     },
     "metadata": {
      "needs_background": "light"
     },
     "output_type": "display_data"
    }
   ],
   "source": [
    "x = np.arange(-10,10,0.01)\n",
    "y = np_step(x)\n",
    "\n",
    "centerAxis()\n",
    "plt.plot(x, y, lw=3)"
   ]
  },
  {
   "cell_type": "markdown",
   "metadata": {
    "colab_type": "text",
    "id": "trtAvxTmpl9w"
   },
   "source": [
    "#### Sigmoid Function: Fließender Übergang zwischen 0 und 1"
   ]
  },
  {
   "cell_type": "code",
   "execution_count": 19,
   "metadata": {
    "colab": {},
    "colab_type": "code",
    "id": "BN8Y7fXPpl9x"
   },
   "outputs": [],
   "source": [
    "def np_sigmoid(X):\n",
    "    return 1 / (1 + np.exp(X * -1))"
   ]
  },
  {
   "cell_type": "code",
   "execution_count": 20,
   "metadata": {
    "colab": {
     "base_uri": "https://localhost:8080/",
     "height": 282
    },
    "colab_type": "code",
    "id": "HyC7OoVnpl9z",
    "outputId": "bc6f637c-c76a-4afd-89bc-2f27b6622948"
   },
   "outputs": [
    {
     "data": {
      "text/plain": [
       "[<matplotlib.lines.Line2D at 0x27cd48366c8>]"
      ]
     },
     "execution_count": 20,
     "metadata": {},
     "output_type": "execute_result"
    },
    {
     "data": {
      "image/png": "[encoded data removed]",
      "text/plain": [
       "<Figure size 432x288 with 1 Axes>"
      ]
     },
     "metadata": {
      "needs_background": "light"
     },
     "output_type": "display_data"
    }
   ],
   "source": [
    "x = np.arange(-10,10,0.01)\n",
    "y = np_sigmoid(x)\n",
    "\n",
    "centerAxis()\n",
    "plt.plot(x,y,lw=3)"
   ]
  },
  {
   "cell_type": "markdown",
   "metadata": {
    "colab_type": "text",
    "id": "WAsTI6Chpl91"
   },
   "source": [
    "#### Tangens Hyperbolicus Function: Fließender Übergang zwischen -1 und 1"
   ]
  },
  {
   "cell_type": "code",
   "execution_count": 21,
   "metadata": {
    "colab": {
     "base_uri": "https://localhost:8080/",
     "height": 282
    },
    "colab_type": "code",
    "id": "_WDP-00Lpl92",
    "outputId": "b9014b7e-a164-4e50-bec4-76d1a0071941"
   },
   "outputs": [
    {
     "data": {
      "text/plain": [
       "[<matplotlib.lines.Line2D at 0x27cd489c708>]"
      ]
     },
     "execution_count": 21,
     "metadata": {},
     "output_type": "execute_result"
    },
    {
     "data": {
      "image/png": "[encoded data removed]",
      "text/plain": [
       "<Figure size 432x288 with 1 Axes>"
      ]
     },
     "metadata": {
      "needs_background": "light"
     },
     "output_type": "display_data"
    }
   ],
   "source": [
    "x = np.arange(-10,10,0.01)\n",
    "y = np.tanh(x)\n",
    "\n",
    "centerAxis()\n",
    "plt.plot(x,y,lw=3)"
   ]
  },
  {
   "cell_type": "markdown",
   "metadata": {
    "colab_type": "text",
    "id": "JWZW6pkrpl95"
   },
   "source": [
    "#### Relu: Einfach zu berechnen, setzt kompletten negativen Wertebereich auf 0"
   ]
  },
  {
   "cell_type": "code",
   "execution_count": 22,
   "metadata": {
    "colab": {},
    "colab_type": "code",
    "id": "6LTGgI99pl96"
   },
   "outputs": [],
   "source": [
    "def np_relu(x):\n",
    "    return np.maximum(0, x)"
   ]
  },
  {
   "cell_type": "code",
   "execution_count": 23,
   "metadata": {
    "colab": {
     "base_uri": "https://localhost:8080/",
     "height": 282
    },
    "colab_type": "code",
    "id": "mqtXbFQvpl98",
    "outputId": "b560795b-7df1-412f-a8b3-726a99006aff"
   },
   "outputs": [
    {
     "data": {
      "text/plain": [
       "[<matplotlib.lines.Line2D at 0x27cd490abc8>]"
      ]
     },
     "execution_count": 23,
     "metadata": {},
     "output_type": "execute_result"
    },
    {
     "data": {
      "image/png": "[encoded data removed]",
      "text/plain": [
       "<Figure size 432x288 with 1 Axes>"
      ]
     },
     "metadata": {
      "needs_background": "light"
     },
     "output_type": "display_data"
    }
   ],
   "source": [
    "x = np.arange(-10,10,0.01)\n",
    "y = np_relu(x)\n",
    "\n",
    "centerAxis()\n",
    "plt.plot(x,y,lw=3)"
   ]
  },
  {
   "cell_type": "code",
   "execution_count": 24,
   "metadata": {
    "colab": {},
    "colab_type": "code",
    "id": "pDcTe_YHpl9-"
   },
   "outputs": [],
   "source": [
    "# https://docs.python.org/3/library/math.html\n",
    "import math as math\n",
    "def sigmoid(x):\n",
    "    return 1 / (1 + math.exp(x * -1))\n",
    "\n",
    "w0 = 3\n",
    "w1 = -4\n",
    "w2 = 2\n",
    "\n",
    "def neuron(x1, x2):\n",
    "    sum = w0 + x1 * w1 + x2 * w2\n",
    "    return sigmoid(sum)"
   ]
  },
  {
   "cell_type": "code",
   "execution_count": 25,
   "metadata": {
    "colab": {
     "base_uri": "https://localhost:8080/",
     "height": 34
    },
    "colab_type": "code",
    "id": "8jQTVmi6pl-A",
    "outputId": "e7ce10f8-c0a0-43c5-971c-6dd870ee5649"
   },
   "outputs": [
    {
     "data": {
      "text/plain": [
       "3.043155690056538e-05"
      ]
     },
     "execution_count": 25,
     "metadata": {},
     "output_type": "execute_result"
    }
   ],
   "source": [
    "neuron(5.1, 3.5)"
   ]
  },
  {
   "cell_type": "code",
   "execution_count": 26,
   "metadata": {
    "colab": {},
    "colab_type": "code",
    "id": "-Ci-Qwh3pl-C"
   },
   "outputs": [],
   "source": [
    "# Version that takes as many values as you like\n",
    "weights_with_bias = np.array([3, -4, 2])\n",
    "def np_neuron(X):\n",
    "    inputs_with_1_for_bias = np.concatenate((np.array([1]), X))\n",
    "    return np_sigmoid(np.sum(inputs_with_1_for_bias*weights_with_bias));"
   ]
  },
  {
   "cell_type": "code",
   "execution_count": 27,
   "metadata": {
    "colab": {
     "base_uri": "https://localhost:8080/",
     "height": 34
    },
    "colab_type": "code",
    "id": "_kIgFmAhpl-F",
    "outputId": "11c1ab58-7f3b-4ce0-818c-b4a5b069ffc8"
   },
   "outputs": [
    {
     "data": {
      "text/plain": [
       "3.043155690056538e-05"
      ]
     },
     "execution_count": 27,
     "metadata": {},
     "output_type": "execute_result"
    }
   ],
   "source": [
    "np_neuron(np.array([5.1, 3.5]))"
   ]
  },
  {
   "cell_type": "markdown",
   "metadata": {
    "colab_type": "text",
    "id": "fcynLtuepl-H"
   },
   "source": [
    "## Unser erste Neuronales Netz mit Keras"
   ]
  },
  {
   "cell_type": "code",
   "execution_count": 28,
   "metadata": {
    "colab": {},
    "colab_type": "code",
    "id": "Uv0NsPfhpl-H"
   },
   "outputs": [],
   "source": [
    "from keras.layers import Input\n",
    "inputs = Input(shape=(4, ))"
   ]
  },
  {
   "cell_type": "code",
   "execution_count": 29,
   "metadata": {
    "colab": {},
    "colab_type": "code",
    "id": "8id5zq2Bpl-K"
   },
   "outputs": [],
   "source": [
    "from keras.layers import Dense\n",
    "fc = Dense(3)(inputs)"
   ]
  },
  {
   "cell_type": "code",
   "execution_count": 30,
   "metadata": {
    "colab": {},
    "colab_type": "code",
    "id": "RiFhyYi3pl-L"
   },
   "outputs": [],
   "source": [
    "from keras.models import Model\n",
    "model = Model(inputs=inputs, outputs=fc)"
   ]
  },
  {
   "cell_type": "code",
   "execution_count": 31,
   "metadata": {
    "colab": {
     "base_uri": "https://localhost:8080/",
     "height": 221
    },
    "colab_type": "code",
    "id": "wKyUqPAupl-N",
    "outputId": "29c0ce17-5d53-4174-cd6b-863383e59ae7"
   },
   "outputs": [
    {
     "name": "stdout",
     "output_type": "stream",
     "text": [
      "Model: \"model\"\n",
      "_________________________________________________________________\n",
      "Layer (type)                 Output Shape              Param #   \n",
      "=================================================================\n",
      "input_1 (InputLayer)         [(None, 4)]               0         \n",
      "_________________________________________________________________\n",
      "dense (Dense)                (None, 3)                 15        \n",
      "=================================================================\n",
      "Total params: 15\n",
      "Trainable params: 15\n",
      "Non-trainable params: 0\n",
      "_________________________________________________________________\n"
     ]
    }
   ],
   "source": [
    "model.summary()"
   ]
  },
  {
   "cell_type": "code",
   "execution_count": 32,
   "metadata": {
    "colab": {},
    "colab_type": "code",
    "id": "lhrAh8GApl-P"
   },
   "outputs": [],
   "source": [
    "model.compile(optimizer='adam',\n",
    "              loss='categorical_crossentropy',\n",
    "              metrics=['accuracy'])"
   ]
  },
  {
   "cell_type": "code",
   "execution_count": 33,
   "metadata": {
    "colab": {
     "base_uri": "https://localhost:8080/",
     "height": 34
    },
    "colab_type": "code",
    "id": "-WcVU5Rgpl-R",
    "outputId": "42dd925d-cc8c-4594-cffb-ed5843f9f511"
   },
   "outputs": [
    {
     "data": {
      "text/plain": [
       "array([[ 4.42523   ,  5.715174  , -0.48006564]], dtype=float32)"
      ]
     },
     "execution_count": 33,
     "metadata": {},
     "output_type": "execute_result"
    }
   ],
   "source": [
    "model.predict(np.array([[ 5.1,  3.5,  1.4,  0.2]]))"
   ]
  },
  {
   "cell_type": "code",
   "execution_count": 34,
   "metadata": {
    "colab": {},
    "colab_type": "code",
    "id": "i1OwT7TWpl-T"
   },
   "outputs": [],
   "source": [
    "inputs = Input(shape=(4, ))\n",
    "fc = Dense(3)(inputs)\n",
    "predictions = Dense(3, activation='softmax')(fc)\n",
    "model = Model(inputs=inputs, outputs=predictions)"
   ]
  },
  {
   "cell_type": "code",
   "execution_count": 35,
   "metadata": {
    "colab": {
     "base_uri": "https://localhost:8080/",
     "height": 255
    },
    "colab_type": "code",
    "id": "KTxUA8jOpl-X",
    "outputId": "f404a16b-f8f0-417b-f768-87548a4328d1"
   },
   "outputs": [
    {
     "name": "stdout",
     "output_type": "stream",
     "text": [
      "Model: \"model_1\"\n",
      "_________________________________________________________________\n",
      "Layer (type)                 Output Shape              Param #   \n",
      "=================================================================\n",
      "input_2 (InputLayer)         [(None, 4)]               0         \n",
      "_________________________________________________________________\n",
      "dense_1 (Dense)              (None, 3)                 15        \n",
      "_________________________________________________________________\n",
      "dense_2 (Dense)              (None, 3)                 12        \n",
      "=================================================================\n",
      "Total params: 27\n",
      "Trainable params: 27\n",
      "Non-trainable params: 0\n",
      "_________________________________________________________________\n"
     ]
    }
   ],
   "source": [
    "model.summary()"
   ]
  },
  {
   "cell_type": "code",
   "execution_count": 36,
   "metadata": {
    "colab": {},
    "colab_type": "code",
    "id": "mGszqEMDpl-a"
   },
   "outputs": [],
   "source": [
    "model.compile(optimizer='adam',\n",
    "              loss='categorical_crossentropy',\n",
    "              metrics=['accuracy'])"
   ]
  },
  {
   "cell_type": "code",
   "execution_count": 37,
   "metadata": {
    "colab": {
     "base_uri": "https://localhost:8080/",
     "height": 34
    },
    "colab_type": "code",
    "id": "MI_BdRKbpl-c",
    "outputId": "a1b7dcd4-05ac-46bc-b813-bc3ea1f2f1d4"
   },
   "outputs": [
    {
     "data": {
      "text/plain": [
       "array([[0.4975115 , 0.08040008, 0.42208847]], dtype=float32)"
      ]
     },
     "execution_count": 37,
     "metadata": {},
     "output_type": "execute_result"
    }
   ],
   "source": [
    "model.predict(np.array([[ 5.1,  3.5,  1.4,  0.2]]))"
   ]
  },
  {
   "cell_type": "markdown",
   "metadata": {
    "colab_type": "text",
    "collapsed": true,
    "id": "sdoL_Z7bpl-e"
   },
   "source": [
    "# Training"
   ]
  },
  {
   "cell_type": "code",
   "execution_count": 38,
   "metadata": {
    "colab": {
     "base_uri": "https://localhost:8080/",
     "height": 34
    },
    "colab_type": "code",
    "id": "fQ1oRcd-pl-e",
    "outputId": "e2597cc0-5451-48da-f469-42d0fe6884e3"
   },
   "outputs": [
    {
     "data": {
      "text/plain": [
       "((150, 4), (150,))"
      ]
     },
     "execution_count": 38,
     "metadata": {},
     "output_type": "execute_result"
    }
   ],
   "source": [
    "X = np.array(iris.data)\n",
    "y = np.array(iris.target)\n",
    "X.shape, y.shape"
   ]
  },
  {
   "cell_type": "code",
   "execution_count": 39,
   "metadata": {
    "colab": {
     "base_uri": "https://localhost:8080/",
     "height": 34
    },
    "colab_type": "code",
    "id": "c4LEAqRlpl-h",
    "outputId": "db3f7986-2b35-45d7-b081-30475080d3a8"
   },
   "outputs": [
    {
     "data": {
      "text/plain": [
       "2"
      ]
     },
     "execution_count": 39,
     "metadata": {},
     "output_type": "execute_result"
    }
   ],
   "source": [
    "y[100]"
   ]
  },
  {
   "cell_type": "code",
   "execution_count": 40,
   "metadata": {
    "colab": {},
    "colab_type": "code",
    "id": "-2gMaXFGpl-m"
   },
   "outputs": [],
   "source": [
    "from keras.utils.np_utils import to_categorical\n",
    "\n",
    "num_categories = 3\n",
    "\n",
    "y = to_categorical(y, num_categories)"
   ]
  },
  {
   "cell_type": "code",
   "execution_count": 41,
   "metadata": {
    "colab": {
     "base_uri": "https://localhost:8080/",
     "height": 34
    },
    "colab_type": "code",
    "id": "_GdCZmogpl-o",
    "outputId": "9b966b62-bff3-4274-bb14-12b4dab702e7"
   },
   "outputs": [
    {
     "data": {
      "text/plain": [
       "array([0., 0., 1.], dtype=float32)"
      ]
     },
     "execution_count": 41,
     "metadata": {},
     "output_type": "execute_result"
    }
   ],
   "source": [
    "y[100]"
   ]
  },
  {
   "cell_type": "code",
   "execution_count": 42,
   "metadata": {
    "colab": {},
    "colab_type": "code",
    "id": "TJL9v7tQpl-r"
   },
   "outputs": [],
   "source": [
    "from sklearn.model_selection import train_test_split\n",
    "X_train, X_test, y_train, y_test = train_test_split(X, y, test_size=0.20, random_state=42, stratify=y)"
   ]
  },
  {
   "cell_type": "code",
   "execution_count": 43,
   "metadata": {
    "colab": {
     "base_uri": "https://localhost:8080/",
     "height": 34
    },
    "colab_type": "code",
    "id": "2W10jFK_pl-t",
    "outputId": "cf0f8104-5b4c-410d-fe9b-bfafde834311"
   },
   "outputs": [
    {
     "data": {
      "text/plain": [
       "((120, 4), (30, 4), (120, 3), (30, 3))"
      ]
     },
     "execution_count": 43,
     "metadata": {},
     "output_type": "execute_result"
    }
   ],
   "source": [
    "X_train.shape, X_test.shape, y_train.shape, y_test.shape"
   ]
  },
  {
   "cell_type": "code",
   "execution_count": 44,
   "metadata": {
    "colab": {},
    "colab_type": "code",
    "id": "JNNf0b4kpl-w"
   },
   "outputs": [],
   "source": [
    "# !rm -r tf_log\n",
    "\n",
    "# https://keras.io/callbacks/#tensorboard\n",
    "# tb_callback = keras.callbacks.TensorBoard(log_dir='./tf_log')\n",
    "# To start tensorboard\n",
    "# tensorboard --logdir=/mnt/c/Users/olive/Development/ml/tf_log\n",
    "# open http://localhost:6006"
   ]
  },
  {
   "cell_type": "code",
   "execution_count": 45,
   "metadata": {
    "colab": {
     "base_uri": "https://localhost:8080/",
     "height": 1000
    },
    "colab_type": "code",
    "id": "Px5unIxQpl-0",
    "outputId": "aeaeb4c7-e800-4fa2-b98b-3bcaa0881dd8"
   },
   "outputs": [
    {
     "name": "stdout",
     "output_type": "stream",
     "text": [
      "Epoch 1/500\n",
      "3/3 [==============================] - 2s 494ms/step - loss: 1.7977 - accuracy: 0.6596 - val_loss: 1.8237 - val_accuracy: 0.6389\n",
      "Epoch 2/500\n",
      "3/3 [==============================] - 0s 59ms/step - loss: 1.7703 - accuracy: 0.6479 - val_loss: 1.7773 - val_accuracy: 0.6389\n",
      "Epoch 3/500\n",
      "3/3 [==============================] - 0s 64ms/step - loss: 1.5985 - accuracy: 0.6869 - val_loss: 1.7326 - val_accuracy: 0.6389\n",
      "Epoch 4/500\n",
      "3/3 [==============================] - 0s 80ms/step - loss: 1.6346 - accuracy: 0.6596 - val_loss: 1.6879 - val_accuracy: 0.6389\n",
      "Epoch 5/500\n",
      "3/3 [==============================] - 0s 56ms/step - loss: 1.6380 - accuracy: 0.6479 - val_loss: 1.6449 - val_accuracy: 0.6389\n",
      "Epoch 6/500\n",
      "3/3 [==============================] - 0s 35ms/step - loss: 1.4708 - accuracy: 0.6908 - val_loss: 1.6038 - val_accuracy: 0.6389\n",
      "Epoch 7/500\n",
      "3/3 [==============================] - 0s 38ms/step - loss: 1.5409 - accuracy: 0.6596 - val_loss: 1.5632 - val_accuracy: 0.6389\n",
      "Epoch 8/500\n",
      "3/3 [==============================] - 0s 95ms/step - loss: 1.4674 - accuracy: 0.6713 - val_loss: 1.5244 - val_accuracy: 0.6389\n",
      "Epoch 9/500\n",
      "3/3 [==============================] - 0s 67ms/step - loss: 1.3986 - accuracy: 0.6869 - val_loss: 1.4874 - val_accuracy: 0.6389\n",
      "Epoch 10/500\n",
      "3/3 [==============================] - 0s 87ms/step - loss: 1.3505 - accuracy: 0.6908 - val_loss: 1.4518 - val_accuracy: 0.6389\n",
      "Epoch 11/500\n",
      "3/3 [==============================] - 0s 62ms/step - loss: 1.3734 - accuracy: 0.6752 - val_loss: 1.4176 - val_accuracy: 0.6389\n",
      "Epoch 12/500\n",
      "3/3 [==============================] - 0s 56ms/step - loss: 1.3137 - accuracy: 0.6869 - val_loss: 1.3850 - val_accuracy: 0.6389\n",
      "Epoch 13/500\n",
      "3/3 [==============================] - 0s 50ms/step - loss: 1.3593 - accuracy: 0.6557 - val_loss: 1.3540 - val_accuracy: 0.6389\n",
      "Epoch 14/500\n",
      "3/3 [==============================] - 0s 98ms/step - loss: 1.2643 - accuracy: 0.6830 - val_loss: 1.3252 - val_accuracy: 0.6389\n",
      "Epoch 15/500\n",
      "3/3 [==============================] - 0s 57ms/step - loss: 1.2578 - accuracy: 0.6713 - val_loss: 1.2977 - val_accuracy: 0.6389\n",
      "Epoch 16/500\n",
      "3/3 [==============================] - 0s 77ms/step - loss: 1.2408 - accuracy: 0.6752 - val_loss: 1.2718 - val_accuracy: 0.6389\n",
      "Epoch 17/500\n",
      "3/3 [==============================] - 0s 59ms/step - loss: 1.2477 - accuracy: 0.6596 - val_loss: 1.2474 - val_accuracy: 0.6389\n",
      "Epoch 18/500\n",
      "3/3 [==============================] - 0s 67ms/step - loss: 1.1880 - accuracy: 0.6830 - val_loss: 1.2245 - val_accuracy: 0.6389\n",
      "Epoch 19/500\n",
      "3/3 [==============================] - 0s 47ms/step - loss: 1.1192 - accuracy: 0.7026 - val_loss: 1.2031 - val_accuracy: 0.6389\n",
      "Epoch 20/500\n",
      "3/3 [==============================] - 0s 54ms/step - loss: 1.1639 - accuracy: 0.6713 - val_loss: 1.1827 - val_accuracy: 0.6389\n",
      "Epoch 21/500\n",
      "3/3 [==============================] - 0s 76ms/step - loss: 1.1488 - accuracy: 0.6674 - val_loss: 1.1643 - val_accuracy: 0.6389\n",
      "Epoch 22/500\n",
      "3/3 [==============================] - 0s 83ms/step - loss: 1.1219 - accuracy: 0.6752 - val_loss: 1.1477 - val_accuracy: 0.6389\n",
      "Epoch 23/500\n",
      "3/3 [==============================] - 0s 57ms/step - loss: 1.1276 - accuracy: 0.6713 - val_loss: 1.1325 - val_accuracy: 0.6389\n",
      "Epoch 24/500\n",
      "3/3 [==============================] - 0s 48ms/step - loss: 1.1573 - accuracy: 0.6323 - val_loss: 1.1182 - val_accuracy: 0.6389\n",
      "Epoch 25/500\n",
      "3/3 [==============================] - 0s 52ms/step - loss: 1.0908 - accuracy: 0.6752 - val_loss: 1.1059 - val_accuracy: 0.6389\n",
      "Epoch 26/500\n",
      "3/3 [==============================] - 0s 68ms/step - loss: 1.0682 - accuracy: 0.6613 - val_loss: 1.0944 - val_accuracy: 0.6389\n",
      "Epoch 27/500\n",
      "3/3 [==============================] - 0s 103ms/step - loss: 1.0381 - accuracy: 0.6239 - val_loss: 1.0834 - val_accuracy: 0.5278\n",
      "Epoch 28/500\n",
      "3/3 [==============================] - 0s 27ms/step - loss: 1.0695 - accuracy: 0.5374 - val_loss: 1.0735 - val_accuracy: 0.4444\n",
      "Epoch 29/500\n",
      "3/3 [==============================] - 0s 55ms/step - loss: 1.0452 - accuracy: 0.4682 - val_loss: 1.0645 - val_accuracy: 0.3889\n",
      "Epoch 30/500\n",
      "3/3 [==============================] - 0s 71ms/step - loss: 1.0813 - accuracy: 0.3583 - val_loss: 1.0560 - val_accuracy: 0.3611\n",
      "Epoch 31/500\n",
      "3/3 [==============================] - 0s 76ms/step - loss: 1.0241 - accuracy: 0.3914 - val_loss: 1.0486 - val_accuracy: 0.3611\n",
      "Epoch 32/500\n",
      "3/3 [==============================] - 0s 76ms/step - loss: 1.0311 - accuracy: 0.3445 - val_loss: 1.0420 - val_accuracy: 0.3611\n",
      "Epoch 33/500\n",
      "3/3 [==============================] - 0s 72ms/step - loss: 1.0399 - accuracy: 0.3385 - val_loss: 1.0356 - val_accuracy: 0.3333\n",
      "Epoch 34/500\n",
      "3/3 [==============================] - 0s 99ms/step - loss: 1.0358 - accuracy: 0.3346 - val_loss: 1.0298 - val_accuracy: 0.3333\n",
      "Epoch 35/500\n",
      "3/3 [==============================] - 0s 100ms/step - loss: 1.0397 - accuracy: 0.3346 - val_loss: 1.0244 - val_accuracy: 0.3333\n",
      "Epoch 36/500\n",
      "3/3 [==============================] - 0s 65ms/step - loss: 0.9936 - accuracy: 0.3737 - val_loss: 1.0196 - val_accuracy: 0.3333\n",
      "Epoch 37/500\n",
      "3/3 [==============================] - 0s 67ms/step - loss: 1.0078 - accuracy: 0.3503 - val_loss: 1.0147 - val_accuracy: 0.3333\n",
      "Epoch 38/500\n",
      "3/3 [==============================] - 0s 64ms/step - loss: 1.0278 - accuracy: 0.3268 - val_loss: 1.0101 - val_accuracy: 0.3333\n",
      "Epoch 39/500\n",
      "3/3 [==============================] - 0s 123ms/step - loss: 1.0061 - accuracy: 0.3503 - val_loss: 1.0060 - val_accuracy: 0.3333\n",
      "Epoch 40/500\n",
      "3/3 [==============================] - 0s 86ms/step - loss: 1.0408 - accuracy: 0.2878 - val_loss: 1.0018 - val_accuracy: 0.3333\n",
      "Epoch 41/500\n",
      "3/3 [==============================] - 0s 82ms/step - loss: 1.0239 - accuracy: 0.3190 - val_loss: 0.9979 - val_accuracy: 0.3333\n",
      "Epoch 42/500\n",
      "3/3 [==============================] - 0s 54ms/step - loss: 0.9912 - accuracy: 0.3307 - val_loss: 0.9944 - val_accuracy: 0.3333\n",
      "Epoch 43/500\n",
      "3/3 [==============================] - 0s 87ms/step - loss: 0.9911 - accuracy: 0.3346 - val_loss: 0.9906 - val_accuracy: 0.3333\n",
      "Epoch 44/500\n",
      "3/3 [==============================] - 0s 74ms/step - loss: 1.0017 - accuracy: 0.3151 - val_loss: 0.9869 - val_accuracy: 0.3333\n",
      "Epoch 45/500\n",
      "3/3 [==============================] - 0s 47ms/step - loss: 0.9888 - accuracy: 0.3464 - val_loss: 0.9833 - val_accuracy: 0.3333\n",
      "Epoch 46/500\n",
      "3/3 [==============================] - 0s 78ms/step - loss: 0.9706 - accuracy: 0.3542 - val_loss: 0.9797 - val_accuracy: 0.3333\n",
      "Epoch 47/500\n",
      "3/3 [==============================] - 0s 88ms/step - loss: 0.9813 - accuracy: 0.3385 - val_loss: 0.9762 - val_accuracy: 0.3333\n",
      "Epoch 48/500\n",
      "3/3 [==============================] - 0s 59ms/step - loss: 0.9983 - accuracy: 0.3190 - val_loss: 0.9726 - val_accuracy: 0.3333\n",
      "Epoch 49/500\n",
      "3/3 [==============================] - 0s 43ms/step - loss: 0.9867 - accuracy: 0.3385 - val_loss: 0.9693 - val_accuracy: 0.3333\n",
      "Epoch 50/500\n",
      "3/3 [==============================] - 0s 40ms/step - loss: 0.9982 - accuracy: 0.3034 - val_loss: 0.9661 - val_accuracy: 0.3333\n",
      "Epoch 51/500\n",
      "3/3 [==============================] - 0s 47ms/step - loss: 0.9590 - accuracy: 0.3190 - val_loss: 0.9631 - val_accuracy: 0.3333\n",
      "Epoch 52/500\n",
      "3/3 [==============================] - 0s 86ms/step - loss: 0.9500 - accuracy: 0.3737 - val_loss: 0.9599 - val_accuracy: 0.3611\n",
      "Epoch 53/500\n",
      "3/3 [==============================] - 0s 52ms/step - loss: 0.9660 - accuracy: 0.3346 - val_loss: 0.9567 - val_accuracy: 0.3611\n",
      "Epoch 54/500\n",
      "3/3 [==============================] - 0s 51ms/step - loss: 0.9624 - accuracy: 0.3385 - val_loss: 0.9533 - val_accuracy: 0.3611\n",
      "Epoch 55/500\n",
      "3/3 [==============================] - 0s 71ms/step - loss: 0.9639 - accuracy: 0.3112 - val_loss: 0.9500 - val_accuracy: 0.3611\n",
      "Epoch 56/500\n",
      "3/3 [==============================] - 0s 44ms/step - loss: 0.9548 - accuracy: 0.3307 - val_loss: 0.9465 - val_accuracy: 0.3611\n",
      "Epoch 57/500\n",
      "3/3 [==============================] - 0s 48ms/step - loss: 0.9440 - accuracy: 0.3268 - val_loss: 0.9432 - val_accuracy: 0.3611\n",
      "Epoch 58/500\n",
      "3/3 [==============================] - 0s 42ms/step - loss: 0.9307 - accuracy: 0.3698 - val_loss: 0.9397 - val_accuracy: 0.3611\n",
      "Epoch 59/500\n"
     ]
    },
    {
     "name": "stdout",
     "output_type": "stream",
     "text": [
      "3/3 [==============================] - 0s 44ms/step - loss: 0.9490 - accuracy: 0.3424 - val_loss: 0.9361 - val_accuracy: 0.3611\n",
      "Epoch 60/500\n",
      "3/3 [==============================] - 0s 52ms/step - loss: 0.9424 - accuracy: 0.3190 - val_loss: 0.9326 - val_accuracy: 0.3611\n",
      "Epoch 61/500\n",
      "3/3 [==============================] - 0s 53ms/step - loss: 0.9273 - accuracy: 0.3268 - val_loss: 0.9292 - val_accuracy: 0.3611\n",
      "Epoch 62/500\n",
      "3/3 [==============================] - 0s 59ms/step - loss: 0.9306 - accuracy: 0.3385 - val_loss: 0.9257 - val_accuracy: 0.3611\n",
      "Epoch 63/500\n",
      "3/3 [==============================] - 0s 76ms/step - loss: 0.9150 - accuracy: 0.3464 - val_loss: 0.9223 - val_accuracy: 0.3611\n",
      "Epoch 64/500\n",
      "3/3 [==============================] - 0s 36ms/step - loss: 0.9219 - accuracy: 0.3385 - val_loss: 0.9187 - val_accuracy: 0.3611\n",
      "Epoch 65/500\n",
      "3/3 [==============================] - 0s 54ms/step - loss: 0.9003 - accuracy: 0.3542 - val_loss: 0.9152 - val_accuracy: 0.3611\n",
      "Epoch 66/500\n",
      "3/3 [==============================] - 0s 37ms/step - loss: 0.9173 - accuracy: 0.3229 - val_loss: 0.9116 - val_accuracy: 0.3611\n",
      "Epoch 67/500\n",
      "3/3 [==============================] - 0s 47ms/step - loss: 0.9041 - accuracy: 0.3484 - val_loss: 0.9081 - val_accuracy: 0.3611\n",
      "Epoch 68/500\n",
      "3/3 [==============================] - 0s 77ms/step - loss: 0.9167 - accuracy: 0.3387 - val_loss: 0.9044 - val_accuracy: 0.3611\n",
      "Epoch 69/500\n",
      "3/3 [==============================] - 0s 68ms/step - loss: 0.8908 - accuracy: 0.3544 - val_loss: 0.9009 - val_accuracy: 0.3889\n",
      "Epoch 70/500\n",
      "3/3 [==============================] - 0s 69ms/step - loss: 0.9160 - accuracy: 0.3387 - val_loss: 0.8972 - val_accuracy: 0.3889\n",
      "Epoch 71/500\n",
      "3/3 [==============================] - 0s 33ms/step - loss: 0.9232 - accuracy: 0.3075 - val_loss: 0.8936 - val_accuracy: 0.3889\n",
      "Epoch 72/500\n",
      "3/3 [==============================] - 0s 57ms/step - loss: 0.8878 - accuracy: 0.4113 - val_loss: 0.8903 - val_accuracy: 0.3889\n",
      "Epoch 73/500\n",
      "3/3 [==============================] - 0s 40ms/step - loss: 0.8878 - accuracy: 0.4154 - val_loss: 0.8868 - val_accuracy: 0.3889\n",
      "Epoch 74/500\n",
      "3/3 [==============================] - 0s 53ms/step - loss: 0.8832 - accuracy: 0.4135 - val_loss: 0.8833 - val_accuracy: 0.3889\n",
      "Epoch 75/500\n",
      "3/3 [==============================] - 0s 55ms/step - loss: 0.8805 - accuracy: 0.4529 - val_loss: 0.8798 - val_accuracy: 0.4444\n",
      "Epoch 76/500\n",
      "3/3 [==============================] - 0s 98ms/step - loss: 0.8618 - accuracy: 0.5333 - val_loss: 0.8762 - val_accuracy: 0.5000\n",
      "Epoch 77/500\n",
      "3/3 [==============================] - 0s 67ms/step - loss: 0.8766 - accuracy: 0.5394 - val_loss: 0.8724 - val_accuracy: 0.5000\n",
      "Epoch 78/500\n",
      "3/3 [==============================] - 0s 31ms/step - loss: 0.8710 - accuracy: 0.5729 - val_loss: 0.8687 - val_accuracy: 0.5833\n",
      "Epoch 79/500\n",
      "3/3 [==============================] - 0s 57ms/step - loss: 0.8789 - accuracy: 0.5536 - val_loss: 0.8650 - val_accuracy: 0.6111\n",
      "Epoch 80/500\n",
      "3/3 [==============================] - 0s 49ms/step - loss: 0.8668 - accuracy: 0.6555 - val_loss: 0.8614 - val_accuracy: 0.6389\n",
      "Epoch 81/500\n",
      "3/3 [==============================] - 0s 61ms/step - loss: 0.8452 - accuracy: 0.7046 - val_loss: 0.8577 - val_accuracy: 0.6667\n",
      "Epoch 82/500\n",
      "3/3 [==============================] - 0s 58ms/step - loss: 0.8624 - accuracy: 0.6812 - val_loss: 0.8539 - val_accuracy: 0.6667\n",
      "Epoch 83/500\n",
      "3/3 [==============================] - 0s 38ms/step - loss: 0.8627 - accuracy: 0.6832 - val_loss: 0.8502 - val_accuracy: 0.6667\n",
      "Epoch 84/500\n",
      "3/3 [==============================] - 0s 22ms/step - loss: 0.8293 - accuracy: 0.7262 - val_loss: 0.8467 - val_accuracy: 0.6667\n",
      "Epoch 85/500\n",
      "3/3 [==============================] - 0s 61ms/step - loss: 0.8350 - accuracy: 0.7106 - val_loss: 0.8431 - val_accuracy: 0.6667\n",
      "Epoch 86/500\n",
      "3/3 [==============================] - 0s 53ms/step - loss: 0.8450 - accuracy: 0.6754 - val_loss: 0.8393 - val_accuracy: 0.6667\n",
      "Epoch 87/500\n",
      "3/3 [==============================] - 0s 44ms/step - loss: 0.8338 - accuracy: 0.7106 - val_loss: 0.8357 - val_accuracy: 0.6667\n",
      "Epoch 88/500\n",
      "3/3 [==============================] - 0s 50ms/step - loss: 0.8376 - accuracy: 0.6871 - val_loss: 0.8319 - val_accuracy: 0.6667\n",
      "Epoch 89/500\n",
      "3/3 [==============================] - 0s 40ms/step - loss: 0.8163 - accuracy: 0.7145 - val_loss: 0.8282 - val_accuracy: 0.6667\n",
      "Epoch 90/500\n",
      "3/3 [==============================] - 0s 93ms/step - loss: 0.8338 - accuracy: 0.6793 - val_loss: 0.8244 - val_accuracy: 0.6667\n",
      "Epoch 91/500\n",
      "3/3 [==============================] - 0s 44ms/step - loss: 0.8357 - accuracy: 0.6754 - val_loss: 0.8206 - val_accuracy: 0.6667\n",
      "Epoch 92/500\n",
      "3/3 [==============================] - 0s 60ms/step - loss: 0.8270 - accuracy: 0.6715 - val_loss: 0.8169 - val_accuracy: 0.6667\n",
      "Epoch 93/500\n",
      "3/3 [==============================] - 0s 55ms/step - loss: 0.8207 - accuracy: 0.6793 - val_loss: 0.8132 - val_accuracy: 0.6667\n",
      "Epoch 94/500\n",
      "3/3 [==============================] - 0s 41ms/step - loss: 0.7792 - accuracy: 0.7457 - val_loss: 0.8097 - val_accuracy: 0.6667\n",
      "Epoch 95/500\n",
      "3/3 [==============================] - 0s 58ms/step - loss: 0.7979 - accuracy: 0.7145 - val_loss: 0.8060 - val_accuracy: 0.6667\n",
      "Epoch 96/500\n",
      "3/3 [==============================] - 0s 52ms/step - loss: 0.7837 - accuracy: 0.7301 - val_loss: 0.8023 - val_accuracy: 0.6667\n",
      "Epoch 97/500\n",
      "3/3 [==============================] - 0s 42ms/step - loss: 0.8085 - accuracy: 0.6715 - val_loss: 0.7984 - val_accuracy: 0.6667\n",
      "Epoch 98/500\n",
      "3/3 [==============================] - 0s 103ms/step - loss: 0.7930 - accuracy: 0.7028 - val_loss: 0.7947 - val_accuracy: 0.6667\n",
      "Epoch 99/500\n",
      "3/3 [==============================] - 0s 61ms/step - loss: 0.7709 - accuracy: 0.7262 - val_loss: 0.7909 - val_accuracy: 0.6667\n",
      "Epoch 100/500\n",
      "3/3 [==============================] - 0s 45ms/step - loss: 0.7808 - accuracy: 0.7028 - val_loss: 0.7871 - val_accuracy: 0.6667\n",
      "Epoch 101/500\n",
      "3/3 [==============================] - 0s 37ms/step - loss: 0.7832 - accuracy: 0.6910 - val_loss: 0.7832 - val_accuracy: 0.6667\n",
      "Epoch 102/500\n",
      "3/3 [==============================] - 0s 54ms/step - loss: 0.7754 - accuracy: 0.6910 - val_loss: 0.7795 - val_accuracy: 0.6667\n",
      "Epoch 103/500\n",
      "3/3 [==============================] - 0s 55ms/step - loss: 0.7455 - accuracy: 0.7301 - val_loss: 0.7760 - val_accuracy: 0.6667\n",
      "Epoch 104/500\n",
      "3/3 [==============================] - 0s 42ms/step - loss: 0.7812 - accuracy: 0.6715 - val_loss: 0.7720 - val_accuracy: 0.6667\n",
      "Epoch 105/500\n",
      "3/3 [==============================] - 0s 68ms/step - loss: 0.7767 - accuracy: 0.6871 - val_loss: 0.7681 - val_accuracy: 0.6667\n",
      "Epoch 106/500\n",
      "3/3 [==============================] - 0s 63ms/step - loss: 0.7263 - accuracy: 0.7496 - val_loss: 0.7644 - val_accuracy: 0.6667\n",
      "Epoch 107/500\n",
      "3/3 [==============================] - 0s 83ms/step - loss: 0.7620 - accuracy: 0.6871 - val_loss: 0.7605 - val_accuracy: 0.6667\n",
      "Epoch 108/500\n",
      "3/3 [==============================] - 0s 47ms/step - loss: 0.7515 - accuracy: 0.6988 - val_loss: 0.7567 - val_accuracy: 0.6667\n",
      "Epoch 109/500\n",
      "3/3 [==============================] - 0s 55ms/step - loss: 0.7387 - accuracy: 0.7028 - val_loss: 0.7530 - val_accuracy: 0.6667\n",
      "Epoch 110/500\n",
      "3/3 [==============================] - 0s 33ms/step - loss: 0.7418 - accuracy: 0.7067 - val_loss: 0.7492 - val_accuracy: 0.6667\n",
      "Epoch 111/500\n",
      "3/3 [==============================] - 0s 59ms/step - loss: 0.7215 - accuracy: 0.7262 - val_loss: 0.7456 - val_accuracy: 0.6667\n",
      "Epoch 112/500\n",
      "3/3 [==============================] - 0s 67ms/step - loss: 0.7546 - accuracy: 0.6793 - val_loss: 0.7417 - val_accuracy: 0.6667\n",
      "Epoch 113/500\n",
      "3/3 [==============================] - 0s 47ms/step - loss: 0.7467 - accuracy: 0.6871 - val_loss: 0.7379 - val_accuracy: 0.6667\n",
      "Epoch 114/500\n",
      "3/3 [==============================] - 0s 86ms/step - loss: 0.7610 - accuracy: 0.6559 - val_loss: 0.7341 - val_accuracy: 0.6667\n",
      "Epoch 115/500\n",
      "3/3 [==============================] - 0s 46ms/step - loss: 0.7416 - accuracy: 0.6853 - val_loss: 0.7306 - val_accuracy: 0.6667\n",
      "Epoch 116/500\n",
      "3/3 [==============================] - 0s 37ms/step - loss: 0.7052 - accuracy: 0.7321 - val_loss: 0.7272 - val_accuracy: 0.6667\n",
      "Epoch 117/500\n"
     ]
    },
    {
     "name": "stdout",
     "output_type": "stream",
     "text": [
      "3/3 [==============================] - 0s 55ms/step - loss: 0.7124 - accuracy: 0.7204 - val_loss: 0.7237 - val_accuracy: 0.6667\n",
      "Epoch 118/500\n",
      "3/3 [==============================] - 0s 29ms/step - loss: 0.7090 - accuracy: 0.7126 - val_loss: 0.7201 - val_accuracy: 0.6667\n",
      "Epoch 119/500\n",
      "3/3 [==============================] - 0s 52ms/step - loss: 0.7226 - accuracy: 0.6735 - val_loss: 0.7164 - val_accuracy: 0.6667\n",
      "Epoch 120/500\n",
      "3/3 [==============================] - 0s 43ms/step - loss: 0.7019 - accuracy: 0.7243 - val_loss: 0.7129 - val_accuracy: 0.6667\n",
      "Epoch 121/500\n",
      "3/3 [==============================] - 0s 81ms/step - loss: 0.7225 - accuracy: 0.6775 - val_loss: 0.7092 - val_accuracy: 0.6667\n",
      "Epoch 122/500\n",
      "3/3 [==============================] - 0s 72ms/step - loss: 0.6832 - accuracy: 0.7342 - val_loss: 0.7058 - val_accuracy: 0.6667\n",
      "Epoch 123/500\n",
      "3/3 [==============================] - 0s 45ms/step - loss: 0.7036 - accuracy: 0.6990 - val_loss: 0.7022 - val_accuracy: 0.6667\n",
      "Epoch 124/500\n",
      "3/3 [==============================] - 0s 47ms/step - loss: 0.6922 - accuracy: 0.7440 - val_loss: 0.6988 - val_accuracy: 0.6667\n",
      "Epoch 125/500\n",
      "3/3 [==============================] - 0s 52ms/step - loss: 0.6857 - accuracy: 0.7480 - val_loss: 0.6955 - val_accuracy: 0.6667\n",
      "Epoch 126/500\n",
      "3/3 [==============================] - 0s 41ms/step - loss: 0.6867 - accuracy: 0.7245 - val_loss: 0.6920 - val_accuracy: 0.6667\n",
      "Epoch 127/500\n",
      "3/3 [==============================] - 0s 55ms/step - loss: 0.6750 - accuracy: 0.7519 - val_loss: 0.6885 - val_accuracy: 0.6944\n",
      "Epoch 128/500\n",
      "3/3 [==============================] - 0s 49ms/step - loss: 0.6738 - accuracy: 0.7323 - val_loss: 0.6850 - val_accuracy: 0.6944\n",
      "Epoch 129/500\n",
      "3/3 [==============================] - 0s 105ms/step - loss: 0.6929 - accuracy: 0.7206 - val_loss: 0.6814 - val_accuracy: 0.6944\n",
      "Epoch 130/500\n",
      "3/3 [==============================] - 0s 38ms/step - loss: 0.6794 - accuracy: 0.7128 - val_loss: 0.6780 - val_accuracy: 0.6944\n",
      "Epoch 131/500\n",
      "3/3 [==============================] - 0s 75ms/step - loss: 0.6667 - accuracy: 0.7362 - val_loss: 0.6747 - val_accuracy: 0.6944\n",
      "Epoch 132/500\n",
      "3/3 [==============================] - 0s 42ms/step - loss: 0.6602 - accuracy: 0.7323 - val_loss: 0.6713 - val_accuracy: 0.6944\n",
      "Epoch 133/500\n",
      "3/3 [==============================] - 0s 48ms/step - loss: 0.6740 - accuracy: 0.7128 - val_loss: 0.6678 - val_accuracy: 0.6944\n",
      "Epoch 134/500\n",
      "3/3 [==============================] - 0s 82ms/step - loss: 0.6604 - accuracy: 0.7245 - val_loss: 0.6645 - val_accuracy: 0.6944\n",
      "Epoch 135/500\n",
      "3/3 [==============================] - 0s 42ms/step - loss: 0.6586 - accuracy: 0.7362 - val_loss: 0.6613 - val_accuracy: 0.6944\n",
      "Epoch 136/500\n",
      "3/3 [==============================] - 0s 83ms/step - loss: 0.6571 - accuracy: 0.7323 - val_loss: 0.6582 - val_accuracy: 0.6944\n",
      "Epoch 137/500\n",
      "3/3 [==============================] - 0s 49ms/step - loss: 0.6199 - accuracy: 0.7636 - val_loss: 0.6553 - val_accuracy: 0.6944\n",
      "Epoch 138/500\n",
      "3/3 [==============================] - 0s 46ms/step - loss: 0.6422 - accuracy: 0.7519 - val_loss: 0.6519 - val_accuracy: 0.6944\n",
      "Epoch 139/500\n",
      "3/3 [==============================] - 0s 49ms/step - loss: 0.6147 - accuracy: 0.7675 - val_loss: 0.6489 - val_accuracy: 0.6944\n",
      "Epoch 140/500\n",
      "3/3 [==============================] - 0s 59ms/step - loss: 0.6209 - accuracy: 0.7558 - val_loss: 0.6456 - val_accuracy: 0.7500\n",
      "Epoch 141/500\n",
      "3/3 [==============================] - 0s 66ms/step - loss: 0.6517 - accuracy: 0.7305 - val_loss: 0.6421 - val_accuracy: 0.7500\n",
      "Epoch 142/500\n",
      "3/3 [==============================] - 0s 31ms/step - loss: 0.6231 - accuracy: 0.7500 - val_loss: 0.6389 - val_accuracy: 0.7500\n",
      "Epoch 143/500\n",
      "3/3 [==============================] - 0s 50ms/step - loss: 0.6383 - accuracy: 0.7266 - val_loss: 0.6356 - val_accuracy: 0.7500\n",
      "Epoch 144/500\n",
      "3/3 [==============================] - 0s 72ms/step - loss: 0.6426 - accuracy: 0.7483 - val_loss: 0.6322 - val_accuracy: 0.7500\n",
      "Epoch 145/500\n",
      "3/3 [==============================] - 0s 40ms/step - loss: 0.6073 - accuracy: 0.8030 - val_loss: 0.6292 - val_accuracy: 0.7500\n",
      "Epoch 146/500\n",
      "3/3 [==============================] - 0s 62ms/step - loss: 0.6155 - accuracy: 0.8051 - val_loss: 0.6262 - val_accuracy: 0.7500\n",
      "Epoch 147/500\n",
      "3/3 [==============================] - 0s 42ms/step - loss: 0.6071 - accuracy: 0.8147 - val_loss: 0.6232 - val_accuracy: 0.7500\n",
      "Epoch 148/500\n",
      "3/3 [==============================] - 0s 53ms/step - loss: 0.6190 - accuracy: 0.7718 - val_loss: 0.6201 - val_accuracy: 0.7500\n",
      "Epoch 149/500\n",
      "3/3 [==============================] - 0s 99ms/step - loss: 0.5899 - accuracy: 0.8012 - val_loss: 0.6173 - val_accuracy: 0.7500\n",
      "Epoch 150/500\n",
      "3/3 [==============================] - 0s 54ms/step - loss: 0.6031 - accuracy: 0.7816 - val_loss: 0.6143 - val_accuracy: 0.7500\n",
      "Epoch 151/500\n",
      "3/3 [==============================] - 0s 86ms/step - loss: 0.5933 - accuracy: 0.8090 - val_loss: 0.6114 - val_accuracy: 0.7500\n",
      "Epoch 152/500\n",
      "3/3 [==============================] - 0s 39ms/step - loss: 0.5865 - accuracy: 0.8168 - val_loss: 0.6085 - val_accuracy: 0.7778\n",
      "Epoch 153/500\n",
      "3/3 [==============================] - 0s 74ms/step - loss: 0.6097 - accuracy: 0.7777 - val_loss: 0.6056 - val_accuracy: 0.7778\n",
      "Epoch 154/500\n",
      "3/3 [==============================] - 0s 44ms/step - loss: 0.5941 - accuracy: 0.7777 - val_loss: 0.6027 - val_accuracy: 0.7778\n",
      "Epoch 155/500\n",
      "3/3 [==============================] - 0s 57ms/step - loss: 0.5922 - accuracy: 0.7894 - val_loss: 0.5998 - val_accuracy: 0.7778\n",
      "Epoch 156/500\n",
      "3/3 [==============================] - 0s 96ms/step - loss: 0.5827 - accuracy: 0.8168 - val_loss: 0.5971 - val_accuracy: 0.7778\n",
      "Epoch 157/500\n",
      "3/3 [==============================] - 0s 95ms/step - loss: 0.5885 - accuracy: 0.7816 - val_loss: 0.5943 - val_accuracy: 0.7778\n",
      "Epoch 158/500\n",
      "3/3 [==============================] - 0s 85ms/step - loss: 0.5589 - accuracy: 0.8363 - val_loss: 0.5917 - val_accuracy: 0.7778\n",
      "Epoch 159/500\n",
      "3/3 [==============================] - 0s 80ms/step - loss: 0.5528 - accuracy: 0.8207 - val_loss: 0.5889 - val_accuracy: 0.7778\n",
      "Epoch 160/500\n",
      "3/3 [==============================] - 0s 58ms/step - loss: 0.5753 - accuracy: 0.8129 - val_loss: 0.5859 - val_accuracy: 0.7778\n",
      "Epoch 161/500\n",
      "3/3 [==============================] - 0s 67ms/step - loss: 0.5567 - accuracy: 0.8012 - val_loss: 0.5830 - val_accuracy: 0.8333\n",
      "Epoch 162/500\n",
      "3/3 [==============================] - 0s 92ms/step - loss: 0.5654 - accuracy: 0.8344 - val_loss: 0.5802 - val_accuracy: 0.8611\n",
      "Epoch 163/500\n",
      "3/3 [==============================] - 0s 119ms/step - loss: 0.5835 - accuracy: 0.7837 - val_loss: 0.5773 - val_accuracy: 0.8611\n",
      "Epoch 164/500\n",
      "3/3 [==============================] - 0s 60ms/step - loss: 0.5574 - accuracy: 0.8110 - val_loss: 0.5745 - val_accuracy: 0.8611\n",
      "Epoch 165/500\n",
      "3/3 [==============================] - 0s 64ms/step - loss: 0.5601 - accuracy: 0.7993 - val_loss: 0.5720 - val_accuracy: 0.8611\n",
      "Epoch 166/500\n",
      "3/3 [==============================] - 0s 47ms/step - loss: 0.5533 - accuracy: 0.8344 - val_loss: 0.5696 - val_accuracy: 0.8611\n",
      "Epoch 167/500\n",
      "3/3 [==============================] - 0s 96ms/step - loss: 0.5601 - accuracy: 0.7954 - val_loss: 0.5671 - val_accuracy: 0.8611\n",
      "Epoch 168/500\n",
      "3/3 [==============================] - 0s 96ms/step - loss: 0.5637 - accuracy: 0.8110 - val_loss: 0.5647 - val_accuracy: 0.8611\n",
      "Epoch 169/500\n",
      "3/3 [==============================] - 0s 82ms/step - loss: 0.5550 - accuracy: 0.8188 - val_loss: 0.5624 - val_accuracy: 0.8611\n",
      "Epoch 170/500\n",
      "3/3 [==============================] - 0s 37ms/step - loss: 0.5354 - accuracy: 0.8384 - val_loss: 0.5603 - val_accuracy: 0.8333\n",
      "Epoch 171/500\n",
      "3/3 [==============================] - 0s 85ms/step - loss: 0.5329 - accuracy: 0.8149 - val_loss: 0.5580 - val_accuracy: 0.8333\n",
      "Epoch 172/500\n",
      "3/3 [==============================] - 0s 44ms/step - loss: 0.5419 - accuracy: 0.7954 - val_loss: 0.5554 - val_accuracy: 0.8611\n",
      "Epoch 173/500\n",
      "3/3 [==============================] - 0s 112ms/step - loss: 0.5315 - accuracy: 0.8071 - val_loss: 0.5529 - val_accuracy: 0.8611\n",
      "Epoch 174/500\n",
      "3/3 [==============================] - 0s 47ms/step - loss: 0.5482 - accuracy: 0.7954 - val_loss: 0.5503 - val_accuracy: 0.8611\n"
     ]
    },
    {
     "name": "stdout",
     "output_type": "stream",
     "text": [
      "Epoch 175/500\n",
      "3/3 [==============================] - 0s 78ms/step - loss: 0.5297 - accuracy: 0.8071 - val_loss: 0.5480 - val_accuracy: 0.8611\n",
      "Epoch 176/500\n",
      "3/3 [==============================] - 0s 40ms/step - loss: 0.5364 - accuracy: 0.7993 - val_loss: 0.5456 - val_accuracy: 0.8611\n",
      "Epoch 177/500\n",
      "3/3 [==============================] - 0s 33ms/step - loss: 0.5391 - accuracy: 0.8110 - val_loss: 0.5433 - val_accuracy: 0.8611\n",
      "Epoch 178/500\n",
      "3/3 [==============================] - 0s 40ms/step - loss: 0.5243 - accuracy: 0.8032 - val_loss: 0.5410 - val_accuracy: 0.8611\n",
      "Epoch 179/500\n",
      "3/3 [==============================] - 0s 51ms/step - loss: 0.5248 - accuracy: 0.8071 - val_loss: 0.5389 - val_accuracy: 0.8611\n",
      "Epoch 180/500\n",
      "3/3 [==============================] - 0s 41ms/step - loss: 0.5425 - accuracy: 0.7759 - val_loss: 0.5367 - val_accuracy: 0.9167\n",
      "Epoch 181/500\n",
      "3/3 [==============================] - 0s 80ms/step - loss: 0.5299 - accuracy: 0.7759 - val_loss: 0.5348 - val_accuracy: 0.8611\n",
      "Epoch 182/500\n",
      "3/3 [==============================] - 0s 39ms/step - loss: 0.5137 - accuracy: 0.8110 - val_loss: 0.5327 - val_accuracy: 0.8611\n",
      "Epoch 183/500\n",
      "3/3 [==============================] - 0s 100ms/step - loss: 0.5249 - accuracy: 0.8110 - val_loss: 0.5305 - val_accuracy: 0.8611\n",
      "Epoch 184/500\n",
      "3/3 [==============================] - 0s 40ms/step - loss: 0.5350 - accuracy: 0.8032 - val_loss: 0.5282 - val_accuracy: 0.9167\n",
      "Epoch 185/500\n",
      "3/3 [==============================] - 0s 48ms/step - loss: 0.5258 - accuracy: 0.8032 - val_loss: 0.5259 - val_accuracy: 0.9167\n",
      "Epoch 186/500\n",
      "3/3 [==============================] - 0s 46ms/step - loss: 0.5132 - accuracy: 0.8013 - val_loss: 0.5237 - val_accuracy: 0.9167\n",
      "Epoch 187/500\n",
      "3/3 [==============================] - 0s 49ms/step - loss: 0.5023 - accuracy: 0.8307 - val_loss: 0.5214 - val_accuracy: 0.9167\n",
      "Epoch 188/500\n",
      "3/3 [==============================] - 0s 70ms/step - loss: 0.5140 - accuracy: 0.8424 - val_loss: 0.5193 - val_accuracy: 0.9167\n",
      "Epoch 189/500\n",
      "3/3 [==============================] - 0s 41ms/step - loss: 0.5121 - accuracy: 0.8346 - val_loss: 0.5172 - val_accuracy: 0.9444\n",
      "Epoch 190/500\n",
      "3/3 [==============================] - 0s 79ms/step - loss: 0.5114 - accuracy: 0.8562 - val_loss: 0.5150 - val_accuracy: 0.9444\n",
      "Epoch 191/500\n",
      "3/3 [==============================] - 0s 39ms/step - loss: 0.4835 - accuracy: 0.8620 - val_loss: 0.5131 - val_accuracy: 0.9444\n",
      "Epoch 192/500\n",
      "3/3 [==============================] - 0s 56ms/step - loss: 0.4897 - accuracy: 0.8229 - val_loss: 0.5111 - val_accuracy: 0.9444\n",
      "Epoch 193/500\n",
      "3/3 [==============================] - 0s 36ms/step - loss: 0.4975 - accuracy: 0.8229 - val_loss: 0.5090 - val_accuracy: 0.9722\n",
      "Epoch 194/500\n",
      "3/3 [==============================] - 0s 70ms/step - loss: 0.4878 - accuracy: 0.8876 - val_loss: 0.5069 - val_accuracy: 0.9722\n",
      "Epoch 195/500\n",
      "3/3 [==============================] - 0s 62ms/step - loss: 0.4927 - accuracy: 0.8681 - val_loss: 0.5050 - val_accuracy: 0.9722\n",
      "Epoch 196/500\n",
      "3/3 [==============================] - 0s 39ms/step - loss: 0.4817 - accuracy: 0.8681 - val_loss: 0.5031 - val_accuracy: 0.9722\n",
      "Epoch 197/500\n",
      "3/3 [==============================] - 0s 59ms/step - loss: 0.4950 - accuracy: 0.8486 - val_loss: 0.5011 - val_accuracy: 0.9722\n",
      "Epoch 198/500\n",
      "3/3 [==============================] - 0s 30ms/step - loss: 0.4762 - accuracy: 0.8642 - val_loss: 0.4991 - val_accuracy: 0.9722\n",
      "Epoch 199/500\n",
      "3/3 [==============================] - 0s 40ms/step - loss: 0.4912 - accuracy: 0.8780 - val_loss: 0.4971 - val_accuracy: 0.9722\n",
      "Epoch 200/500\n",
      "3/3 [==============================] - 0s 53ms/step - loss: 0.4776 - accuracy: 0.8819 - val_loss: 0.4954 - val_accuracy: 0.9722\n",
      "Epoch 201/500\n",
      "3/3 [==============================] - 0s 55ms/step - loss: 0.5038 - accuracy: 0.8506 - val_loss: 0.4935 - val_accuracy: 0.9722\n",
      "Epoch 202/500\n",
      "3/3 [==============================] - 0s 49ms/step - loss: 0.4758 - accuracy: 0.8876 - val_loss: 0.4919 - val_accuracy: 0.9722\n",
      "Epoch 203/500\n",
      "3/3 [==============================] - 0s 75ms/step - loss: 0.4625 - accuracy: 0.8523 - val_loss: 0.4903 - val_accuracy: 0.9444\n",
      "Epoch 204/500\n",
      "3/3 [==============================] - 0s 93ms/step - loss: 0.4790 - accuracy: 0.8640 - val_loss: 0.4885 - val_accuracy: 0.9444\n",
      "Epoch 205/500\n",
      "3/3 [==============================] - 0s 54ms/step - loss: 0.4727 - accuracy: 0.8504 - val_loss: 0.4867 - val_accuracy: 0.9444\n",
      "Epoch 206/500\n",
      "3/3 [==============================] - 0s 37ms/step - loss: 0.4621 - accuracy: 0.8523 - val_loss: 0.4851 - val_accuracy: 0.9444\n",
      "Epoch 207/500\n",
      "3/3 [==============================] - 0s 40ms/step - loss: 0.4710 - accuracy: 0.8661 - val_loss: 0.4833 - val_accuracy: 0.9722\n",
      "Epoch 208/500\n",
      "3/3 [==============================] - 0s 45ms/step - loss: 0.4761 - accuracy: 0.8525 - val_loss: 0.4814 - val_accuracy: 0.9722\n",
      "Epoch 209/500\n",
      "3/3 [==============================] - 0s 49ms/step - loss: 0.4578 - accuracy: 0.8681 - val_loss: 0.4797 - val_accuracy: 0.9722\n",
      "Epoch 210/500\n",
      "3/3 [==============================] - 0s 91ms/step - loss: 0.4541 - accuracy: 0.8897 - val_loss: 0.4780 - val_accuracy: 0.9722\n",
      "Epoch 211/500\n",
      "3/3 [==============================] - 0s 48ms/step - loss: 0.4746 - accuracy: 0.8800 - val_loss: 0.4762 - val_accuracy: 0.9722\n",
      "Epoch 212/500\n",
      "3/3 [==============================] - 0s 76ms/step - loss: 0.4494 - accuracy: 0.8917 - val_loss: 0.4745 - val_accuracy: 0.9722\n",
      "Epoch 213/500\n",
      "3/3 [==============================] - 0s 39ms/step - loss: 0.4564 - accuracy: 0.8917 - val_loss: 0.4728 - val_accuracy: 0.9722\n",
      "Epoch 214/500\n",
      "3/3 [==============================] - 0s 68ms/step - loss: 0.4598 - accuracy: 0.8996 - val_loss: 0.4711 - val_accuracy: 0.9722\n",
      "Epoch 215/500\n",
      "3/3 [==============================] - 0s 41ms/step - loss: 0.4754 - accuracy: 0.8839 - val_loss: 0.4693 - val_accuracy: 0.9722\n",
      "Epoch 216/500\n",
      "3/3 [==============================] - 0s 59ms/step - loss: 0.4802 - accuracy: 0.8839 - val_loss: 0.4677 - val_accuracy: 0.9722\n",
      "Epoch 217/500\n",
      "3/3 [==============================] - 0s 77ms/step - loss: 0.4545 - accuracy: 0.8800 - val_loss: 0.4662 - val_accuracy: 0.9722\n",
      "Epoch 218/500\n",
      "3/3 [==============================] - 0s 62ms/step - loss: 0.4417 - accuracy: 0.8996 - val_loss: 0.4648 - val_accuracy: 0.9722\n",
      "Epoch 219/500\n",
      "3/3 [==============================] - 0s 70ms/step - loss: 0.4583 - accuracy: 0.8956 - val_loss: 0.4633 - val_accuracy: 0.9722\n",
      "Epoch 220/500\n",
      "3/3 [==============================] - 0s 35ms/step - loss: 0.4587 - accuracy: 0.8683 - val_loss: 0.4617 - val_accuracy: 0.9722\n",
      "Epoch 221/500\n",
      "3/3 [==============================] - 0s 47ms/step - loss: 0.4570 - accuracy: 0.8605 - val_loss: 0.4601 - val_accuracy: 0.9722\n",
      "Epoch 222/500\n",
      "3/3 [==============================] - 0s 44ms/step - loss: 0.4452 - accuracy: 0.9269 - val_loss: 0.4586 - val_accuracy: 0.9722\n",
      "Epoch 223/500\n",
      "3/3 [==============================] - 0s 44ms/step - loss: 0.4551 - accuracy: 0.8839 - val_loss: 0.4570 - val_accuracy: 0.9722\n",
      "Epoch 224/500\n",
      "3/3 [==============================] - 0s 65ms/step - loss: 0.4547 - accuracy: 0.8839 - val_loss: 0.4553 - val_accuracy: 0.9722\n",
      "Epoch 225/500\n",
      "3/3 [==============================] - 0s 44ms/step - loss: 0.4714 - accuracy: 0.8878 - val_loss: 0.4538 - val_accuracy: 0.9722\n",
      "Epoch 226/500\n",
      "3/3 [==============================] - 0s 83ms/step - loss: 0.4529 - accuracy: 0.8761 - val_loss: 0.4525 - val_accuracy: 0.9722\n",
      "Epoch 227/500\n",
      "3/3 [==============================] - 0s 46ms/step - loss: 0.4539 - accuracy: 0.8761 - val_loss: 0.4511 - val_accuracy: 0.9722\n",
      "Epoch 228/500\n",
      "3/3 [==============================] - 0s 33ms/step - loss: 0.4617 - accuracy: 0.8644 - val_loss: 0.4497 - val_accuracy: 0.9722\n",
      "Epoch 229/500\n",
      "3/3 [==============================] - 0s 39ms/step - loss: 0.4262 - accuracy: 0.9035 - val_loss: 0.4486 - val_accuracy: 0.9722\n",
      "Epoch 230/500\n",
      "3/3 [==============================] - 0s 39ms/step - loss: 0.4338 - accuracy: 0.9035 - val_loss: 0.4470 - val_accuracy: 0.9722\n",
      "Epoch 231/500\n",
      "3/3 [==============================] - 0s 49ms/step - loss: 0.4522 - accuracy: 0.8800 - val_loss: 0.4455 - val_accuracy: 0.9722\n",
      "Epoch 232/500\n",
      "3/3 [==============================] - 0s 87ms/step - loss: 0.4638 - accuracy: 0.8566 - val_loss: 0.4439 - val_accuracy: 0.9722\n"
     ]
    },
    {
     "name": "stdout",
     "output_type": "stream",
     "text": [
      "Epoch 233/500\n",
      "3/3 [==============================] - 0s 38ms/step - loss: 0.4394 - accuracy: 0.8956 - val_loss: 0.4425 - val_accuracy: 0.9722\n",
      "Epoch 234/500\n",
      "3/3 [==============================] - 0s 94ms/step - loss: 0.4383 - accuracy: 0.8722 - val_loss: 0.4411 - val_accuracy: 0.9722\n",
      "Epoch 235/500\n",
      "3/3 [==============================] - 0s 37ms/step - loss: 0.4312 - accuracy: 0.8839 - val_loss: 0.4399 - val_accuracy: 0.9722\n",
      "Epoch 236/500\n",
      "3/3 [==============================] - 0s 59ms/step - loss: 0.4258 - accuracy: 0.8800 - val_loss: 0.4384 - val_accuracy: 0.9722\n",
      "Epoch 237/500\n",
      "3/3 [==============================] - 0s 46ms/step - loss: 0.4220 - accuracy: 0.9035 - val_loss: 0.4369 - val_accuracy: 0.9722\n",
      "Epoch 238/500\n",
      "3/3 [==============================] - 0s 42ms/step - loss: 0.4505 - accuracy: 0.8899 - val_loss: 0.4353 - val_accuracy: 0.9722\n",
      "Epoch 239/500\n",
      "3/3 [==============================] - 0s 91ms/step - loss: 0.4135 - accuracy: 0.9250 - val_loss: 0.4341 - val_accuracy: 0.9722\n",
      "Epoch 240/500\n",
      "3/3 [==============================] - 0s 56ms/step - loss: 0.4474 - accuracy: 0.8860 - val_loss: 0.4324 - val_accuracy: 0.9722\n",
      "Epoch 241/500\n",
      "3/3 [==============================] - 0s 61ms/step - loss: 0.4151 - accuracy: 0.9310 - val_loss: 0.4310 - val_accuracy: 0.9722\n",
      "Epoch 242/500\n",
      "3/3 [==============================] - 0s 57ms/step - loss: 0.4321 - accuracy: 0.9271 - val_loss: 0.4296 - val_accuracy: 0.9722\n",
      "Epoch 243/500\n",
      "3/3 [==============================] - 0s 55ms/step - loss: 0.4083 - accuracy: 0.9271 - val_loss: 0.4283 - val_accuracy: 0.9722\n",
      "Epoch 244/500\n",
      "3/3 [==============================] - 0s 61ms/step - loss: 0.4321 - accuracy: 0.9154 - val_loss: 0.4269 - val_accuracy: 0.9722\n",
      "Epoch 245/500\n",
      "3/3 [==============================] - 0s 70ms/step - loss: 0.4024 - accuracy: 0.9310 - val_loss: 0.4255 - val_accuracy: 0.9722\n",
      "Epoch 246/500\n",
      "3/3 [==============================] - 0s 80ms/step - loss: 0.4166 - accuracy: 0.9115 - val_loss: 0.4241 - val_accuracy: 0.9722\n",
      "Epoch 247/500\n",
      "3/3 [==============================] - 0s 107ms/step - loss: 0.4169 - accuracy: 0.9193 - val_loss: 0.4228 - val_accuracy: 0.9722\n",
      "Epoch 248/500\n",
      "3/3 [==============================] - 0s 58ms/step - loss: 0.4306 - accuracy: 0.9193 - val_loss: 0.4215 - val_accuracy: 0.9722\n",
      "Epoch 249/500\n",
      "3/3 [==============================] - 0s 81ms/step - loss: 0.4137 - accuracy: 0.9115 - val_loss: 0.4202 - val_accuracy: 0.9722\n",
      "Epoch 250/500\n",
      "3/3 [==============================] - 0s 86ms/step - loss: 0.4110 - accuracy: 0.9154 - val_loss: 0.4189 - val_accuracy: 0.9722\n",
      "Epoch 251/500\n",
      "3/3 [==============================] - 0s 74ms/step - loss: 0.4070 - accuracy: 0.9193 - val_loss: 0.4175 - val_accuracy: 0.9722\n",
      "Epoch 252/500\n",
      "3/3 [==============================] - 0s 34ms/step - loss: 0.4121 - accuracy: 0.9232 - val_loss: 0.4161 - val_accuracy: 1.0000\n",
      "Epoch 253/500\n",
      "3/3 [==============================] - 0s 69ms/step - loss: 0.4290 - accuracy: 0.8841 - val_loss: 0.4148 - val_accuracy: 1.0000\n",
      "Epoch 254/500\n",
      "3/3 [==============================] - 0s 58ms/step - loss: 0.4166 - accuracy: 0.8997 - val_loss: 0.4136 - val_accuracy: 1.0000\n",
      "Epoch 255/500\n",
      "3/3 [==============================] - 0s 30ms/step - loss: 0.4233 - accuracy: 0.9036 - val_loss: 0.4123 - val_accuracy: 1.0000\n",
      "Epoch 256/500\n",
      "3/3 [==============================] - 0s 66ms/step - loss: 0.3974 - accuracy: 0.9154 - val_loss: 0.4111 - val_accuracy: 1.0000\n",
      "Epoch 257/500\n",
      "3/3 [==============================] - 0s 56ms/step - loss: 0.3981 - accuracy: 0.9388 - val_loss: 0.4099 - val_accuracy: 0.9722\n",
      "Epoch 258/500\n",
      "3/3 [==============================] - 0s 49ms/step - loss: 0.4203 - accuracy: 0.9115 - val_loss: 0.4086 - val_accuracy: 1.0000\n",
      "Epoch 259/500\n",
      "3/3 [==============================] - 0s 128ms/step - loss: 0.3978 - accuracy: 0.9115 - val_loss: 0.4073 - val_accuracy: 1.0000\n",
      "Epoch 260/500\n",
      "3/3 [==============================] - 0s 115ms/step - loss: 0.4221 - accuracy: 0.8997 - val_loss: 0.4061 - val_accuracy: 1.0000\n",
      "Epoch 261/500\n",
      "3/3 [==============================] - 0s 51ms/step - loss: 0.4217 - accuracy: 0.9115 - val_loss: 0.4050 - val_accuracy: 1.0000\n",
      "Epoch 262/500\n",
      "3/3 [==============================] - 0s 52ms/step - loss: 0.3968 - accuracy: 0.9076 - val_loss: 0.4039 - val_accuracy: 0.9722\n",
      "Epoch 263/500\n",
      "3/3 [==============================] - 0s 58ms/step - loss: 0.4102 - accuracy: 0.9036 - val_loss: 0.4027 - val_accuracy: 1.0000\n",
      "Epoch 264/500\n",
      "3/3 [==============================] - 0s 51ms/step - loss: 0.3910 - accuracy: 0.9232 - val_loss: 0.4015 - val_accuracy: 1.0000\n",
      "Epoch 265/500\n",
      "3/3 [==============================] - 0s 97ms/step - loss: 0.3957 - accuracy: 0.9232 - val_loss: 0.4002 - val_accuracy: 1.0000\n",
      "Epoch 266/500\n",
      "3/3 [==============================] - 0s 138ms/step - loss: 0.3925 - accuracy: 0.9076 - val_loss: 0.3991 - val_accuracy: 1.0000\n",
      "Epoch 267/500\n",
      "3/3 [==============================] - 0s 50ms/step - loss: 0.4084 - accuracy: 0.9310 - val_loss: 0.3980 - val_accuracy: 1.0000\n",
      "Epoch 268/500\n",
      "3/3 [==============================] - 0s 55ms/step - loss: 0.3992 - accuracy: 0.9115 - val_loss: 0.3968 - val_accuracy: 1.0000\n",
      "Epoch 269/500\n",
      "3/3 [==============================] - 0s 43ms/step - loss: 0.4215 - accuracy: 0.8841 - val_loss: 0.3955 - val_accuracy: 1.0000\n",
      "Epoch 270/500\n",
      "3/3 [==============================] - 0s 64ms/step - loss: 0.3824 - accuracy: 0.9232 - val_loss: 0.3944 - val_accuracy: 1.0000\n",
      "Epoch 271/500\n",
      "3/3 [==============================] - 0s 78ms/step - loss: 0.3979 - accuracy: 0.9115 - val_loss: 0.3932 - val_accuracy: 1.0000\n",
      "Epoch 272/500\n",
      "3/3 [==============================] - 0s 66ms/step - loss: 0.3825 - accuracy: 0.9036 - val_loss: 0.3920 - val_accuracy: 1.0000\n",
      "Epoch 273/500\n",
      "3/3 [==============================] - 0s 72ms/step - loss: 0.4019 - accuracy: 0.9076 - val_loss: 0.3909 - val_accuracy: 1.0000\n",
      "Epoch 274/500\n",
      "3/3 [==============================] - 0s 60ms/step - loss: 0.3789 - accuracy: 0.9271 - val_loss: 0.3899 - val_accuracy: 1.0000\n",
      "Epoch 275/500\n",
      "3/3 [==============================] - 0s 51ms/step - loss: 0.3738 - accuracy: 0.9154 - val_loss: 0.3888 - val_accuracy: 1.0000\n",
      "Epoch 276/500\n",
      "3/3 [==============================] - 0s 23ms/step - loss: 0.3916 - accuracy: 0.9076 - val_loss: 0.3876 - val_accuracy: 1.0000\n",
      "Epoch 277/500\n",
      "3/3 [==============================] - 0s 74ms/step - loss: 0.3922 - accuracy: 0.9154 - val_loss: 0.3863 - val_accuracy: 1.0000\n",
      "Epoch 278/500\n",
      "3/3 [==============================] - 0s 117ms/step - loss: 0.4045 - accuracy: 0.9076 - val_loss: 0.3850 - val_accuracy: 1.0000\n",
      "Epoch 279/500\n",
      "3/3 [==============================] - 0s 107ms/step - loss: 0.3886 - accuracy: 0.9291 - val_loss: 0.3838 - val_accuracy: 1.0000\n",
      "Epoch 280/500\n",
      "3/3 [==============================] - 0s 68ms/step - loss: 0.3709 - accuracy: 0.9291 - val_loss: 0.3828 - val_accuracy: 1.0000\n",
      "Epoch 281/500\n",
      "3/3 [==============================] - 0s 69ms/step - loss: 0.3864 - accuracy: 0.9408 - val_loss: 0.3818 - val_accuracy: 1.0000\n",
      "Epoch 282/500\n",
      "3/3 [==============================] - 0s 48ms/step - loss: 0.3943 - accuracy: 0.9448 - val_loss: 0.3807 - val_accuracy: 1.0000\n",
      "Epoch 283/500\n",
      "3/3 [==============================] - 0s 60ms/step - loss: 0.3665 - accuracy: 0.9526 - val_loss: 0.3795 - val_accuracy: 1.0000\n",
      "Epoch 284/500\n",
      "3/3 [==============================] - 0s 118ms/step - loss: 0.4028 - accuracy: 0.9018 - val_loss: 0.3783 - val_accuracy: 1.0000\n",
      "Epoch 285/500\n",
      "3/3 [==============================] - 0s 136ms/step - loss: 0.3834 - accuracy: 0.9330 - val_loss: 0.3772 - val_accuracy: 1.0000\n",
      "Epoch 286/500\n",
      "3/3 [==============================] - 0s 39ms/step - loss: 0.3793 - accuracy: 0.9291 - val_loss: 0.3760 - val_accuracy: 1.0000\n",
      "Epoch 287/500\n",
      "3/3 [==============================] - 0s 82ms/step - loss: 0.3728 - accuracy: 0.9369 - val_loss: 0.3750 - val_accuracy: 1.0000\n",
      "Epoch 288/500\n",
      "3/3 [==============================] - 0s 43ms/step - loss: 0.3789 - accuracy: 0.9330 - val_loss: 0.3740 - val_accuracy: 1.0000\n",
      "Epoch 289/500\n",
      "3/3 [==============================] - 0s 103ms/step - loss: 0.3865 - accuracy: 0.9291 - val_loss: 0.3729 - val_accuracy: 1.0000\n",
      "Epoch 290/500\n"
     ]
    },
    {
     "name": "stdout",
     "output_type": "stream",
     "text": [
      "3/3 [==============================] - 0s 91ms/step - loss: 0.3987 - accuracy: 0.9018 - val_loss: 0.3718 - val_accuracy: 1.0000\n",
      "Epoch 291/500\n",
      "3/3 [==============================] - 0s 42ms/step - loss: 0.3645 - accuracy: 0.9252 - val_loss: 0.3707 - val_accuracy: 1.0000\n",
      "Epoch 292/500\n",
      "3/3 [==============================] - 0s 80ms/step - loss: 0.3801 - accuracy: 0.9252 - val_loss: 0.3697 - val_accuracy: 1.0000\n",
      "Epoch 293/500\n",
      "3/3 [==============================] - 0s 41ms/step - loss: 0.3782 - accuracy: 0.9018 - val_loss: 0.3687 - val_accuracy: 1.0000\n",
      "Epoch 294/500\n",
      "3/3 [==============================] - 0s 49ms/step - loss: 0.3718 - accuracy: 0.9135 - val_loss: 0.3676 - val_accuracy: 1.0000\n",
      "Epoch 295/500\n",
      "3/3 [==============================] - 0s 47ms/step - loss: 0.3628 - accuracy: 0.9408 - val_loss: 0.3665 - val_accuracy: 1.0000\n",
      "Epoch 296/500\n",
      "3/3 [==============================] - 0s 57ms/step - loss: 0.3505 - accuracy: 0.9291 - val_loss: 0.3655 - val_accuracy: 1.0000\n",
      "Epoch 297/500\n",
      "3/3 [==============================] - 0s 143ms/step - loss: 0.3706 - accuracy: 0.9330 - val_loss: 0.3645 - val_accuracy: 1.0000\n",
      "Epoch 298/500\n",
      "3/3 [==============================] - 0s 84ms/step - loss: 0.3917 - accuracy: 0.9174 - val_loss: 0.3633 - val_accuracy: 1.0000\n",
      "Epoch 299/500\n",
      "3/3 [==============================] - 0s 55ms/step - loss: 0.3703 - accuracy: 0.9291 - val_loss: 0.3622 - val_accuracy: 1.0000\n",
      "Epoch 300/500\n",
      "3/3 [==============================] - 0s 52ms/step - loss: 0.3626 - accuracy: 0.9408 - val_loss: 0.3612 - val_accuracy: 1.0000\n",
      "Epoch 301/500\n",
      "3/3 [==============================] - 0s 54ms/step - loss: 0.3760 - accuracy: 0.9252 - val_loss: 0.3601 - val_accuracy: 1.0000\n",
      "Epoch 302/500\n",
      "3/3 [==============================] - 0s 58ms/step - loss: 0.3767 - accuracy: 0.9273 - val_loss: 0.3589 - val_accuracy: 1.0000\n",
      "Epoch 303/500\n",
      "3/3 [==============================] - 0s 63ms/step - loss: 0.3516 - accuracy: 0.9468 - val_loss: 0.3578 - val_accuracy: 1.0000\n",
      "Epoch 304/500\n",
      "3/3 [==============================] - 0s 53ms/step - loss: 0.3658 - accuracy: 0.9390 - val_loss: 0.3568 - val_accuracy: 1.0000\n",
      "Epoch 305/500\n",
      "3/3 [==============================] - 0s 66ms/step - loss: 0.3506 - accuracy: 0.9546 - val_loss: 0.3558 - val_accuracy: 1.0000\n",
      "Epoch 306/500\n",
      "3/3 [==============================] - 0s 37ms/step - loss: 0.3602 - accuracy: 0.9390 - val_loss: 0.3547 - val_accuracy: 1.0000\n",
      "Epoch 307/500\n",
      "3/3 [==============================] - 0s 44ms/step - loss: 0.3577 - accuracy: 0.9528 - val_loss: 0.3536 - val_accuracy: 1.0000\n",
      "Epoch 308/500\n",
      "3/3 [==============================] - 0s 70ms/step - loss: 0.3737 - accuracy: 0.9528 - val_loss: 0.3526 - val_accuracy: 1.0000\n",
      "Epoch 309/500\n",
      "3/3 [==============================] - 0s 43ms/step - loss: 0.3688 - accuracy: 0.9293 - val_loss: 0.3516 - val_accuracy: 1.0000\n",
      "Epoch 310/500\n",
      "3/3 [==============================] - 0s 54ms/step - loss: 0.3649 - accuracy: 0.9371 - val_loss: 0.3507 - val_accuracy: 1.0000\n",
      "Epoch 311/500\n",
      "3/3 [==============================] - 0s 78ms/step - loss: 0.3844 - accuracy: 0.9293 - val_loss: 0.3497 - val_accuracy: 1.0000\n",
      "Epoch 312/500\n",
      "3/3 [==============================] - 0s 75ms/step - loss: 0.3558 - accuracy: 0.9567 - val_loss: 0.3488 - val_accuracy: 1.0000\n",
      "Epoch 313/500\n",
      "3/3 [==============================] - 0s 63ms/step - loss: 0.3544 - accuracy: 0.9468 - val_loss: 0.3480 - val_accuracy: 1.0000\n",
      "Epoch 314/500\n",
      "3/3 [==============================] - 0s 65ms/step - loss: 0.3532 - accuracy: 0.9174 - val_loss: 0.3472 - val_accuracy: 1.0000\n",
      "Epoch 315/500\n",
      "3/3 [==============================] - 0s 59ms/step - loss: 0.3518 - accuracy: 0.9330 - val_loss: 0.3461 - val_accuracy: 1.0000\n",
      "Epoch 316/500\n",
      "3/3 [==============================] - 0s 58ms/step - loss: 0.3359 - accuracy: 0.9408 - val_loss: 0.3452 - val_accuracy: 1.0000\n",
      "Epoch 317/500\n",
      "3/3 [==============================] - 0s 80ms/step - loss: 0.3693 - accuracy: 0.9057 - val_loss: 0.3440 - val_accuracy: 1.0000\n",
      "Epoch 318/500\n",
      "3/3 [==============================] - 0s 45ms/step - loss: 0.3520 - accuracy: 0.9429 - val_loss: 0.3429 - val_accuracy: 1.0000\n",
      "Epoch 319/500\n",
      "3/3 [==============================] - 0s 87ms/step - loss: 0.3493 - accuracy: 0.9234 - val_loss: 0.3418 - val_accuracy: 1.0000\n",
      "Epoch 320/500\n",
      "3/3 [==============================] - 0s 71ms/step - loss: 0.3547 - accuracy: 0.9371 - val_loss: 0.3407 - val_accuracy: 1.0000\n",
      "Epoch 321/500\n",
      "3/3 [==============================] - 0s 55ms/step - loss: 0.3467 - accuracy: 0.9567 - val_loss: 0.3397 - val_accuracy: 1.0000\n",
      "Epoch 322/500\n",
      "3/3 [==============================] - 0s 28ms/step - loss: 0.3603 - accuracy: 0.9606 - val_loss: 0.3385 - val_accuracy: 1.0000\n",
      "Epoch 323/500\n",
      "3/3 [==============================] - 0s 35ms/step - loss: 0.3309 - accuracy: 0.9606 - val_loss: 0.3375 - val_accuracy: 1.0000\n",
      "Epoch 324/500\n",
      "3/3 [==============================] - 0s 86ms/step - loss: 0.3349 - accuracy: 0.9684 - val_loss: 0.3365 - val_accuracy: 1.0000\n",
      "Epoch 325/500\n",
      "3/3 [==============================] - 0s 66ms/step - loss: 0.3415 - accuracy: 0.9488 - val_loss: 0.3355 - val_accuracy: 1.0000\n",
      "Epoch 326/500\n",
      "3/3 [==============================] - 0s 90ms/step - loss: 0.3542 - accuracy: 0.9488 - val_loss: 0.3345 - val_accuracy: 1.0000\n",
      "Epoch 327/500\n",
      "3/3 [==============================] - 0s 56ms/step - loss: 0.3361 - accuracy: 0.9410 - val_loss: 0.3335 - val_accuracy: 1.0000\n",
      "Epoch 328/500\n",
      "3/3 [==============================] - 0s 85ms/step - loss: 0.3529 - accuracy: 0.9449 - val_loss: 0.3324 - val_accuracy: 1.0000\n",
      "Epoch 329/500\n",
      "3/3 [==============================] - 0s 39ms/step - loss: 0.3471 - accuracy: 0.9488 - val_loss: 0.3315 - val_accuracy: 1.0000\n",
      "Epoch 330/500\n",
      "3/3 [==============================] - 0s 89ms/step - loss: 0.3285 - accuracy: 0.9567 - val_loss: 0.3305 - val_accuracy: 1.0000\n",
      "Epoch 331/500\n",
      "3/3 [==============================] - 0s 62ms/step - loss: 0.3457 - accuracy: 0.9567 - val_loss: 0.3297 - val_accuracy: 1.0000\n",
      "Epoch 332/500\n",
      "3/3 [==============================] - 0s 62ms/step - loss: 0.3272 - accuracy: 0.9567 - val_loss: 0.3288 - val_accuracy: 1.0000\n",
      "Epoch 333/500\n",
      "3/3 [==============================] - 0s 76ms/step - loss: 0.3374 - accuracy: 0.9606 - val_loss: 0.3279 - val_accuracy: 1.0000\n",
      "Epoch 334/500\n",
      "3/3 [==============================] - 0s 54ms/step - loss: 0.3336 - accuracy: 0.9567 - val_loss: 0.3269 - val_accuracy: 1.0000\n",
      "Epoch 335/500\n",
      "3/3 [==============================] - 0s 55ms/step - loss: 0.3355 - accuracy: 0.9645 - val_loss: 0.3258 - val_accuracy: 1.0000\n",
      "Epoch 336/500\n",
      "3/3 [==============================] - 0s 43ms/step - loss: 0.3517 - accuracy: 0.9410 - val_loss: 0.3248 - val_accuracy: 1.0000\n",
      "Epoch 337/500\n",
      "3/3 [==============================] - 0s 42ms/step - loss: 0.3497 - accuracy: 0.9371 - val_loss: 0.3238 - val_accuracy: 1.0000\n",
      "Epoch 338/500\n",
      "3/3 [==============================] - 0s 89ms/step - loss: 0.3293 - accuracy: 0.9488 - val_loss: 0.3229 - val_accuracy: 1.0000\n",
      "Epoch 339/500\n",
      "3/3 [==============================] - 0s 69ms/step - loss: 0.3309 - accuracy: 0.9606 - val_loss: 0.3219 - val_accuracy: 1.0000\n",
      "Epoch 340/500\n",
      "3/3 [==============================] - 0s 82ms/step - loss: 0.3326 - accuracy: 0.9293 - val_loss: 0.3209 - val_accuracy: 1.0000\n",
      "Epoch 341/500\n",
      "3/3 [==============================] - 0s 57ms/step - loss: 0.3312 - accuracy: 0.9606 - val_loss: 0.3199 - val_accuracy: 1.0000\n",
      "Epoch 342/500\n",
      "3/3 [==============================] - 0s 27ms/step - loss: 0.3285 - accuracy: 0.9371 - val_loss: 0.3189 - val_accuracy: 1.0000\n",
      "Epoch 343/500\n",
      "3/3 [==============================] - 0s 45ms/step - loss: 0.3394 - accuracy: 0.9488 - val_loss: 0.3179 - val_accuracy: 1.0000\n",
      "Epoch 344/500\n",
      "3/3 [==============================] - 0s 67ms/step - loss: 0.3072 - accuracy: 0.9528 - val_loss: 0.3169 - val_accuracy: 1.0000\n",
      "Epoch 345/500\n",
      "3/3 [==============================] - 0s 63ms/step - loss: 0.3274 - accuracy: 0.9528 - val_loss: 0.3159 - val_accuracy: 1.0000\n",
      "Epoch 346/500\n",
      "3/3 [==============================] - 0s 43ms/step - loss: 0.3298 - accuracy: 0.9528 - val_loss: 0.3150 - val_accuracy: 1.0000\n",
      "Epoch 347/500\n",
      "3/3 [==============================] - 0s 76ms/step - loss: 0.3263 - accuracy: 0.9371 - val_loss: 0.3142 - val_accuracy: 1.0000\n"
     ]
    },
    {
     "name": "stdout",
     "output_type": "stream",
     "text": [
      "Epoch 348/500\n",
      "3/3 [==============================] - 0s 42ms/step - loss: 0.3165 - accuracy: 0.9528 - val_loss: 0.3133 - val_accuracy: 1.0000\n",
      "Epoch 349/500\n",
      "3/3 [==============================] - 0s 35ms/step - loss: 0.3251 - accuracy: 0.9606 - val_loss: 0.3124 - val_accuracy: 1.0000\n",
      "Epoch 350/500\n",
      "3/3 [==============================] - 0s 39ms/step - loss: 0.3229 - accuracy: 0.9488 - val_loss: 0.3114 - val_accuracy: 1.0000\n",
      "Epoch 351/500\n",
      "3/3 [==============================] - 0s 37ms/step - loss: 0.3211 - accuracy: 0.9488 - val_loss: 0.3104 - val_accuracy: 1.0000\n",
      "Epoch 352/500\n",
      "3/3 [==============================] - 0s 45ms/step - loss: 0.3131 - accuracy: 0.9567 - val_loss: 0.3095 - val_accuracy: 1.0000\n",
      "Epoch 353/500\n",
      "3/3 [==============================] - 0s 70ms/step - loss: 0.3164 - accuracy: 0.9645 - val_loss: 0.3085 - val_accuracy: 1.0000\n",
      "Epoch 354/500\n",
      "3/3 [==============================] - 0s 46ms/step - loss: 0.3257 - accuracy: 0.9567 - val_loss: 0.3074 - val_accuracy: 1.0000\n",
      "Epoch 355/500\n",
      "3/3 [==============================] - 0s 75ms/step - loss: 0.3336 - accuracy: 0.9488 - val_loss: 0.3064 - val_accuracy: 1.0000\n",
      "Epoch 356/500\n",
      "3/3 [==============================] - 0s 41ms/step - loss: 0.3358 - accuracy: 0.9449 - val_loss: 0.3055 - val_accuracy: 1.0000\n",
      "Epoch 357/500\n",
      "3/3 [==============================] - 0s 34ms/step - loss: 0.3208 - accuracy: 0.9723 - val_loss: 0.3046 - val_accuracy: 1.0000\n",
      "Epoch 358/500\n",
      "3/3 [==============================] - 0s 34ms/step - loss: 0.3230 - accuracy: 0.9528 - val_loss: 0.3038 - val_accuracy: 1.0000\n",
      "Epoch 359/500\n",
      "3/3 [==============================] - 0s 43ms/step - loss: 0.3126 - accuracy: 0.9684 - val_loss: 0.3028 - val_accuracy: 1.0000\n",
      "Epoch 360/500\n",
      "3/3 [==============================] - 0s 60ms/step - loss: 0.3154 - accuracy: 0.9410 - val_loss: 0.3019 - val_accuracy: 1.0000\n",
      "Epoch 361/500\n",
      "3/3 [==============================] - 0s 76ms/step - loss: 0.3201 - accuracy: 0.9449 - val_loss: 0.3011 - val_accuracy: 1.0000\n",
      "Epoch 362/500\n",
      "3/3 [==============================] - 0s 24ms/step - loss: 0.3121 - accuracy: 0.9567 - val_loss: 0.3002 - val_accuracy: 1.0000\n",
      "Epoch 363/500\n",
      "3/3 [==============================] - 0s 55ms/step - loss: 0.2989 - accuracy: 0.9645 - val_loss: 0.2993 - val_accuracy: 1.0000\n",
      "Epoch 364/500\n",
      "3/3 [==============================] - 0s 53ms/step - loss: 0.3112 - accuracy: 0.9488 - val_loss: 0.2984 - val_accuracy: 1.0000\n",
      "Epoch 365/500\n",
      "3/3 [==============================] - 0s 33ms/step - loss: 0.3149 - accuracy: 0.9371 - val_loss: 0.2975 - val_accuracy: 1.0000\n",
      "Epoch 366/500\n",
      "3/3 [==============================] - 0s 58ms/step - loss: 0.2977 - accuracy: 0.9684 - val_loss: 0.2967 - val_accuracy: 1.0000\n",
      "Epoch 367/500\n",
      "3/3 [==============================] - 0s 38ms/step - loss: 0.3078 - accuracy: 0.9645 - val_loss: 0.2958 - val_accuracy: 1.0000\n",
      "Epoch 368/500\n",
      "3/3 [==============================] - 0s 47ms/step - loss: 0.3043 - accuracy: 0.9567 - val_loss: 0.2947 - val_accuracy: 1.0000\n",
      "Epoch 369/500\n",
      "3/3 [==============================] - 0s 96ms/step - loss: 0.3181 - accuracy: 0.9488 - val_loss: 0.2938 - val_accuracy: 1.0000\n",
      "Epoch 370/500\n",
      "3/3 [==============================] - 0s 83ms/step - loss: 0.3014 - accuracy: 0.9645 - val_loss: 0.2929 - val_accuracy: 1.0000\n",
      "Epoch 371/500\n",
      "3/3 [==============================] - 0s 54ms/step - loss: 0.3147 - accuracy: 0.9371 - val_loss: 0.2919 - val_accuracy: 1.0000\n",
      "Epoch 372/500\n",
      "3/3 [==============================] - 0s 60ms/step - loss: 0.3131 - accuracy: 0.9488 - val_loss: 0.2910 - val_accuracy: 1.0000\n",
      "Epoch 373/500\n",
      "3/3 [==============================] - 0s 53ms/step - loss: 0.3074 - accuracy: 0.9528 - val_loss: 0.2901 - val_accuracy: 1.0000\n",
      "Epoch 374/500\n",
      "3/3 [==============================] - 0s 50ms/step - loss: 0.3056 - accuracy: 0.9567 - val_loss: 0.2892 - val_accuracy: 1.0000\n",
      "Epoch 375/500\n",
      "3/3 [==============================] - 0s 78ms/step - loss: 0.3140 - accuracy: 0.9449 - val_loss: 0.2883 - val_accuracy: 1.0000\n",
      "Epoch 376/500\n",
      "3/3 [==============================] - 0s 58ms/step - loss: 0.2971 - accuracy: 0.9606 - val_loss: 0.2874 - val_accuracy: 1.0000\n",
      "Epoch 377/500\n",
      "3/3 [==============================] - 0s 65ms/step - loss: 0.3056 - accuracy: 0.9665 - val_loss: 0.2865 - val_accuracy: 1.0000\n",
      "Epoch 378/500\n",
      "3/3 [==============================] - 0s 44ms/step - loss: 0.2908 - accuracy: 0.9567 - val_loss: 0.2856 - val_accuracy: 1.0000\n",
      "Epoch 379/500\n",
      "3/3 [==============================] - 0s 61ms/step - loss: 0.2905 - accuracy: 0.9528 - val_loss: 0.2847 - val_accuracy: 1.0000\n",
      "Epoch 380/500\n",
      "3/3 [==============================] - 0s 54ms/step - loss: 0.2990 - accuracy: 0.9684 - val_loss: 0.2839 - val_accuracy: 1.0000\n",
      "Epoch 381/500\n",
      "3/3 [==============================] - 0s 53ms/step - loss: 0.3166 - accuracy: 0.9528 - val_loss: 0.2831 - val_accuracy: 1.0000\n",
      "Epoch 382/500\n",
      "3/3 [==============================] - 0s 60ms/step - loss: 0.3055 - accuracy: 0.9449 - val_loss: 0.2822 - val_accuracy: 1.0000\n",
      "Epoch 383/500\n",
      "3/3 [==============================] - 0s 68ms/step - loss: 0.2992 - accuracy: 0.9488 - val_loss: 0.2813 - val_accuracy: 1.0000\n",
      "Epoch 384/500\n",
      "3/3 [==============================] - 0s 50ms/step - loss: 0.3032 - accuracy: 0.9567 - val_loss: 0.2804 - val_accuracy: 1.0000\n",
      "Epoch 385/500\n",
      "3/3 [==============================] - 0s 43ms/step - loss: 0.2923 - accuracy: 0.9606 - val_loss: 0.2795 - val_accuracy: 1.0000\n",
      "Epoch 386/500\n",
      "3/3 [==============================] - 0s 65ms/step - loss: 0.2965 - accuracy: 0.9449 - val_loss: 0.2786 - val_accuracy: 1.0000\n",
      "Epoch 387/500\n",
      "3/3 [==============================] - 0s 35ms/step - loss: 0.3208 - accuracy: 0.9410 - val_loss: 0.2777 - val_accuracy: 1.0000\n",
      "Epoch 388/500\n",
      "3/3 [==============================] - 0s 51ms/step - loss: 0.3065 - accuracy: 0.9528 - val_loss: 0.2768 - val_accuracy: 1.0000\n",
      "Epoch 389/500\n",
      "3/3 [==============================] - 0s 86ms/step - loss: 0.2884 - accuracy: 0.9567 - val_loss: 0.2760 - val_accuracy: 1.0000\n",
      "Epoch 390/500\n",
      "3/3 [==============================] - 0s 56ms/step - loss: 0.3027 - accuracy: 0.9567 - val_loss: 0.2751 - val_accuracy: 1.0000\n",
      "Epoch 391/500\n",
      "3/3 [==============================] - 0s 74ms/step - loss: 0.2827 - accuracy: 0.9626 - val_loss: 0.2743 - val_accuracy: 1.0000\n",
      "Epoch 392/500\n",
      "3/3 [==============================] - 0s 35ms/step - loss: 0.2963 - accuracy: 0.9488 - val_loss: 0.2734 - val_accuracy: 1.0000\n",
      "Epoch 393/500\n",
      "3/3 [==============================] - 0s 46ms/step - loss: 0.2828 - accuracy: 0.9528 - val_loss: 0.2726 - val_accuracy: 1.0000\n",
      "Epoch 394/500\n",
      "3/3 [==============================] - 0s 42ms/step - loss: 0.2831 - accuracy: 0.9645 - val_loss: 0.2718 - val_accuracy: 1.0000\n",
      "Epoch 395/500\n",
      "3/3 [==============================] - 0s 45ms/step - loss: 0.3083 - accuracy: 0.9371 - val_loss: 0.2709 - val_accuracy: 1.0000\n",
      "Epoch 396/500\n",
      "3/3 [==============================] - 0s 68ms/step - loss: 0.2910 - accuracy: 0.9488 - val_loss: 0.2701 - val_accuracy: 1.0000\n",
      "Epoch 397/500\n",
      "3/3 [==============================] - 0s 47ms/step - loss: 0.2932 - accuracy: 0.9449 - val_loss: 0.2692 - val_accuracy: 1.0000\n",
      "Epoch 398/500\n",
      "3/3 [==============================] - 0s 69ms/step - loss: 0.3011 - accuracy: 0.9449 - val_loss: 0.2683 - val_accuracy: 1.0000\n",
      "Epoch 399/500\n",
      "3/3 [==============================] - 0s 55ms/step - loss: 0.2934 - accuracy: 0.9488 - val_loss: 0.2675 - val_accuracy: 1.0000\n",
      "Epoch 400/500\n",
      "3/3 [==============================] - 0s 31ms/step - loss: 0.2713 - accuracy: 0.9762 - val_loss: 0.2667 - val_accuracy: 1.0000\n",
      "Epoch 401/500\n",
      "3/3 [==============================] - 0s 52ms/step - loss: 0.2830 - accuracy: 0.9606 - val_loss: 0.2659 - val_accuracy: 1.0000\n",
      "Epoch 402/500\n",
      "3/3 [==============================] - 0s 57ms/step - loss: 0.2895 - accuracy: 0.9626 - val_loss: 0.2651 - val_accuracy: 1.0000\n",
      "Epoch 403/500\n",
      "3/3 [==============================] - 0s 30ms/step - loss: 0.2836 - accuracy: 0.9626 - val_loss: 0.2642 - val_accuracy: 1.0000\n",
      "Epoch 404/500\n",
      "3/3 [==============================] - 0s 73ms/step - loss: 0.3053 - accuracy: 0.9626 - val_loss: 0.2634 - val_accuracy: 1.0000\n",
      "Epoch 405/500\n",
      "3/3 [==============================] - 0s 90ms/step - loss: 0.2732 - accuracy: 0.9684 - val_loss: 0.2625 - val_accuracy: 1.0000\n"
     ]
    },
    {
     "name": "stdout",
     "output_type": "stream",
     "text": [
      "Epoch 406/500\n",
      "3/3 [==============================] - 0s 59ms/step - loss: 0.2893 - accuracy: 0.9567 - val_loss: 0.2618 - val_accuracy: 1.0000\n",
      "Epoch 407/500\n",
      "3/3 [==============================] - 0s 64ms/step - loss: 0.2698 - accuracy: 0.9567 - val_loss: 0.2609 - val_accuracy: 1.0000\n",
      "Epoch 408/500\n",
      "3/3 [==============================] - 0s 31ms/step - loss: 0.2834 - accuracy: 0.9567 - val_loss: 0.2601 - val_accuracy: 1.0000\n",
      "Epoch 409/500\n",
      "3/3 [==============================] - 0s 62ms/step - loss: 0.2839 - accuracy: 0.9567 - val_loss: 0.2593 - val_accuracy: 1.0000\n",
      "Epoch 410/500\n",
      "3/3 [==============================] - 0s 70ms/step - loss: 0.2829 - accuracy: 0.9470 - val_loss: 0.2585 - val_accuracy: 1.0000\n",
      "Epoch 411/500\n",
      "3/3 [==============================] - 0s 66ms/step - loss: 0.2873 - accuracy: 0.9548 - val_loss: 0.2577 - val_accuracy: 1.0000\n",
      "Epoch 412/500\n",
      "3/3 [==============================] - 0s 70ms/step - loss: 0.2762 - accuracy: 0.9548 - val_loss: 0.2568 - val_accuracy: 1.0000\n",
      "Epoch 413/500\n",
      "3/3 [==============================] - 0s 69ms/step - loss: 0.2718 - accuracy: 0.9704 - val_loss: 0.2560 - val_accuracy: 1.0000\n",
      "Epoch 414/500\n",
      "3/3 [==============================] - 0s 61ms/step - loss: 0.2720 - accuracy: 0.9449 - val_loss: 0.2552 - val_accuracy: 1.0000\n",
      "Epoch 415/500\n",
      "3/3 [==============================] - 0s 87ms/step - loss: 0.2844 - accuracy: 0.9488 - val_loss: 0.2543 - val_accuracy: 1.0000\n",
      "Epoch 416/500\n",
      "3/3 [==============================] - 0s 103ms/step - loss: 0.2761 - accuracy: 0.9626 - val_loss: 0.2535 - val_accuracy: 1.0000\n",
      "Epoch 417/500\n",
      "3/3 [==============================] - 0s 33ms/step - loss: 0.2767 - accuracy: 0.9567 - val_loss: 0.2527 - val_accuracy: 1.0000\n",
      "Epoch 418/500\n",
      "3/3 [==============================] - 0s 61ms/step - loss: 0.2806 - accuracy: 0.9449 - val_loss: 0.2519 - val_accuracy: 1.0000\n",
      "Epoch 419/500\n",
      "3/3 [==============================] - 0s 44ms/step - loss: 0.2644 - accuracy: 0.9723 - val_loss: 0.2511 - val_accuracy: 1.0000\n",
      "Epoch 420/500\n",
      "3/3 [==============================] - 0s 40ms/step - loss: 0.2727 - accuracy: 0.9449 - val_loss: 0.2502 - val_accuracy: 1.0000\n",
      "Epoch 421/500\n",
      "3/3 [==============================] - 0s 42ms/step - loss: 0.2708 - accuracy: 0.9567 - val_loss: 0.2494 - val_accuracy: 1.0000\n",
      "Epoch 422/500\n",
      "3/3 [==============================] - 0s 68ms/step - loss: 0.2809 - accuracy: 0.9626 - val_loss: 0.2486 - val_accuracy: 1.0000\n",
      "Epoch 423/500\n",
      "3/3 [==============================] - 0s 44ms/step - loss: 0.2797 - accuracy: 0.9548 - val_loss: 0.2479 - val_accuracy: 1.0000\n",
      "Epoch 424/500\n",
      "3/3 [==============================] - 0s 81ms/step - loss: 0.2621 - accuracy: 0.9782 - val_loss: 0.2471 - val_accuracy: 1.0000\n",
      "Epoch 425/500\n",
      "3/3 [==============================] - 0s 69ms/step - loss: 0.2600 - accuracy: 0.9743 - val_loss: 0.2463 - val_accuracy: 1.0000\n",
      "Epoch 426/500\n",
      "3/3 [==============================] - 0s 38ms/step - loss: 0.2616 - accuracy: 0.9626 - val_loss: 0.2455 - val_accuracy: 1.0000\n",
      "Epoch 427/500\n",
      "3/3 [==============================] - 0s 80ms/step - loss: 0.2799 - accuracy: 0.9548 - val_loss: 0.2447 - val_accuracy: 1.0000\n",
      "Epoch 428/500\n",
      "3/3 [==============================] - 0s 44ms/step - loss: 0.2668 - accuracy: 0.9665 - val_loss: 0.2439 - val_accuracy: 1.0000\n",
      "Epoch 429/500\n",
      "3/3 [==============================] - 0s 65ms/step - loss: 0.2744 - accuracy: 0.9449 - val_loss: 0.2431 - val_accuracy: 1.0000\n",
      "Epoch 430/500\n",
      "3/3 [==============================] - 0s 41ms/step - loss: 0.2638 - accuracy: 0.9606 - val_loss: 0.2423 - val_accuracy: 1.0000\n",
      "Epoch 431/500\n",
      "3/3 [==============================] - 0s 46ms/step - loss: 0.2545 - accuracy: 0.9723 - val_loss: 0.2416 - val_accuracy: 1.0000\n",
      "Epoch 432/500\n",
      "3/3 [==============================] - 0s 63ms/step - loss: 0.2502 - accuracy: 0.9567 - val_loss: 0.2408 - val_accuracy: 1.0000\n",
      "Epoch 433/500\n",
      "3/3 [==============================] - 0s 65ms/step - loss: 0.2735 - accuracy: 0.9488 - val_loss: 0.2401 - val_accuracy: 1.0000\n",
      "Epoch 434/500\n",
      "3/3 [==============================] - 0s 59ms/step - loss: 0.2745 - accuracy: 0.9470 - val_loss: 0.2394 - val_accuracy: 1.0000\n",
      "Epoch 435/500\n",
      "3/3 [==============================] - 0s 39ms/step - loss: 0.2735 - accuracy: 0.9782 - val_loss: 0.2386 - val_accuracy: 1.0000\n",
      "Epoch 436/500\n",
      "3/3 [==============================] - 0s 49ms/step - loss: 0.2424 - accuracy: 0.9665 - val_loss: 0.2379 - val_accuracy: 1.0000\n",
      "Epoch 437/500\n",
      "3/3 [==============================] - 0s 42ms/step - loss: 0.2511 - accuracy: 0.9587 - val_loss: 0.2371 - val_accuracy: 1.0000\n",
      "Epoch 438/500\n",
      "3/3 [==============================] - 0s 46ms/step - loss: 0.2852 - accuracy: 0.9548 - val_loss: 0.2364 - val_accuracy: 1.0000\n",
      "Epoch 439/500\n",
      "3/3 [==============================] - 0s 43ms/step - loss: 0.2567 - accuracy: 0.9743 - val_loss: 0.2355 - val_accuracy: 1.0000\n",
      "Epoch 440/500\n",
      "3/3 [==============================] - 0s 83ms/step - loss: 0.2550 - accuracy: 0.9704 - val_loss: 0.2348 - val_accuracy: 1.0000\n",
      "Epoch 441/500\n",
      "3/3 [==============================] - 0s 66ms/step - loss: 0.2676 - accuracy: 0.9782 - val_loss: 0.2340 - val_accuracy: 1.0000\n",
      "Epoch 442/500\n",
      "3/3 [==============================] - 0s 56ms/step - loss: 0.2481 - accuracy: 0.9665 - val_loss: 0.2333 - val_accuracy: 1.0000\n",
      "Epoch 443/500\n",
      "3/3 [==============================] - 0s 48ms/step - loss: 0.2474 - accuracy: 0.9782 - val_loss: 0.2325 - val_accuracy: 1.0000\n",
      "Epoch 444/500\n",
      "3/3 [==============================] - 0s 48ms/step - loss: 0.2447 - accuracy: 0.9626 - val_loss: 0.2318 - val_accuracy: 1.0000\n",
      "Epoch 445/500\n",
      "3/3 [==============================] - 0s 45ms/step - loss: 0.2502 - accuracy: 0.9782 - val_loss: 0.2310 - val_accuracy: 1.0000\n",
      "Epoch 446/500\n",
      "3/3 [==============================] - 0s 43ms/step - loss: 0.2650 - accuracy: 0.9548 - val_loss: 0.2303 - val_accuracy: 1.0000\n",
      "Epoch 447/500\n",
      "3/3 [==============================] - 0s 108ms/step - loss: 0.2433 - accuracy: 0.9782 - val_loss: 0.2296 - val_accuracy: 1.0000\n",
      "Epoch 448/500\n",
      "3/3 [==============================] - 0s 82ms/step - loss: 0.2569 - accuracy: 0.9548 - val_loss: 0.2289 - val_accuracy: 1.0000\n",
      "Epoch 449/500\n",
      "3/3 [==============================] - 0s 55ms/step - loss: 0.2433 - accuracy: 0.9743 - val_loss: 0.2281 - val_accuracy: 1.0000\n",
      "Epoch 450/500\n",
      "3/3 [==============================] - 0s 32ms/step - loss: 0.2713 - accuracy: 0.9548 - val_loss: 0.2273 - val_accuracy: 1.0000\n",
      "Epoch 451/500\n",
      "3/3 [==============================] - 0s 37ms/step - loss: 0.2698 - accuracy: 0.9587 - val_loss: 0.2265 - val_accuracy: 1.0000\n",
      "Epoch 452/500\n",
      "3/3 [==============================] - 0s 44ms/step - loss: 0.2395 - accuracy: 0.9528 - val_loss: 0.2258 - val_accuracy: 1.0000\n",
      "Epoch 453/500\n",
      "3/3 [==============================] - 0s 52ms/step - loss: 0.2760 - accuracy: 0.9528 - val_loss: 0.2251 - val_accuracy: 1.0000\n",
      "Epoch 454/500\n",
      "3/3 [==============================] - 0s 75ms/step - loss: 0.2490 - accuracy: 0.9606 - val_loss: 0.2244 - val_accuracy: 1.0000\n",
      "Epoch 455/500\n",
      "3/3 [==============================] - 0s 44ms/step - loss: 0.2598 - accuracy: 0.9587 - val_loss: 0.2237 - val_accuracy: 1.0000\n",
      "Epoch 456/500\n",
      "3/3 [==============================] - 0s 81ms/step - loss: 0.2473 - accuracy: 0.9665 - val_loss: 0.2230 - val_accuracy: 1.0000\n",
      "Epoch 457/500\n",
      "3/3 [==============================] - 0s 30ms/step - loss: 0.2636 - accuracy: 0.9587 - val_loss: 0.2224 - val_accuracy: 1.0000\n",
      "Epoch 458/500\n",
      "3/3 [==============================] - 0s 55ms/step - loss: 0.2465 - accuracy: 0.9743 - val_loss: 0.2217 - val_accuracy: 1.0000\n",
      "Epoch 459/500\n",
      "3/3 [==============================] - 0s 43ms/step - loss: 0.2502 - accuracy: 0.9665 - val_loss: 0.2209 - val_accuracy: 1.0000\n",
      "Epoch 460/500\n",
      "3/3 [==============================] - 0s 50ms/step - loss: 0.2399 - accuracy: 0.9626 - val_loss: 0.2201 - val_accuracy: 1.0000\n",
      "Epoch 461/500\n",
      "3/3 [==============================] - 0s 89ms/step - loss: 0.2522 - accuracy: 0.9626 - val_loss: 0.2193 - val_accuracy: 1.0000\n",
      "Epoch 462/500\n",
      "3/3 [==============================] - 0s 81ms/step - loss: 0.2577 - accuracy: 0.9488 - val_loss: 0.2186 - val_accuracy: 1.0000\n",
      "Epoch 463/500\n",
      "3/3 [==============================] - 0s 62ms/step - loss: 0.2351 - accuracy: 0.9606 - val_loss: 0.2179 - val_accuracy: 1.0000\n"
     ]
    },
    {
     "name": "stdout",
     "output_type": "stream",
     "text": [
      "Epoch 464/500\n",
      "3/3 [==============================] - 0s 29ms/step - loss: 0.2511 - accuracy: 0.9410 - val_loss: 0.2172 - val_accuracy: 1.0000\n",
      "Epoch 465/500\n",
      "3/3 [==============================] - 0s 51ms/step - loss: 0.2489 - accuracy: 0.9528 - val_loss: 0.2165 - val_accuracy: 1.0000\n",
      "Epoch 466/500\n",
      "3/3 [==============================] - 0s 28ms/step - loss: 0.2479 - accuracy: 0.9704 - val_loss: 0.2159 - val_accuracy: 1.0000\n",
      "Epoch 467/500\n",
      "3/3 [==============================] - 0s 43ms/step - loss: 0.2494 - accuracy: 0.9665 - val_loss: 0.2154 - val_accuracy: 1.0000\n",
      "Epoch 468/500\n",
      "3/3 [==============================] - 0s 75ms/step - loss: 0.2457 - accuracy: 0.9470 - val_loss: 0.2149 - val_accuracy: 1.0000\n",
      "Epoch 469/500\n",
      "3/3 [==============================] - 0s 62ms/step - loss: 0.2579 - accuracy: 0.9626 - val_loss: 0.2144 - val_accuracy: 1.0000\n",
      "Epoch 470/500\n",
      "3/3 [==============================] - 0s 76ms/step - loss: 0.2483 - accuracy: 0.9548 - val_loss: 0.2138 - val_accuracy: 1.0000\n",
      "Epoch 471/500\n",
      "3/3 [==============================] - 0s 35ms/step - loss: 0.2649 - accuracy: 0.9548 - val_loss: 0.2129 - val_accuracy: 1.0000\n",
      "Epoch 472/500\n",
      "3/3 [==============================] - 0s 51ms/step - loss: 0.2270 - accuracy: 0.9587 - val_loss: 0.2121 - val_accuracy: 1.0000\n",
      "Epoch 473/500\n",
      "3/3 [==============================] - 0s 72ms/step - loss: 0.2603 - accuracy: 0.9587 - val_loss: 0.2112 - val_accuracy: 1.0000\n",
      "Epoch 474/500\n",
      "3/3 [==============================] - 0s 38ms/step - loss: 0.2566 - accuracy: 0.9470 - val_loss: 0.2104 - val_accuracy: 1.0000\n",
      "Epoch 475/500\n",
      "3/3 [==============================] - 0s 91ms/step - loss: 0.2534 - accuracy: 0.9470 - val_loss: 0.2097 - val_accuracy: 1.0000\n",
      "Epoch 476/500\n",
      "3/3 [==============================] - 0s 55ms/step - loss: 0.2364 - accuracy: 0.9645 - val_loss: 0.2090 - val_accuracy: 1.0000\n",
      "Epoch 477/500\n",
      "3/3 [==============================] - 0s 38ms/step - loss: 0.2415 - accuracy: 0.9528 - val_loss: 0.2083 - val_accuracy: 1.0000\n",
      "Epoch 478/500\n",
      "3/3 [==============================] - 0s 32ms/step - loss: 0.2272 - accuracy: 0.9567 - val_loss: 0.2077 - val_accuracy: 1.0000\n",
      "Epoch 479/500\n",
      "3/3 [==============================] - 0s 43ms/step - loss: 0.2344 - accuracy: 0.9567 - val_loss: 0.2070 - val_accuracy: 1.0000\n",
      "Epoch 480/500\n",
      "3/3 [==============================] - 0s 66ms/step - loss: 0.2353 - accuracy: 0.9528 - val_loss: 0.2063 - val_accuracy: 1.0000\n",
      "Epoch 481/500\n",
      "3/3 [==============================] - 0s 38ms/step - loss: 0.2306 - accuracy: 0.9684 - val_loss: 0.2057 - val_accuracy: 1.0000\n",
      "Epoch 482/500\n",
      "3/3 [==============================] - 0s 107ms/step - loss: 0.2407 - accuracy: 0.9528 - val_loss: 0.2050 - val_accuracy: 1.0000\n",
      "Epoch 483/500\n",
      "3/3 [==============================] - 0s 47ms/step - loss: 0.2311 - accuracy: 0.9782 - val_loss: 0.2046 - val_accuracy: 1.0000\n",
      "Epoch 484/500\n",
      "3/3 [==============================] - 0s 64ms/step - loss: 0.2219 - accuracy: 0.9704 - val_loss: 0.2041 - val_accuracy: 1.0000\n",
      "Epoch 485/500\n",
      "3/3 [==============================] - 0s 80ms/step - loss: 0.2310 - accuracy: 0.9743 - val_loss: 0.2034 - val_accuracy: 1.0000\n",
      "Epoch 486/500\n",
      "3/3 [==============================] - 0s 53ms/step - loss: 0.2327 - accuracy: 0.9626 - val_loss: 0.2028 - val_accuracy: 1.0000\n",
      "Epoch 487/500\n",
      "3/3 [==============================] - 0s 52ms/step - loss: 0.2322 - accuracy: 0.9704 - val_loss: 0.2019 - val_accuracy: 1.0000\n",
      "Epoch 488/500\n",
      "3/3 [==============================] - 0s 38ms/step - loss: 0.2345 - accuracy: 0.9626 - val_loss: 0.2011 - val_accuracy: 1.0000\n",
      "Epoch 489/500\n",
      "3/3 [==============================] - 0s 58ms/step - loss: 0.2369 - accuracy: 0.9704 - val_loss: 0.2004 - val_accuracy: 1.0000\n",
      "Epoch 490/500\n",
      "3/3 [==============================] - 0s 76ms/step - loss: 0.2422 - accuracy: 0.9488 - val_loss: 0.1998 - val_accuracy: 1.0000\n",
      "Epoch 491/500\n",
      "3/3 [==============================] - 0s 66ms/step - loss: 0.2229 - accuracy: 0.9528 - val_loss: 0.1992 - val_accuracy: 1.0000\n",
      "Epoch 492/500\n",
      "3/3 [==============================] - 0s 119ms/step - loss: 0.2472 - accuracy: 0.9449 - val_loss: 0.1985 - val_accuracy: 1.0000\n",
      "Epoch 493/500\n",
      "3/3 [==============================] - 0s 66ms/step - loss: 0.2300 - accuracy: 0.9567 - val_loss: 0.1979 - val_accuracy: 1.0000\n",
      "Epoch 494/500\n",
      "3/3 [==============================] - 0s 55ms/step - loss: 0.2407 - accuracy: 0.9548 - val_loss: 0.1973 - val_accuracy: 1.0000\n",
      "Epoch 495/500\n",
      "3/3 [==============================] - 0s 53ms/step - loss: 0.2262 - accuracy: 0.9704 - val_loss: 0.1967 - val_accuracy: 1.0000\n",
      "Epoch 496/500\n",
      "3/3 [==============================] - 0s 83ms/step - loss: 0.2113 - accuracy: 0.9821 - val_loss: 0.1962 - val_accuracy: 1.0000\n",
      "Epoch 497/500\n",
      "3/3 [==============================] - 0s 88ms/step - loss: 0.2183 - accuracy: 0.9704 - val_loss: 0.1958 - val_accuracy: 1.0000\n",
      "Epoch 498/500\n",
      "3/3 [==============================] - 0s 44ms/step - loss: 0.2276 - accuracy: 0.9665 - val_loss: 0.1952 - val_accuracy: 1.0000\n",
      "Epoch 499/500\n",
      "3/3 [==============================] - 0s 66ms/step - loss: 0.2499 - accuracy: 0.9470 - val_loss: 0.1946 - val_accuracy: 1.0000\n",
      "Epoch 500/500\n",
      "3/3 [==============================] - 0s 41ms/step - loss: 0.2237 - accuracy: 0.9743 - val_loss: 0.1939 - val_accuracy: 1.0000\n",
      "Wall time: 1min 4s\n"
     ]
    },
    {
     "data": {
      "text/plain": [
       "<tensorflow.python.keras.callbacks.History at 0x27cd4ba8888>"
      ]
     },
     "execution_count": 45,
     "metadata": {},
     "output_type": "execute_result"
    }
   ],
   "source": [
    "# %time model.fit(X_train, y_train, epochs=500, validation_split=0.3, callbacks=[tb_callback])\n",
    "%time model.fit(X_train, y_train, epochs=500, validation_split=0.3)"
   ]
  },
  {
   "cell_type": "markdown",
   "metadata": {
    "colab_type": "text",
    "id": "pmsuPaqYpl-2"
   },
   "source": [
    "# Bewertung"
   ]
  },
  {
   "cell_type": "code",
   "execution_count": 46,
   "metadata": {
    "colab": {
     "base_uri": "https://localhost:8080/",
     "height": 34
    },
    "colab_type": "code",
    "id": "iCCbIyrjpl-3",
    "outputId": "8279ee31-3dfc-4575-eb27-b0a83a909bb4"
   },
   "outputs": [
    {
     "data": {
      "text/plain": [
       "array([[9.7855282e-01, 2.1441143e-02, 6.0685911e-06]], dtype=float32)"
      ]
     },
     "execution_count": 46,
     "metadata": {},
     "output_type": "execute_result"
    }
   ],
   "source": [
    "model.predict(np.array([[ 5.1,  3.5,  1.4,  0.2]]))"
   ]
  },
  {
   "cell_type": "code",
   "execution_count": 47,
   "metadata": {
    "colab": {
     "base_uri": "https://localhost:8080/",
     "height": 34
    },
    "colab_type": "code",
    "id": "jQaEAtyVpl-4",
    "outputId": "4bdab368-1515-4a61-e77b-399c5741bc2e"
   },
   "outputs": [
    {
     "data": {
      "text/plain": [
       "(array([5.1, 3.5, 1.4, 0.2]), array([1., 0., 0.], dtype=float32))"
      ]
     },
     "execution_count": 47,
     "metadata": {},
     "output_type": "execute_result"
    }
   ],
   "source": [
    "X[0], y[0]"
   ]
  },
  {
   "cell_type": "code",
   "execution_count": 48,
   "metadata": {
    "colab": {
     "base_uri": "https://localhost:8080/",
     "height": 51
    },
    "colab_type": "code",
    "id": "wrzGbtchpl-7",
    "outputId": "5c1af142-3b53-4bd4-8bd0-7467ef8bf6d8"
   },
   "outputs": [
    {
     "name": "stdout",
     "output_type": "stream",
     "text": [
      "4/4 [==============================] - 0s 4ms/step - loss: 0.2168 - accuracy: 0.9750\n"
     ]
    },
    {
     "data": {
      "text/plain": [
       "(0.2168254405260086, 0.9750000238418579)"
      ]
     },
     "execution_count": 48,
     "metadata": {},
     "output_type": "execute_result"
    }
   ],
   "source": [
    "train_loss, train_accuracy = model.evaluate(X_train, y_train)\n",
    "train_loss, train_accuracy"
   ]
  },
  {
   "cell_type": "code",
   "execution_count": 49,
   "metadata": {
    "colab": {
     "base_uri": "https://localhost:8080/",
     "height": 51
    },
    "colab_type": "code",
    "id": "hnXEggalpl-8",
    "outputId": "50a0eed0-1d06-4a5b-9894-23c55f073178"
   },
   "outputs": [
    {
     "name": "stdout",
     "output_type": "stream",
     "text": [
      "1/1 [==============================] - 0s 74ms/step - loss: 0.2050 - accuracy: 1.0000\n"
     ]
    },
    {
     "data": {
      "text/plain": [
       "(0.20497575402259827, 1.0)"
      ]
     },
     "execution_count": 49,
     "metadata": {},
     "output_type": "execute_result"
    }
   ],
   "source": [
    "test_loss, test_accuracy = model.evaluate(X_test, y_test)\n",
    "test_loss, test_accuracy"
   ]
  }
 ],
 "metadata": {
  "colab": {
   "include_colab_link": true,
   "name": "kap7-iris.ipynb",
   "provenance": []
  },
  "kernelspec": {
   "display_name": "Python 3 (ipykernel)",
   "language": "python",
   "name": "python3"
  },
  "language_info": {
   "codemirror_mode": {
    "name": "ipython",
    "version": 3
   },
   "file_extension": ".py",
   "mimetype": "text/x-python",
   "name": "python",
   "nbconvert_exporter": "python",
   "pygments_lexer": "ipython3",
   "version": "3.7.11"
  }
 },
 "nbformat": 4,
 "nbformat_minor": 1
}
