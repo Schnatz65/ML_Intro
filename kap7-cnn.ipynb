{
 "cells": [
  {
   "cell_type": "markdown",
   "metadata": {
    "colab_type": "text",
    "id": "LzCzd16RpoPh"
   },
   "source": [
    "# Kapitel 7: Neuronale Netzwerke - Bilderkennung"
   ]
  },
  {
   "cell_type": "code",
   "execution_count": 1,
   "metadata": {
    "colab": {},
    "colab_type": "code",
    "id": "pjxdBjpNpoPi"
   },
   "outputs": [],
   "source": [
    "import warnings\n",
    "warnings.filterwarnings('ignore')"
   ]
  },
  {
   "cell_type": "code",
   "execution_count": 2,
   "metadata": {
    "colab": {
     "base_uri": "https://localhost:8080/",
     "height": 34
    },
    "colab_type": "code",
    "id": "9xOCX6mopoPm",
    "outputId": "3418c4d9-2ab2-4484-9427-a2c1875e1f11"
   },
   "outputs": [
    {
     "name": "stdout",
     "output_type": "stream",
     "text": [
      "Populating the interactive namespace from numpy and matplotlib\n"
     ]
    }
   ],
   "source": [
    "%matplotlib inline\n",
    "%pylab inline"
   ]
  },
  {
   "cell_type": "code",
   "execution_count": 3,
   "metadata": {
    "colab": {},
    "colab_type": "code",
    "id": "hihiDGcLpoPp"
   },
   "outputs": [],
   "source": [
    "import matplotlib.pylab as plt\n",
    "import numpy as np"
   ]
  },
  {
   "cell_type": "code",
   "execution_count": 4,
   "metadata": {
    "colab": {},
    "colab_type": "code",
    "id": "CBk_vCWwpoPu"
   },
   "outputs": [],
   "source": [
    "colors = 'bwr'#['b','y','r']\n",
    "CMAP = colors#plt.cm.rainbow"
   ]
  },
  {
   "cell_type": "code",
   "execution_count": 5,
   "metadata": {
    "colab": {
     "base_uri": "https://localhost:8080/",
     "height": 34
    },
    "colab_type": "code",
    "id": "4iE8z4UPpoPy",
    "outputId": "b9cdd306-478b-439a-ce86-cffaf6bfddcd"
   },
   "outputs": [
    {
     "name": "stdout",
     "output_type": "stream",
     "text": [
      "1.0.2\n"
     ]
    }
   ],
   "source": [
    "import sklearn\n",
    "print(sklearn.__version__)"
   ]
  },
  {
   "cell_type": "code",
   "execution_count": 6,
   "metadata": {
    "colab": {
     "base_uri": "https://localhost:8080/",
     "height": 34
    },
    "colab_type": "code",
    "id": "UDMwrHxipoP1",
    "outputId": "9beab8a5-5fb7-40ac-de1f-91b64f7be950"
   },
   "outputs": [
    {
     "name": "stdout",
     "output_type": "stream",
     "text": [
      "2.4.0\n"
     ]
    }
   ],
   "source": [
    "import tensorflow as tf\n",
    "print(tf.__version__)"
   ]
  },
  {
   "cell_type": "code",
   "execution_count": 7,
   "metadata": {
    "colab": {
     "base_uri": "https://localhost:8080/",
     "height": 34
    },
    "colab_type": "code",
    "id": "n1402Tv0poP3",
    "outputId": "95926bea-8b20-41ab-ad2b-d96872d88df0"
   },
   "outputs": [
    {
     "name": "stdout",
     "output_type": "stream",
     "text": [
      "2.4.0\n"
     ]
    },
    {
     "name": "stderr",
     "output_type": "stream",
     "text": [
      "Using TensorFlow backend.\n"
     ]
    }
   ],
   "source": [
    "import keras\n",
    "print(keras.__version__)"
   ]
  },
  {
   "cell_type": "code",
   "execution_count": 8,
   "metadata": {
    "colab": {
     "base_uri": "https://localhost:8080/",
     "height": 34
    },
    "colab_type": "code",
    "id": "RJ1jquySpoP6",
    "outputId": "7b69e05f-f6af-44c3-8443-e4365d2c1e6e"
   },
   "outputs": [
    {
     "name": "stdout",
     "output_type": "stream",
     "text": [
      "1.3.5\n"
     ]
    }
   ],
   "source": [
    "import pandas as pd\n",
    "print(pd.__version__)"
   ]
  },
  {
   "cell_type": "markdown",
   "metadata": {
    "colab_type": "text",
    "id": "Y1gku3A3poP9"
   },
   "source": [
    "## Laden und Vorbereiten der Bild-Daten"
   ]
  },
  {
   "cell_type": "code",
   "execution_count": 9,
   "metadata": {
    "colab": {
     "base_uri": "https://localhost:8080/",
     "height": 68
    },
    "colab_type": "code",
    "id": "_5uS-zXVpoP-",
    "outputId": "ceedd415-166e-4993-f681-14ffa0461753"
   },
   "outputs": [
    {
     "name": "stderr",
     "output_type": "stream",
     "text": [
      "  % Total    % Received % Xferd  Average Speed   Time    Time     Time  Current\n",
      "                                 Dload  Upload   Total   Spent    Left  Speed\n",
      "\n",
      "  0     0    0     0    0     0      0      0 --:--:-- --:--:-- --:--:--     0\n",
      "  0     0    0     0    0     0      0      0 --:--:-- --:--:-- --:--:--     0\n",
      "100 1810k  100 1810k    0     0  2531k      0 --:--:-- --:--:-- --:--:-- 2531k\n"
     ]
    }
   ],
   "source": [
    "!curl -O https://raw.githubusercontent.com/DJCordhose/speed-limit-signs/master/data/speed-limit-signs.zip\n",
    "from zipfile import ZipFile\n",
    "zip = ZipFile(r'speed-limit-signs.zip')\n",
    "zip.extractall('.')"
   ]
  },
  {
   "cell_type": "code",
   "execution_count": 10,
   "metadata": {
    "colab": {
     "base_uri": "https://localhost:8080/",
     "height": 153
    },
    "colab_type": "code",
    "id": "P6fwa6rzpoQA",
    "outputId": "57906e58-190c-4fd1-a960-a5c4927162ee"
   },
   "outputs": [
    {
     "name": "stdout",
     "output_type": "stream",
     "text": [
      " Volume in Laufwerk C: hat keine Bezeichnung.\n",
      " Volumeseriennummer: 5ED5-9136\n",
      "\n",
      " Verzeichnis von C:\\Users\\kleme\\Python-Programme\\ML_Intro\\speed-limit-signs\n",
      "\n",
      "09.03.2022  19:15    <DIR>          .\n",
      "09.03.2022  19:15    <DIR>          ..\n",
      "21.03.2022  09:57             6.148 .DS_Store\n",
      "09.03.2022  19:15    <DIR>          0\n",
      "09.03.2022  19:15    <DIR>          1\n",
      "09.03.2022  19:15    <DIR>          2\n",
      "09.03.2022  19:15    <DIR>          3\n",
      "09.03.2022  19:15    <DIR>          4\n",
      "09.03.2022  19:15    <DIR>          5\n",
      "21.03.2022  09:57               380 README.md\n",
      "               2 Datei(en),          6.528 Bytes\n",
      "               8 Verzeichnis(se), 574.240.550.912 Bytes frei\n"
     ]
    }
   ],
   "source": [
    "!dir speed-limit-signs\n",
    "#!ls -l speed-limit-signs"
   ]
  },
  {
   "cell_type": "code",
   "execution_count": 11,
   "metadata": {
    "colab": {
     "base_uri": "https://localhost:8080/",
     "height": 306
    },
    "colab_type": "code",
    "id": "wm9Q5NR3poQD",
    "outputId": "eef4263c-e032-4195-dfa9-3ab70c104f99"
   },
   "outputs": [
    {
     "name": "stdout",
     "output_type": "stream",
     "text": [
      "Data extracted from http://benchmark.ini.rub.de/?section=gtsdb&subsection=dataset\n",
      "\n",
      "From http://benchmark.ini.rub.de/Dataset_GTSDB/FullIJCNN2013.zip just the samples for the speed limit signs \n",
      "\n",
      "## Format\n",
      "\n",
      "https://en.wikipedia.org/wiki/Netpbm_format\n",
      "\n",
      "Can be previewed on a Mac and be processed by http://scikit-image.org/\n",
      "\n",
      "## Labels\n",
      "- 0: 30\n",
      "- 1: 50\n",
      "- 2: 70\n",
      "- 3: 80\n",
      "- 4: 100\n",
      "- 5: 120\n"
     ]
    }
   ],
   "source": [
    "!type speed-limit-signs\\README.md\n",
    "#!cat speed-limit-signs/README.md"
   ]
  },
  {
   "cell_type": "markdown",
   "metadata": {
    "colab_type": "text",
    "id": "9D-SaV3apoQF"
   },
   "source": [
    "### Big Kudos to [Waleed Abdulla](https://medium.com/@waleedka) for providing the initial idea and many of the functions used to prepare and display the images: https://medium.com/@waleedka/traffic-sign-recognition-with-tensorflow-629dffc391a6#.i728o84ib  "
   ]
  },
  {
   "cell_type": "code",
   "execution_count": 12,
   "metadata": {
    "colab": {},
    "colab_type": "code",
    "id": "dEyC7dgJsohW"
   },
   "outputs": [],
   "source": [
    "import os\n",
    "from skimage import data, io, filters\n",
    "\n",
    "ROOT_PATH = \"./\"\n",
    "data_dir = os.path.join(ROOT_PATH, \"speed-limit-signs\")\n",
    "type = \".ppm\"\n",
    "\n",
    "# Get all subdirectories of data_dir. Each represents a label.\n",
    "directories = [d for d in os.listdir(data_dir) \n",
    "                if os.path.isdir(os.path.join(data_dir, d))]\n",
    "# Loop through the label directories and collect the data in\n",
    "# two lists, labels and images.\n",
    "labels = []\n",
    "images = []\n",
    "for d in directories:\n",
    "    label_dir = os.path.join(data_dir, d)\n",
    "    file_names = [os.path.join(label_dir, f) for f in os.listdir(label_dir) if f.endswith(type)]\n",
    "    # For each label, load it's images and add them to the images list.\n",
    "    # And add the label number (i.e. directory name) to the labels list.\n",
    "    for f in file_names:\n",
    "        images.append(io.imread(f))\n",
    "        labels.append(int(d))\n",
    "\n",
    "images, labels = np.array(images), np.array(labels)"
   ]
  },
  {
   "cell_type": "code",
   "execution_count": 13,
   "metadata": {
    "colab": {
     "base_uri": "https://localhost:8080/",
     "height": 249
    },
    "colab_type": "code",
    "id": "A6mqGPAEpoQJ",
    "outputId": "08f04785-f44e-496c-fd3a-e1f0244c1268"
   },
   "outputs": [
    {
     "data": {
      "image/png": "[encoded data removed]",
      "text/plain": [
       "<Figure size 2160x1080 with 6 Axes>"
      ]
     },
     "metadata": {
      "needs_background": "light"
     },
     "output_type": "display_data"
    }
   ],
   "source": [
    "import matplotlib\n",
    "import matplotlib.pyplot as plt\n",
    "\n",
    "label_names = ['30', '50', '70', '80', '100', '120']\n",
    "\n",
    "plt.figure(figsize=(30, 15))\n",
    "\n",
    "unique_values, counts = np.unique(labels, return_counts=True)\n",
    "classes = len(unique_values)\n",
    "\n",
    "i = 1\n",
    "for label in unique_values:\n",
    "    # Pick the first image for each label.\n",
    "    image = images[np.where(labels == label)[0][0]]\n",
    "    plt.subplot(1, 8, i)\n",
    "    plt.title(\"{0} (#{1})\".format(label_names[label], counts[label]))\n",
    "    i += 1\n",
    "    plt.imshow(image)"
   ]
  },
  {
   "cell_type": "code",
   "execution_count": 14,
   "metadata": {
    "colab": {},
    "colab_type": "code",
    "id": "BFGPTn_atT-6"
   },
   "outputs": [],
   "source": [
    "import skimage.transform\n",
    "\n",
    "images_64 = np.array([skimage.transform.resize(image, (64, 64)) for image in images])"
   ]
  },
  {
   "cell_type": "markdown",
   "metadata": {
    "colab_type": "text",
    "id": "H9_TAlqUpoQO"
   },
   "source": [
    "## Modell-Architektur"
   ]
  },
  {
   "cell_type": "code",
   "execution_count": 15,
   "metadata": {
    "colab": {},
    "colab_type": "code",
    "id": "ylVn6kfspoQP"
   },
   "outputs": [],
   "source": [
    "y = np.array(labels)\n",
    "X = np.array(images_64)\n",
    "from keras.utils.np_utils import to_categorical\n",
    "\n",
    "num_categories = 6\n",
    "\n",
    "y = to_categorical(y, num_categories)"
   ]
  },
  {
   "cell_type": "code",
   "execution_count": 16,
   "metadata": {
    "colab": {},
    "colab_type": "code",
    "id": "nEQCr3YgpoQR"
   },
   "outputs": [],
   "source": [
    "from keras.models import Model\n",
    "from keras.layers import Dense, Dropout, Flatten, Input\n",
    "from keras.layers import Convolution2D, MaxPooling2D\n",
    "\n",
    "# input tensor for a 3-channel 64x64 image\n",
    "inputs = Input(shape=(64, 64, 3))\n",
    "\n",
    "# one block of convolutional layers\n",
    "x = Convolution2D(64, 3, activation='relu', padding='same')(inputs)\n",
    "x = Convolution2D(64, 3, activation='relu', padding='same')(x)\n",
    "x = Convolution2D(64, 3, activation='relu', padding='same')(x)\n",
    "x = MaxPooling2D(pool_size=(2, 2))(x)\n",
    "\n",
    "# one more block\n",
    "x = Convolution2D(128, 3, activation='relu', padding='same')(x)\n",
    "x = Convolution2D(128, 3, activation='relu', padding='same')(x)\n",
    "x = MaxPooling2D(pool_size=(2, 2))(x)\n",
    "\n",
    "# one more block\n",
    "x = Convolution2D(256, 3, activation='relu', padding='same')(x)\n",
    "x = MaxPooling2D(pool_size=(2, 2))(x)\n",
    "\n",
    "x = Flatten()(x)\n",
    "x = Dense(256, activation='relu')(x)\n",
    "\n",
    "# softmax activation, 6 categories\n",
    "predictions = Dense(6, activation='softmax')(x)"
   ]
  },
  {
   "cell_type": "code",
   "execution_count": 17,
   "metadata": {
    "colab": {
     "base_uri": "https://localhost:8080/",
     "height": 595
    },
    "colab_type": "code",
    "id": "6EJNZgpopoQT",
    "outputId": "da4ab145-bffb-4297-f039-040d64b9a257"
   },
   "outputs": [
    {
     "name": "stdout",
     "output_type": "stream",
     "text": [
      "Model: \"model\"\n",
      "_________________________________________________________________\n",
      "Layer (type)                 Output Shape              Param #   \n",
      "=================================================================\n",
      "input_1 (InputLayer)         [(None, 64, 64, 3)]       0         \n",
      "_________________________________________________________________\n",
      "conv2d (Conv2D)              (None, 64, 64, 64)        1792      \n",
      "_________________________________________________________________\n",
      "conv2d_1 (Conv2D)            (None, 64, 64, 64)        36928     \n",
      "_________________________________________________________________\n",
      "conv2d_2 (Conv2D)            (None, 64, 64, 64)        36928     \n",
      "_________________________________________________________________\n",
      "max_pooling2d (MaxPooling2D) (None, 32, 32, 64)        0         \n",
      "_________________________________________________________________\n",
      "conv2d_3 (Conv2D)            (None, 32, 32, 128)       73856     \n",
      "_________________________________________________________________\n",
      "conv2d_4 (Conv2D)            (None, 32, 32, 128)       147584    \n",
      "_________________________________________________________________\n",
      "max_pooling2d_1 (MaxPooling2 (None, 16, 16, 128)       0         \n",
      "_________________________________________________________________\n",
      "conv2d_5 (Conv2D)            (None, 16, 16, 256)       295168    \n",
      "_________________________________________________________________\n",
      "max_pooling2d_2 (MaxPooling2 (None, 8, 8, 256)         0         \n",
      "_________________________________________________________________\n",
      "flatten (Flatten)            (None, 16384)             0         \n",
      "_________________________________________________________________\n",
      "dense (Dense)                (None, 256)               4194560   \n",
      "_________________________________________________________________\n",
      "dense_1 (Dense)              (None, 6)                 1542      \n",
      "=================================================================\n",
      "Total params: 4,788,358\n",
      "Trainable params: 4,788,358\n",
      "Non-trainable params: 0\n",
      "_________________________________________________________________\n"
     ]
    }
   ],
   "source": [
    "model = Model(inputs=inputs, outputs=predictions)\n",
    "model.summary()"
   ]
  },
  {
   "cell_type": "code",
   "execution_count": 18,
   "metadata": {
    "colab": {},
    "colab_type": "code",
    "id": "LP2w1xoypoQW"
   },
   "outputs": [],
   "source": [
    "model.compile(optimizer='adam',\n",
    "              loss='categorical_crossentropy',\n",
    "              metrics=['accuracy'])"
   ]
  },
  {
   "cell_type": "markdown",
   "metadata": {
    "colab_type": "text",
    "id": "hbe-R5ilpoQZ"
   },
   "source": [
    "## Zuerst testen wir unser Modell, ob wir es überhaupt trainiert bekommen, indem wir auf einer kleinen Menge von Daten overfitten"
   ]
  },
  {
   "cell_type": "code",
   "execution_count": 19,
   "metadata": {
    "colab": {},
    "colab_type": "code",
    "id": "X_DsvSwtpoQZ"
   },
   "outputs": [],
   "source": [
    "from sklearn.model_selection import train_test_split\n",
    "X_train, X_test, y_train, y_test = train_test_split(X, y, test_size=0.9, random_state=42, stratify=y)"
   ]
  },
  {
   "cell_type": "code",
   "execution_count": 20,
   "metadata": {
    "colab": {
     "base_uri": "https://localhost:8080/",
     "height": 34
    },
    "colab_type": "code",
    "id": "k53co0k0poQb",
    "outputId": "9908e65b-0c91-4c47-fef3-9d5d2c5353f2"
   },
   "outputs": [
    {
     "data": {
      "text/plain": [
       "((37, 64, 64, 3), (37, 6))"
      ]
     },
     "execution_count": 20,
     "metadata": {},
     "output_type": "execute_result"
    }
   ],
   "source": [
    "X_train.shape, y_train.shape"
   ]
  },
  {
   "cell_type": "code",
   "execution_count": 21,
   "metadata": {
    "colab": {
     "base_uri": "https://localhost:8080/",
     "height": 1000
    },
    "colab_type": "code",
    "id": "-AHBs2IapoQe",
    "outputId": "0380dfa4-d2ec-4372-ff74-516c5726bdf4"
   },
   "outputs": [
    {
     "name": "stdout",
     "output_type": "stream",
     "text": [
      "Epoch 1/100\n",
      "1/1 [==============================] - 2s 2s/step - loss: 1.7925 - accuracy: 0.2800 - val_loss: 1.7540 - val_accuracy: 0.0000e+00\n",
      "Epoch 2/100\n",
      "1/1 [==============================] - 1s 833ms/step - loss: 1.7284 - accuracy: 0.2800 - val_loss: 2.0518 - val_accuracy: 0.0000e+00\n",
      "Epoch 3/100\n",
      "1/1 [==============================] - 1s 854ms/step - loss: 1.9228 - accuracy: 0.2800 - val_loss: 1.5522 - val_accuracy: 0.1667\n",
      "Epoch 4/100\n",
      "1/1 [==============================] - 1s 1s/step - loss: 1.7197 - accuracy: 0.2400 - val_loss: 1.7047 - val_accuracy: 0.1667\n",
      "Epoch 5/100\n",
      "1/1 [==============================] - 1s 1s/step - loss: 1.7405 - accuracy: 0.2400 - val_loss: 1.7661 - val_accuracy: 0.2500\n",
      "Epoch 6/100\n",
      "1/1 [==============================] - 1s 913ms/step - loss: 1.7544 - accuracy: 0.4000 - val_loss: 1.7718 - val_accuracy: 0.1667\n",
      "Epoch 7/100\n",
      "1/1 [==============================] - 1s 844ms/step - loss: 1.7434 - accuracy: 0.4000 - val_loss: 1.7409 - val_accuracy: 0.1667\n",
      "Epoch 8/100\n",
      "1/1 [==============================] - 1s 829ms/step - loss: 1.7054 - accuracy: 0.4000 - val_loss: 1.6624 - val_accuracy: 0.1667\n",
      "Epoch 9/100\n",
      "1/1 [==============================] - 1s 743ms/step - loss: 1.6277 - accuracy: 0.4000 - val_loss: 1.6430 - val_accuracy: 0.0833\n",
      "Epoch 10/100\n",
      "1/1 [==============================] - 1s 725ms/step - loss: 1.5448 - accuracy: 0.4400 - val_loss: 1.6897 - val_accuracy: 0.3333\n",
      "Epoch 11/100\n",
      "1/1 [==============================] - 1s 718ms/step - loss: 1.4097 - accuracy: 0.4800 - val_loss: 2.9932 - val_accuracy: 0.0000e+00\n",
      "Epoch 12/100\n",
      "1/1 [==============================] - 1s 802ms/step - loss: 1.5248 - accuracy: 0.3200 - val_loss: 1.8095 - val_accuracy: 0.1667\n",
      "Epoch 13/100\n",
      "1/1 [==============================] - 1s 772ms/step - loss: 1.5380 - accuracy: 0.3600 - val_loss: 1.5672 - val_accuracy: 0.2500\n",
      "Epoch 14/100\n",
      "1/1 [==============================] - 1s 712ms/step - loss: 1.4361 - accuracy: 0.3600 - val_loss: 1.6817 - val_accuracy: 0.4167\n",
      "Epoch 15/100\n",
      "1/1 [==============================] - 1s 715ms/step - loss: 1.3833 - accuracy: 0.4000 - val_loss: 1.8065 - val_accuracy: 0.3333\n",
      "Epoch 16/100\n",
      "1/1 [==============================] - 1s 730ms/step - loss: 1.3692 - accuracy: 0.5200 - val_loss: 1.9198 - val_accuracy: 0.3333\n",
      "Epoch 17/100\n",
      "1/1 [==============================] - 1s 748ms/step - loss: 1.2528 - accuracy: 0.4800 - val_loss: 2.1522 - val_accuracy: 0.4167\n",
      "Epoch 18/100\n",
      "1/1 [==============================] - 1s 770ms/step - loss: 1.0918 - accuracy: 0.5600 - val_loss: 2.4691 - val_accuracy: 0.2500\n",
      "Epoch 19/100\n",
      "1/1 [==============================] - 1s 729ms/step - loss: 0.9374 - accuracy: 0.6000 - val_loss: 3.7734 - val_accuracy: 0.2500\n",
      "Epoch 20/100\n",
      "1/1 [==============================] - 1s 753ms/step - loss: 0.8804 - accuracy: 0.6000 - val_loss: 4.0528 - val_accuracy: 0.3333\n",
      "Epoch 21/100\n",
      "1/1 [==============================] - 1s 828ms/step - loss: 0.7711 - accuracy: 0.7200 - val_loss: 4.6025 - val_accuracy: 0.3333\n",
      "Epoch 22/100\n",
      "1/1 [==============================] - 1s 722ms/step - loss: 0.6383 - accuracy: 0.6800 - val_loss: 5.2284 - val_accuracy: 0.1667\n",
      "Epoch 23/100\n",
      "1/1 [==============================] - 1s 759ms/step - loss: 0.7686 - accuracy: 0.6400 - val_loss: 4.5133 - val_accuracy: 0.3333\n",
      "Epoch 24/100\n",
      "1/1 [==============================] - 1s 947ms/step - loss: 0.4725 - accuracy: 0.8400 - val_loss: 5.1111 - val_accuracy: 0.3333\n",
      "Epoch 25/100\n",
      "1/1 [==============================] - 1s 891ms/step - loss: 0.6107 - accuracy: 0.8000 - val_loss: 5.6503 - val_accuracy: 0.3333\n",
      "Epoch 26/100\n",
      "1/1 [==============================] - 1s 755ms/step - loss: 0.4829 - accuracy: 0.8400 - val_loss: 6.1105 - val_accuracy: 0.2500\n",
      "Epoch 27/100\n",
      "1/1 [==============================] - 1s 791ms/step - loss: 0.4589 - accuracy: 0.8400 - val_loss: 6.0957 - val_accuracy: 0.1667\n",
      "Epoch 28/100\n",
      "1/1 [==============================] - 1s 774ms/step - loss: 0.3700 - accuracy: 0.8000 - val_loss: 6.6470 - val_accuracy: 0.2500\n",
      "Epoch 29/100\n",
      "1/1 [==============================] - 1s 760ms/step - loss: 0.3288 - accuracy: 0.8400 - val_loss: 7.7045 - val_accuracy: 0.2500\n",
      "Epoch 30/100\n",
      "1/1 [==============================] - 1s 828ms/step - loss: 0.2521 - accuracy: 0.9200 - val_loss: 8.7450 - val_accuracy: 0.2500\n",
      "Epoch 31/100\n",
      "1/1 [==============================] - 1s 887ms/step - loss: 0.1792 - accuracy: 0.9600 - val_loss: 11.4936 - val_accuracy: 0.1667\n",
      "Epoch 32/100\n",
      "1/1 [==============================] - 1s 850ms/step - loss: 0.2476 - accuracy: 0.9200 - val_loss: 6.8215 - val_accuracy: 0.3333\n",
      "Epoch 33/100\n",
      "1/1 [==============================] - 1s 796ms/step - loss: 0.5719 - accuracy: 0.8400 - val_loss: 8.0607 - val_accuracy: 0.2500\n",
      "Epoch 34/100\n",
      "1/1 [==============================] - 1s 776ms/step - loss: 0.3730 - accuracy: 0.9600 - val_loss: 10.0441 - val_accuracy: 0.2500\n",
      "Epoch 35/100\n",
      "1/1 [==============================] - 1s 774ms/step - loss: 0.2113 - accuracy: 0.9600 - val_loss: 13.3406 - val_accuracy: 0.2500\n",
      "Epoch 36/100\n",
      "1/1 [==============================] - 1s 822ms/step - loss: 0.4885 - accuracy: 0.9200 - val_loss: 11.6567 - val_accuracy: 0.1667\n",
      "Epoch 37/100\n",
      "1/1 [==============================] - 1s 835ms/step - loss: 0.2547 - accuracy: 0.8800 - val_loss: 10.0541 - val_accuracy: 0.1667\n",
      "Epoch 38/100\n",
      "1/1 [==============================] - 1s 877ms/step - loss: 0.1707 - accuracy: 0.9200 - val_loss: 9.0396 - val_accuracy: 0.3333\n",
      "Epoch 39/100\n",
      "1/1 [==============================] - 1s 866ms/step - loss: 0.1395 - accuracy: 0.9600 - val_loss: 8.9128 - val_accuracy: 0.3333\n",
      "Epoch 40/100\n",
      "1/1 [==============================] - 1s 832ms/step - loss: 0.1511 - accuracy: 0.9600 - val_loss: 9.5794 - val_accuracy: 0.2500\n",
      "Epoch 41/100\n",
      "1/1 [==============================] - 1s 987ms/step - loss: 0.0964 - accuracy: 0.9600 - val_loss: 10.9330 - val_accuracy: 0.2500\n",
      "Epoch 42/100\n",
      "1/1 [==============================] - 1s 946ms/step - loss: 0.0959 - accuracy: 0.9600 - val_loss: 12.1728 - val_accuracy: 0.2500\n",
      "Epoch 43/100\n",
      "1/1 [==============================] - 1s 964ms/step - loss: 0.1009 - accuracy: 0.9600 - val_loss: 12.4758 - val_accuracy: 0.3333\n",
      "Epoch 44/100\n",
      "1/1 [==============================] - 1s 969ms/step - loss: 0.0469 - accuracy: 1.0000 - val_loss: 13.1054 - val_accuracy: 0.3333\n",
      "Epoch 45/100\n",
      "1/1 [==============================] - 1s 950ms/step - loss: 0.0421 - accuracy: 1.0000 - val_loss: 13.7870 - val_accuracy: 0.3333\n",
      "Epoch 46/100\n",
      "1/1 [==============================] - 1s 805ms/step - loss: 0.0303 - accuracy: 1.0000 - val_loss: 14.1101 - val_accuracy: 0.3333\n",
      "Epoch 47/100\n",
      "1/1 [==============================] - 1s 783ms/step - loss: 0.0317 - accuracy: 1.0000 - val_loss: 14.0734 - val_accuracy: 0.3333\n",
      "Epoch 48/100\n",
      "1/1 [==============================] - 1s 802ms/step - loss: 0.0068 - accuracy: 1.0000 - val_loss: 14.1754 - val_accuracy: 0.3333\n",
      "Epoch 49/100\n",
      "1/1 [==============================] - 1s 934ms/step - loss: 0.0017 - accuracy: 1.0000 - val_loss: 14.3534 - val_accuracy: 0.3333\n",
      "Epoch 50/100\n",
      "1/1 [==============================] - 1s 927ms/step - loss: 0.0018 - accuracy: 1.0000 - val_loss: 14.8224 - val_accuracy: 0.3333\n",
      "Epoch 51/100\n",
      "1/1 [==============================] - 1s 879ms/step - loss: 0.0035 - accuracy: 1.0000 - val_loss: 15.6860 - val_accuracy: 0.3333\n",
      "Epoch 52/100\n",
      "1/1 [==============================] - 1s 772ms/step - loss: 0.0031 - accuracy: 1.0000 - val_loss: 16.7013 - val_accuracy: 0.3333\n",
      "Epoch 53/100\n",
      "1/1 [==============================] - 1s 778ms/step - loss: 0.0014 - accuracy: 1.0000 - val_loss: 17.6390 - val_accuracy: 0.3333\n",
      "Epoch 54/100\n",
      "1/1 [==============================] - 1s 752ms/step - loss: 0.0038 - accuracy: 1.0000 - val_loss: 17.9451 - val_accuracy: 0.3333\n",
      "Epoch 55/100\n",
      "1/1 [==============================] - 1s 736ms/step - loss: 0.0023 - accuracy: 1.0000 - val_loss: 18.1347 - val_accuracy: 0.3333\n",
      "Epoch 56/100\n",
      "1/1 [==============================] - 1s 782ms/step - loss: 9.7859e-04 - accuracy: 1.0000 - val_loss: 18.4586 - val_accuracy: 0.2500\n",
      "Epoch 57/100\n",
      "1/1 [==============================] - 1s 819ms/step - loss: 3.5120e-04 - accuracy: 1.0000 - val_loss: 18.9955 - val_accuracy: 0.2500\n",
      "Epoch 58/100\n"
     ]
    },
    {
     "name": "stdout",
     "output_type": "stream",
     "text": [
      "1/1 [==============================] - 1s 763ms/step - loss: 1.6229e-04 - accuracy: 1.0000 - val_loss: 19.4928 - val_accuracy: 0.2500\n",
      "Epoch 59/100\n",
      "1/1 [==============================] - 1s 930ms/step - loss: 1.1391e-04 - accuracy: 1.0000 - val_loss: 19.9457 - val_accuracy: 0.2500\n",
      "Epoch 60/100\n",
      "1/1 [==============================] - 1s 776ms/step - loss: 1.1376e-04 - accuracy: 1.0000 - val_loss: 20.3433 - val_accuracy: 0.2500\n",
      "Epoch 61/100\n",
      "1/1 [==============================] - 1s 802ms/step - loss: 1.3608e-04 - accuracy: 1.0000 - val_loss: 20.6925 - val_accuracy: 0.2500\n",
      "Epoch 62/100\n",
      "1/1 [==============================] - 1s 886ms/step - loss: 1.6941e-04 - accuracy: 1.0000 - val_loss: 20.9912 - val_accuracy: 0.2500\n",
      "Epoch 63/100\n",
      "1/1 [==============================] - 1s 845ms/step - loss: 2.0027e-04 - accuracy: 1.0000 - val_loss: 21.2384 - val_accuracy: 0.2500\n",
      "Epoch 64/100\n",
      "1/1 [==============================] - 1s 799ms/step - loss: 2.1428e-04 - accuracy: 1.0000 - val_loss: 21.4379 - val_accuracy: 0.2500\n",
      "Epoch 65/100\n",
      "1/1 [==============================] - 1s 775ms/step - loss: 1.9764e-04 - accuracy: 1.0000 - val_loss: 21.5995 - val_accuracy: 0.2500\n",
      "Epoch 66/100\n",
      "1/1 [==============================] - 1s 762ms/step - loss: 1.5321e-04 - accuracy: 1.0000 - val_loss: 21.7334 - val_accuracy: 0.2500\n",
      "Epoch 67/100\n",
      "1/1 [==============================] - 1s 773ms/step - loss: 1.0300e-04 - accuracy: 1.0000 - val_loss: 21.8505 - val_accuracy: 0.2500\n",
      "Epoch 68/100\n",
      "1/1 [==============================] - 1s 792ms/step - loss: 6.3959e-05 - accuracy: 1.0000 - val_loss: 21.9538 - val_accuracy: 0.2500\n",
      "Epoch 69/100\n",
      "1/1 [==============================] - 1s 796ms/step - loss: 3.9361e-05 - accuracy: 1.0000 - val_loss: 22.0419 - val_accuracy: 0.2500\n",
      "Epoch 70/100\n",
      "1/1 [==============================] - 1s 807ms/step - loss: 2.5886e-05 - accuracy: 1.0000 - val_loss: 22.1196 - val_accuracy: 0.2500\n",
      "Epoch 71/100\n",
      "1/1 [==============================] - 1s 744ms/step - loss: 1.9567e-05 - accuracy: 1.0000 - val_loss: 22.1942 - val_accuracy: 0.2500\n",
      "Epoch 72/100\n",
      "1/1 [==============================] - 1s 767ms/step - loss: 1.9129e-05 - accuracy: 1.0000 - val_loss: 22.2651 - val_accuracy: 0.2500\n",
      "Epoch 73/100\n",
      "1/1 [==============================] - 1s 729ms/step - loss: 2.3887e-05 - accuracy: 1.0000 - val_loss: 22.3374 - val_accuracy: 0.2500\n",
      "Epoch 74/100\n",
      "1/1 [==============================] - 1s 733ms/step - loss: 3.0998e-05 - accuracy: 1.0000 - val_loss: 22.4175 - val_accuracy: 0.2500\n",
      "Epoch 75/100\n",
      "1/1 [==============================] - 1s 801ms/step - loss: 3.3686e-05 - accuracy: 1.0000 - val_loss: 22.5078 - val_accuracy: 0.2500\n",
      "Epoch 76/100\n",
      "1/1 [==============================] - 1s 724ms/step - loss: 2.8892e-05 - accuracy: 1.0000 - val_loss: 22.6054 - val_accuracy: 0.2500\n",
      "Epoch 77/100\n",
      "1/1 [==============================] - 1s 741ms/step - loss: 2.1308e-05 - accuracy: 1.0000 - val_loss: 22.7056 - val_accuracy: 0.2500\n",
      "Epoch 78/100\n",
      "1/1 [==============================] - 1s 755ms/step - loss: 1.5339e-05 - accuracy: 1.0000 - val_loss: 22.8045 - val_accuracy: 0.2500\n",
      "Epoch 79/100\n",
      "1/1 [==============================] - 1s 785ms/step - loss: 1.1654e-05 - accuracy: 1.0000 - val_loss: 22.9003 - val_accuracy: 0.2500\n",
      "Epoch 80/100\n",
      "1/1 [==============================] - 1s 776ms/step - loss: 9.5461e-06 - accuracy: 1.0000 - val_loss: 22.9915 - val_accuracy: 0.2500\n",
      "Epoch 81/100\n",
      "1/1 [==============================] - 1s 770ms/step - loss: 8.3254e-06 - accuracy: 1.0000 - val_loss: 23.0765 - val_accuracy: 0.2500\n",
      "Epoch 82/100\n",
      "1/1 [==============================] - 1s 776ms/step - loss: 7.5577e-06 - accuracy: 1.0000 - val_loss: 23.1563 - val_accuracy: 0.2500\n",
      "Epoch 83/100\n",
      "1/1 [==============================] - 1s 858ms/step - loss: 7.0523e-06 - accuracy: 1.0000 - val_loss: 23.2308 - val_accuracy: 0.2500\n",
      "Epoch 84/100\n",
      "1/1 [==============================] - 1s 841ms/step - loss: 6.7089e-06 - accuracy: 1.0000 - val_loss: 23.2999 - val_accuracy: 0.2500\n",
      "Epoch 85/100\n",
      "1/1 [==============================] - 1s 901ms/step - loss: 6.4515e-06 - accuracy: 1.0000 - val_loss: 23.3641 - val_accuracy: 0.2500\n",
      "Epoch 86/100\n",
      "1/1 [==============================] - 1s 792ms/step - loss: 6.2703e-06 - accuracy: 1.0000 - val_loss: 23.4242 - val_accuracy: 0.2500\n",
      "Epoch 87/100\n",
      "1/1 [==============================] - 1s 761ms/step - loss: 6.1177e-06 - accuracy: 1.0000 - val_loss: 23.4802 - val_accuracy: 0.2500\n",
      "Epoch 88/100\n",
      "1/1 [==============================] - 1s 986ms/step - loss: 5.9842e-06 - accuracy: 1.0000 - val_loss: 23.5321 - val_accuracy: 0.2500\n",
      "Epoch 89/100\n",
      "1/1 [==============================] - 1s 751ms/step - loss: 5.8840e-06 - accuracy: 1.0000 - val_loss: 23.5800 - val_accuracy: 0.2500\n",
      "Epoch 90/100\n",
      "1/1 [==============================] - 1s 721ms/step - loss: 5.7887e-06 - accuracy: 1.0000 - val_loss: 23.6241 - val_accuracy: 0.2500\n",
      "Epoch 91/100\n",
      "1/1 [==============================] - 1s 717ms/step - loss: 5.7028e-06 - accuracy: 1.0000 - val_loss: 23.6647 - val_accuracy: 0.2500\n",
      "Epoch 92/100\n",
      "1/1 [==============================] - 1s 764ms/step - loss: 5.6313e-06 - accuracy: 1.0000 - val_loss: 23.7018 - val_accuracy: 0.2500\n",
      "Epoch 93/100\n",
      "1/1 [==============================] - 1s 848ms/step - loss: 5.5359e-06 - accuracy: 1.0000 - val_loss: 23.7358 - val_accuracy: 0.2500\n",
      "Epoch 94/100\n",
      "1/1 [==============================] - 1s 744ms/step - loss: 5.4644e-06 - accuracy: 1.0000 - val_loss: 23.7670 - val_accuracy: 0.2500\n",
      "Epoch 95/100\n",
      "1/1 [==============================] - 1s 753ms/step - loss: 5.3833e-06 - accuracy: 1.0000 - val_loss: 23.7952 - val_accuracy: 0.2500\n",
      "Epoch 96/100\n",
      "1/1 [==============================] - 1s 740ms/step - loss: 5.2928e-06 - accuracy: 1.0000 - val_loss: 23.8209 - val_accuracy: 0.2500\n",
      "Epoch 97/100\n",
      "1/1 [==============================] - 1s 770ms/step - loss: 5.2022e-06 - accuracy: 1.0000 - val_loss: 23.8441 - val_accuracy: 0.2500\n",
      "Epoch 98/100\n",
      "1/1 [==============================] - 1s 760ms/step - loss: 5.1211e-06 - accuracy: 1.0000 - val_loss: 23.8651 - val_accuracy: 0.2500\n",
      "Epoch 99/100\n",
      "1/1 [==============================] - 1s 718ms/step - loss: 5.0400e-06 - accuracy: 1.0000 - val_loss: 23.8841 - val_accuracy: 0.2500\n",
      "Epoch 100/100\n",
      "1/1 [==============================] - 1s 719ms/step - loss: 4.9399e-06 - accuracy: 1.0000 - val_loss: 23.9011 - val_accuracy: 0.2500\n",
      "Wall time: 1min 22s\n"
     ]
    },
    {
     "data": {
      "text/plain": [
       "<tensorflow.python.keras.callbacks.History at 0x1bffe3e0488>"
      ]
     },
     "execution_count": 21,
     "metadata": {},
     "output_type": "execute_result"
    }
   ],
   "source": [
    "%time model.fit(X_train, y_train, epochs=100, validation_split=0.3)"
   ]
  },
  {
   "cell_type": "markdown",
   "metadata": {
    "colab_type": "text",
    "id": "tHX352EVpoQh"
   },
   "source": [
    "## Das sieht gut aus, nun versuchen wir es mit dem kompletten Datensatz ohne Overfitting und mit Dropout"
   ]
  },
  {
   "cell_type": "code",
   "execution_count": 22,
   "metadata": {
    "colab": {},
    "colab_type": "code",
    "id": "HsqrLu_ppoQi"
   },
   "outputs": [],
   "source": [
    "from keras.models import Model\n",
    "from keras.layers import Dense, Dropout, Activation, Flatten, Input\n",
    "from keras.layers import Convolution2D, MaxPooling2D\n",
    "\n",
    "drop_out = 0.6\n",
    "\n",
    "# input tensor for a 3-channel 64x64 image\n",
    "inputs = Input(shape=(64, 64, 3))\n",
    "\n",
    "# one block of convolutional layers\n",
    "x = Convolution2D(64, 3, activation='relu', padding='same')(inputs)\n",
    "x = Convolution2D(64, 3, activation='relu', padding='same')(x)\n",
    "x = Convolution2D(64, 3, activation='relu', padding='same')(x)\n",
    "x = MaxPooling2D(pool_size=(2, 2))(x)\n",
    "x = Dropout(drop_out)(x)\n",
    "\n",
    "# one more block\n",
    "x = Convolution2D(128, 3, activation='relu', padding='same')(x)\n",
    "x = Convolution2D(128, 3, activation='relu', padding='same')(x)\n",
    "x = MaxPooling2D(pool_size=(2, 2))(x)\n",
    "x = Dropout(drop_out)(x)\n",
    "\n",
    "# one more block\n",
    "x = Convolution2D(256, 3, activation='relu', padding='same')(x)\n",
    "x = MaxPooling2D(pool_size=(2, 2))(x)\n",
    "x = Dropout(drop_out)(x)\n",
    "\n",
    "x = Flatten()(x)\n",
    "x = Dense(256, activation='relu')(x)\n",
    "x = Dropout(drop_out)(x)\n",
    "\n",
    "# softmax activation, 6 categories\n",
    "predictions = Dense(6, activation='softmax')(x)"
   ]
  },
  {
   "cell_type": "code",
   "execution_count": 23,
   "metadata": {
    "colab": {
     "base_uri": "https://localhost:8080/",
     "height": 731
    },
    "colab_type": "code",
    "id": "PRousp1QpoQk",
    "outputId": "3deaa709-073f-4445-9bff-5a18cb1bf67e"
   },
   "outputs": [
    {
     "name": "stdout",
     "output_type": "stream",
     "text": [
      "Model: \"model_1\"\n",
      "_________________________________________________________________\n",
      "Layer (type)                 Output Shape              Param #   \n",
      "=================================================================\n",
      "input_2 (InputLayer)         [(None, 64, 64, 3)]       0         \n",
      "_________________________________________________________________\n",
      "conv2d_6 (Conv2D)            (None, 64, 64, 64)        1792      \n",
      "_________________________________________________________________\n",
      "conv2d_7 (Conv2D)            (None, 64, 64, 64)        36928     \n",
      "_________________________________________________________________\n",
      "conv2d_8 (Conv2D)            (None, 64, 64, 64)        36928     \n",
      "_________________________________________________________________\n",
      "max_pooling2d_3 (MaxPooling2 (None, 32, 32, 64)        0         \n",
      "_________________________________________________________________\n",
      "dropout (Dropout)            (None, 32, 32, 64)        0         \n",
      "_________________________________________________________________\n",
      "conv2d_9 (Conv2D)            (None, 32, 32, 128)       73856     \n",
      "_________________________________________________________________\n",
      "conv2d_10 (Conv2D)           (None, 32, 32, 128)       147584    \n",
      "_________________________________________________________________\n",
      "max_pooling2d_4 (MaxPooling2 (None, 16, 16, 128)       0         \n",
      "_________________________________________________________________\n",
      "dropout_1 (Dropout)          (None, 16, 16, 128)       0         \n",
      "_________________________________________________________________\n",
      "conv2d_11 (Conv2D)           (None, 16, 16, 256)       295168    \n",
      "_________________________________________________________________\n",
      "max_pooling2d_5 (MaxPooling2 (None, 8, 8, 256)         0         \n",
      "_________________________________________________________________\n",
      "dropout_2 (Dropout)          (None, 8, 8, 256)         0         \n",
      "_________________________________________________________________\n",
      "flatten_1 (Flatten)          (None, 16384)             0         \n",
      "_________________________________________________________________\n",
      "dense_2 (Dense)              (None, 256)               4194560   \n",
      "_________________________________________________________________\n",
      "dropout_3 (Dropout)          (None, 256)               0         \n",
      "_________________________________________________________________\n",
      "dense_3 (Dense)              (None, 6)                 1542      \n",
      "=================================================================\n",
      "Total params: 4,788,358\n",
      "Trainable params: 4,788,358\n",
      "Non-trainable params: 0\n",
      "_________________________________________________________________\n"
     ]
    }
   ],
   "source": [
    "model = Model(inputs=inputs, outputs=predictions)\n",
    "model.summary()"
   ]
  },
  {
   "cell_type": "code",
   "execution_count": 24,
   "metadata": {
    "colab": {},
    "colab_type": "code",
    "id": "KA0BHt8ZpoQm"
   },
   "outputs": [],
   "source": [
    "model.compile(optimizer='adam',\n",
    "              loss='categorical_crossentropy',\n",
    "              metrics=['accuracy'])"
   ]
  },
  {
   "cell_type": "code",
   "execution_count": 25,
   "metadata": {
    "colab": {},
    "colab_type": "code",
    "id": "M4zA_j07poQo"
   },
   "outputs": [],
   "source": [
    "X_train, X_test, y_train, y_test = train_test_split(X, y, test_size=0.2, random_state=42, stratify=y)"
   ]
  },
  {
   "cell_type": "code",
   "execution_count": 26,
   "metadata": {
    "colab": {},
    "colab_type": "code",
    "id": "POU41fDPpoQq"
   },
   "outputs": [],
   "source": [
    "# wenn die Ergebnisse lange Zeit schlecht bleiben, brechen wir lieber ab\n",
    "early_stopping_callback = keras.callbacks.EarlyStopping(monitor='val_loss', patience=25, verbose=1)"
   ]
  },
  {
   "cell_type": "code",
   "execution_count": 27,
   "metadata": {
    "colab": {
     "base_uri": "https://localhost:8080/",
     "height": 1000
    },
    "colab_type": "code",
    "id": "EfN07IOLpoQt",
    "outputId": "e718bc79-15cd-496c-8bcf-8c168c1d7212"
   },
   "outputs": [
    {
     "name": "stdout",
     "output_type": "stream",
     "text": [
      "Epoch 1/500\n",
      "8/8 [==============================] - 8s 899ms/step - loss: 1.8535 - accuracy: 0.1975 - val_loss: 1.7789 - val_accuracy: 0.1148\n",
      "Epoch 2/500\n",
      "8/8 [==============================] - 7s 866ms/step - loss: 1.7148 - accuracy: 0.2385 - val_loss: 1.7876 - val_accuracy: 0.2295\n",
      "Epoch 3/500\n",
      "8/8 [==============================] - 7s 904ms/step - loss: 1.7025 - accuracy: 0.2636 - val_loss: 1.7841 - val_accuracy: 0.2295\n",
      "Epoch 4/500\n",
      "8/8 [==============================] - 7s 844ms/step - loss: 1.6579 - accuracy: 0.3186 - val_loss: 1.7876 - val_accuracy: 0.1967\n",
      "Epoch 5/500\n",
      "8/8 [==============================] - 7s 887ms/step - loss: 1.6957 - accuracy: 0.2609 - val_loss: 1.7749 - val_accuracy: 0.2787\n",
      "Epoch 6/500\n",
      "8/8 [==============================] - 7s 871ms/step - loss: 1.7167 - accuracy: 0.3179 - val_loss: 1.7648 - val_accuracy: 0.2787\n",
      "Epoch 7/500\n",
      "8/8 [==============================] - 7s 823ms/step - loss: 1.6529 - accuracy: 0.3099 - val_loss: 1.7834 - val_accuracy: 0.1967\n",
      "Epoch 8/500\n",
      "8/8 [==============================] - 8s 889ms/step - loss: 1.6755 - accuracy: 0.3225 - val_loss: 1.7705 - val_accuracy: 0.2295\n",
      "Epoch 9/500\n",
      "8/8 [==============================] - 7s 868ms/step - loss: 1.6911 - accuracy: 0.3211 - val_loss: 1.7599 - val_accuracy: 0.2623\n",
      "Epoch 10/500\n",
      "8/8 [==============================] - 7s 835ms/step - loss: 1.6595 - accuracy: 0.3218 - val_loss: 1.7481 - val_accuracy: 0.2951\n",
      "Epoch 11/500\n",
      "8/8 [==============================] - 6s 748ms/step - loss: 1.6001 - accuracy: 0.3465 - val_loss: 1.7625 - val_accuracy: 0.1803\n",
      "Epoch 12/500\n",
      "8/8 [==============================] - 6s 756ms/step - loss: 1.6641 - accuracy: 0.3197 - val_loss: 1.7291 - val_accuracy: 0.3115\n",
      "Epoch 13/500\n",
      "8/8 [==============================] - 6s 785ms/step - loss: 1.6205 - accuracy: 0.3554 - val_loss: 1.7412 - val_accuracy: 0.1967\n",
      "Epoch 14/500\n",
      "8/8 [==============================] - 6s 822ms/step - loss: 1.5956 - accuracy: 0.3487 - val_loss: 1.7197 - val_accuracy: 0.2951\n",
      "Epoch 15/500\n",
      "8/8 [==============================] - 7s 843ms/step - loss: 1.5993 - accuracy: 0.2821 - val_loss: 1.7112 - val_accuracy: 0.2623\n",
      "Epoch 16/500\n",
      "8/8 [==============================] - 7s 832ms/step - loss: 1.5647 - accuracy: 0.3509 - val_loss: 1.7006 - val_accuracy: 0.2295\n",
      "Epoch 17/500\n",
      "8/8 [==============================] - 7s 807ms/step - loss: 1.5981 - accuracy: 0.2901 - val_loss: 1.6995 - val_accuracy: 0.1967\n",
      "Epoch 18/500\n",
      "8/8 [==============================] - 6s 758ms/step - loss: 1.5385 - accuracy: 0.3439 - val_loss: 1.6809 - val_accuracy: 0.2295\n",
      "Epoch 19/500\n",
      "8/8 [==============================] - 6s 759ms/step - loss: 1.5939 - accuracy: 0.3794 - val_loss: 1.6782 - val_accuracy: 0.2623\n",
      "Epoch 20/500\n",
      "8/8 [==============================] - 6s 771ms/step - loss: 1.5470 - accuracy: 0.3379 - val_loss: 1.6903 - val_accuracy: 0.2623\n",
      "Epoch 21/500\n",
      "8/8 [==============================] - 7s 832ms/step - loss: 1.5750 - accuracy: 0.3163 - val_loss: 1.6844 - val_accuracy: 0.2787\n",
      "Epoch 22/500\n",
      "8/8 [==============================] - 6s 776ms/step - loss: 1.5955 - accuracy: 0.3233 - val_loss: 1.6584 - val_accuracy: 0.2951\n",
      "Epoch 23/500\n",
      "8/8 [==============================] - 6s 740ms/step - loss: 1.5634 - accuracy: 0.3456 - val_loss: 1.6582 - val_accuracy: 0.3279\n",
      "Epoch 24/500\n",
      "8/8 [==============================] - 6s 743ms/step - loss: 1.5072 - accuracy: 0.3763 - val_loss: 1.6701 - val_accuracy: 0.2459\n",
      "Epoch 25/500\n",
      "8/8 [==============================] - 6s 795ms/step - loss: 1.5481 - accuracy: 0.3104 - val_loss: 1.6365 - val_accuracy: 0.2951\n",
      "Epoch 26/500\n",
      "8/8 [==============================] - 6s 739ms/step - loss: 1.4574 - accuracy: 0.3405 - val_loss: 1.6593 - val_accuracy: 0.2787\n",
      "Epoch 27/500\n",
      "8/8 [==============================] - 6s 737ms/step - loss: 1.4652 - accuracy: 0.3632 - val_loss: 1.6315 - val_accuracy: 0.3279\n",
      "Epoch 28/500\n",
      "8/8 [==============================] - 6s 760ms/step - loss: 1.4539 - accuracy: 0.3999 - val_loss: 1.6209 - val_accuracy: 0.2951\n",
      "Epoch 29/500\n",
      "8/8 [==============================] - 6s 740ms/step - loss: 1.4775 - accuracy: 0.3907 - val_loss: 1.6030 - val_accuracy: 0.2951\n",
      "Epoch 30/500\n",
      "8/8 [==============================] - 6s 772ms/step - loss: 1.4752 - accuracy: 0.3719 - val_loss: 1.6125 - val_accuracy: 0.3607\n",
      "Epoch 31/500\n",
      "8/8 [==============================] - 6s 745ms/step - loss: 1.4287 - accuracy: 0.3998 - val_loss: 1.5972 - val_accuracy: 0.3279\n",
      "Epoch 32/500\n",
      "8/8 [==============================] - 6s 753ms/step - loss: 1.4245 - accuracy: 0.4103 - val_loss: 1.6175 - val_accuracy: 0.3115\n",
      "Epoch 33/500\n",
      "8/8 [==============================] - 6s 773ms/step - loss: 1.4117 - accuracy: 0.3850 - val_loss: 1.5675 - val_accuracy: 0.3770\n",
      "Epoch 34/500\n",
      "8/8 [==============================] - 6s 746ms/step - loss: 1.4043 - accuracy: 0.4234 - val_loss: 1.5316 - val_accuracy: 0.3279\n",
      "Epoch 35/500\n",
      "8/8 [==============================] - 6s 736ms/step - loss: 1.2889 - accuracy: 0.4316 - val_loss: 1.4320 - val_accuracy: 0.4262\n",
      "Epoch 36/500\n",
      "8/8 [==============================] - 6s 758ms/step - loss: 1.2710 - accuracy: 0.4630 - val_loss: 1.3852 - val_accuracy: 0.4590\n",
      "Epoch 37/500\n",
      "8/8 [==============================] - 6s 738ms/step - loss: 1.1841 - accuracy: 0.5781 - val_loss: 1.3180 - val_accuracy: 0.5082\n",
      "Epoch 38/500\n",
      "8/8 [==============================] - 6s 766ms/step - loss: 1.2832 - accuracy: 0.5212 - val_loss: 1.3805 - val_accuracy: 0.4754\n",
      "Epoch 39/500\n",
      "8/8 [==============================] - 6s 740ms/step - loss: 1.2015 - accuracy: 0.5149 - val_loss: 0.9424 - val_accuracy: 0.6230\n",
      "Epoch 40/500\n",
      "8/8 [==============================] - 6s 747ms/step - loss: 1.0419 - accuracy: 0.6096 - val_loss: 0.9337 - val_accuracy: 0.6393\n",
      "Epoch 41/500\n",
      "8/8 [==============================] - 6s 790ms/step - loss: 0.8842 - accuracy: 0.6784 - val_loss: 0.9080 - val_accuracy: 0.7705\n",
      "Epoch 42/500\n",
      "8/8 [==============================] - 6s 741ms/step - loss: 0.9387 - accuracy: 0.6972 - val_loss: 0.6709 - val_accuracy: 0.7869\n",
      "Epoch 43/500\n",
      "8/8 [==============================] - 6s 739ms/step - loss: 0.6738 - accuracy: 0.7711 - val_loss: 0.4755 - val_accuracy: 0.9016\n",
      "Epoch 44/500\n",
      "8/8 [==============================] - 6s 757ms/step - loss: 0.5321 - accuracy: 0.8031 - val_loss: 0.3657 - val_accuracy: 0.9344\n",
      "Epoch 45/500\n",
      "8/8 [==============================] - 6s 741ms/step - loss: 0.5549 - accuracy: 0.8186 - val_loss: 0.4187 - val_accuracy: 0.8525\n",
      "Epoch 46/500\n",
      "8/8 [==============================] - 6s 765ms/step - loss: 0.5762 - accuracy: 0.8178 - val_loss: 0.4334 - val_accuracy: 0.8689\n",
      "Epoch 47/500\n",
      "8/8 [==============================] - 6s 739ms/step - loss: 0.4473 - accuracy: 0.8452 - val_loss: 0.3717 - val_accuracy: 0.8852\n",
      "Epoch 48/500\n",
      "8/8 [==============================] - 6s 738ms/step - loss: 0.3856 - accuracy: 0.8625 - val_loss: 0.1610 - val_accuracy: 0.9672\n",
      "Epoch 49/500\n",
      "8/8 [==============================] - 6s 765ms/step - loss: 0.2799 - accuracy: 0.8988 - val_loss: 0.3139 - val_accuracy: 0.9344\n",
      "Epoch 50/500\n",
      "8/8 [==============================] - 6s 742ms/step - loss: 0.3064 - accuracy: 0.9160 - val_loss: 0.2333 - val_accuracy: 0.9508\n",
      "Epoch 51/500\n",
      "8/8 [==============================] - 6s 738ms/step - loss: 0.2801 - accuracy: 0.8856 - val_loss: 0.2636 - val_accuracy: 0.9180\n",
      "Epoch 52/500\n",
      "8/8 [==============================] - 6s 760ms/step - loss: 0.2365 - accuracy: 0.9089 - val_loss: 0.2452 - val_accuracy: 0.9672\n",
      "Epoch 53/500\n",
      "8/8 [==============================] - 6s 738ms/step - loss: 0.2091 - accuracy: 0.9498 - val_loss: 0.3229 - val_accuracy: 0.9016\n",
      "Epoch 54/500\n",
      "8/8 [==============================] - 6s 764ms/step - loss: 0.2420 - accuracy: 0.9158 - val_loss: 0.1014 - val_accuracy: 0.9672\n",
      "Epoch 55/500\n",
      "8/8 [==============================] - 6s 743ms/step - loss: 0.1539 - accuracy: 0.9489 - val_loss: 0.0906 - val_accuracy: 0.9672\n",
      "Epoch 56/500\n",
      "8/8 [==============================] - 6s 739ms/step - loss: 0.2964 - accuracy: 0.9241 - val_loss: 0.2010 - val_accuracy: 0.9508\n",
      "Epoch 57/500\n",
      "8/8 [==============================] - 6s 764ms/step - loss: 0.2553 - accuracy: 0.9338 - val_loss: 0.1374 - val_accuracy: 0.9672\n",
      "Epoch 58/500\n",
      "8/8 [==============================] - 6s 737ms/step - loss: 0.1690 - accuracy: 0.9410 - val_loss: 0.1232 - val_accuracy: 0.9836\n"
     ]
    },
    {
     "name": "stdout",
     "output_type": "stream",
     "text": [
      "Epoch 59/500\n",
      "8/8 [==============================] - 6s 738ms/step - loss: 0.1483 - accuracy: 0.9468 - val_loss: 0.0853 - val_accuracy: 0.9672\n",
      "Epoch 60/500\n",
      "8/8 [==============================] - 6s 765ms/step - loss: 0.1540 - accuracy: 0.9494 - val_loss: 0.3330 - val_accuracy: 0.8852\n",
      "Epoch 61/500\n",
      "8/8 [==============================] - 6s 759ms/step - loss: 0.1387 - accuracy: 0.9678 - val_loss: 0.2642 - val_accuracy: 0.9344\n",
      "Epoch 62/500\n",
      "8/8 [==============================] - 6s 777ms/step - loss: 0.2127 - accuracy: 0.9198 - val_loss: 0.1093 - val_accuracy: 0.9508\n",
      "Epoch 63/500\n",
      "8/8 [==============================] - 6s 742ms/step - loss: 0.1474 - accuracy: 0.9534 - val_loss: 0.2005 - val_accuracy: 0.9344\n",
      "Epoch 64/500\n",
      "8/8 [==============================] - 6s 750ms/step - loss: 0.2242 - accuracy: 0.9282 - val_loss: 0.1777 - val_accuracy: 0.9180\n",
      "Epoch 65/500\n",
      "8/8 [==============================] - 6s 776ms/step - loss: 0.2253 - accuracy: 0.9264 - val_loss: 0.3272 - val_accuracy: 0.9180\n",
      "Epoch 66/500\n",
      "8/8 [==============================] - 6s 742ms/step - loss: 0.2265 - accuracy: 0.8990 - val_loss: 0.1671 - val_accuracy: 0.9344\n",
      "Epoch 67/500\n",
      "8/8 [==============================] - 6s 735ms/step - loss: 0.1453 - accuracy: 0.9389 - val_loss: 0.1669 - val_accuracy: 0.9508\n",
      "Epoch 68/500\n",
      "8/8 [==============================] - 6s 753ms/step - loss: 0.1192 - accuracy: 0.9637 - val_loss: 0.1493 - val_accuracy: 0.9672\n",
      "Epoch 69/500\n",
      "8/8 [==============================] - 6s 737ms/step - loss: 0.1492 - accuracy: 0.9345 - val_loss: 0.1541 - val_accuracy: 0.9344\n",
      "Epoch 70/500\n",
      "8/8 [==============================] - 6s 763ms/step - loss: 0.1026 - accuracy: 0.9733 - val_loss: 0.1380 - val_accuracy: 0.9508\n",
      "Epoch 71/500\n",
      "8/8 [==============================] - 6s 772ms/step - loss: 0.0918 - accuracy: 0.9575 - val_loss: 0.1761 - val_accuracy: 0.9508\n",
      "Epoch 72/500\n",
      "8/8 [==============================] - 6s 758ms/step - loss: 0.0923 - accuracy: 0.9754 - val_loss: 0.1127 - val_accuracy: 0.9672\n",
      "Epoch 73/500\n",
      "8/8 [==============================] - 6s 766ms/step - loss: 0.1027 - accuracy: 0.9485 - val_loss: 0.2149 - val_accuracy: 0.9508\n",
      "Epoch 74/500\n",
      "8/8 [==============================] - 6s 738ms/step - loss: 0.0979 - accuracy: 0.9572 - val_loss: 0.3928 - val_accuracy: 0.9180\n",
      "Epoch 75/500\n",
      "8/8 [==============================] - 6s 786ms/step - loss: 0.1914 - accuracy: 0.9313 - val_loss: 0.0989 - val_accuracy: 0.9672\n",
      "Epoch 76/500\n",
      "8/8 [==============================] - 6s 750ms/step - loss: 0.1635 - accuracy: 0.9583 - val_loss: 0.1667 - val_accuracy: 0.9508\n",
      "Epoch 77/500\n",
      "8/8 [==============================] - 6s 812ms/step - loss: 0.0862 - accuracy: 0.9737 - val_loss: 0.1278 - val_accuracy: 0.9672\n",
      "Epoch 78/500\n",
      "8/8 [==============================] - 7s 827ms/step - loss: 0.0556 - accuracy: 0.9849 - val_loss: 0.5121 - val_accuracy: 0.9344\n",
      "Epoch 79/500\n",
      "8/8 [==============================] - 7s 843ms/step - loss: 0.0684 - accuracy: 0.9749 - val_loss: 0.1433 - val_accuracy: 0.9672\n",
      "Epoch 80/500\n",
      "8/8 [==============================] - 6s 811ms/step - loss: 0.1103 - accuracy: 0.9550 - val_loss: 0.0993 - val_accuracy: 0.9672\n",
      "Epoch 81/500\n",
      "8/8 [==============================] - 6s 791ms/step - loss: 0.0980 - accuracy: 0.9776 - val_loss: 0.2303 - val_accuracy: 0.9344\n",
      "Epoch 82/500\n",
      "8/8 [==============================] - 6s 754ms/step - loss: 0.0544 - accuracy: 0.9798 - val_loss: 0.0452 - val_accuracy: 0.9836\n",
      "Epoch 83/500\n",
      "8/8 [==============================] - 6s 770ms/step - loss: 0.0588 - accuracy: 0.9702 - val_loss: 0.0836 - val_accuracy: 0.9836\n",
      "Epoch 84/500\n",
      "8/8 [==============================] - 6s 763ms/step - loss: 0.1185 - accuracy: 0.9688 - val_loss: 0.2606 - val_accuracy: 0.9180\n",
      "Epoch 85/500\n",
      "8/8 [==============================] - 6s 789ms/step - loss: 0.1741 - accuracy: 0.9327 - val_loss: 0.2779 - val_accuracy: 0.9180\n",
      "Epoch 86/500\n",
      "8/8 [==============================] - 7s 815ms/step - loss: 0.1522 - accuracy: 0.9495 - val_loss: 0.2173 - val_accuracy: 0.9180\n",
      "Epoch 87/500\n",
      "8/8 [==============================] - 6s 783ms/step - loss: 0.1046 - accuracy: 0.9715 - val_loss: 0.1635 - val_accuracy: 0.9344\n",
      "Epoch 88/500\n",
      "8/8 [==============================] - 7s 946ms/step - loss: 0.0839 - accuracy: 0.9763 - val_loss: 0.2611 - val_accuracy: 0.9180\n",
      "Epoch 89/500\n",
      "8/8 [==============================] - 6s 742ms/step - loss: 0.0569 - accuracy: 0.9772 - val_loss: 0.0913 - val_accuracy: 0.9672\n",
      "Epoch 90/500\n",
      "8/8 [==============================] - 6s 796ms/step - loss: 0.0895 - accuracy: 0.9763 - val_loss: 0.2302 - val_accuracy: 0.9344\n",
      "Epoch 91/500\n",
      "8/8 [==============================] - 6s 787ms/step - loss: 0.1460 - accuracy: 0.9552 - val_loss: 0.0652 - val_accuracy: 0.9836\n",
      "Epoch 92/500\n",
      "8/8 [==============================] - 6s 735ms/step - loss: 0.1869 - accuracy: 0.9320 - val_loss: 0.1196 - val_accuracy: 0.9344\n",
      "Epoch 93/500\n",
      "8/8 [==============================] - 6s 812ms/step - loss: 0.0368 - accuracy: 0.9842 - val_loss: 0.1270 - val_accuracy: 0.9344\n",
      "Epoch 94/500\n",
      "8/8 [==============================] - 6s 746ms/step - loss: 0.0372 - accuracy: 0.9838 - val_loss: 0.0699 - val_accuracy: 0.9672\n",
      "Epoch 95/500\n",
      "8/8 [==============================] - 6s 753ms/step - loss: 0.0449 - accuracy: 0.9865 - val_loss: 0.0695 - val_accuracy: 0.9836\n",
      "Epoch 96/500\n",
      "8/8 [==============================] - 6s 767ms/step - loss: 0.0673 - accuracy: 0.9836 - val_loss: 0.1926 - val_accuracy: 0.9344\n",
      "Epoch 97/500\n",
      "8/8 [==============================] - 6s 752ms/step - loss: 0.0716 - accuracy: 0.9663 - val_loss: 0.0605 - val_accuracy: 0.9672\n",
      "Epoch 98/500\n",
      "8/8 [==============================] - 6s 767ms/step - loss: 0.0244 - accuracy: 0.9889 - val_loss: 0.0383 - val_accuracy: 0.9836\n",
      "Epoch 99/500\n",
      "8/8 [==============================] - 6s 765ms/step - loss: 0.0747 - accuracy: 0.9792 - val_loss: 0.0679 - val_accuracy: 0.9836\n",
      "Epoch 100/500\n",
      "8/8 [==============================] - 6s 795ms/step - loss: 0.0598 - accuracy: 0.9695 - val_loss: 0.0382 - val_accuracy: 1.0000\n",
      "Epoch 101/500\n",
      "8/8 [==============================] - 7s 818ms/step - loss: 0.1035 - accuracy: 0.9760 - val_loss: 0.0924 - val_accuracy: 0.9672\n",
      "Epoch 102/500\n",
      "8/8 [==============================] - 6s 762ms/step - loss: 0.0343 - accuracy: 0.9932 - val_loss: 0.0792 - val_accuracy: 0.9672\n",
      "Epoch 103/500\n",
      "8/8 [==============================] - 6s 748ms/step - loss: 0.2578 - accuracy: 0.9450 - val_loss: 0.0628 - val_accuracy: 1.0000\n",
      "Epoch 104/500\n",
      "8/8 [==============================] - 6s 752ms/step - loss: 0.0780 - accuracy: 0.9846 - val_loss: 0.1004 - val_accuracy: 0.9836\n",
      "Epoch 105/500\n",
      "8/8 [==============================] - 6s 747ms/step - loss: 0.0723 - accuracy: 0.9836 - val_loss: 0.0482 - val_accuracy: 0.9672\n",
      "Epoch 106/500\n",
      "8/8 [==============================] - 6s 773ms/step - loss: 0.0410 - accuracy: 0.9824 - val_loss: 0.0660 - val_accuracy: 0.9508\n",
      "Epoch 107/500\n",
      "8/8 [==============================] - 6s 744ms/step - loss: 0.0591 - accuracy: 0.9756 - val_loss: 0.0823 - val_accuracy: 0.9672\n",
      "Epoch 108/500\n",
      "8/8 [==============================] - 6s 740ms/step - loss: 0.0401 - accuracy: 0.9891 - val_loss: 0.0575 - val_accuracy: 0.9836\n",
      "Epoch 109/500\n",
      "8/8 [==============================] - 6s 784ms/step - loss: 0.0664 - accuracy: 0.9836 - val_loss: 0.0304 - val_accuracy: 0.9836\n",
      "Epoch 110/500\n",
      "8/8 [==============================] - 6s 778ms/step - loss: 0.0541 - accuracy: 0.9746 - val_loss: 0.2578 - val_accuracy: 0.9344\n",
      "Epoch 111/500\n",
      "8/8 [==============================] - 7s 848ms/step - loss: 0.0292 - accuracy: 0.9893 - val_loss: 0.0512 - val_accuracy: 0.9836\n",
      "Epoch 112/500\n",
      "8/8 [==============================] - 6s 781ms/step - loss: 0.0340 - accuracy: 0.9923 - val_loss: 0.0488 - val_accuracy: 1.0000\n",
      "Epoch 113/500\n",
      "8/8 [==============================] - 6s 782ms/step - loss: 0.0745 - accuracy: 0.9919 - val_loss: 0.0491 - val_accuracy: 0.9836\n",
      "Epoch 114/500\n",
      "8/8 [==============================] - 7s 833ms/step - loss: 0.0260 - accuracy: 0.9908 - val_loss: 0.0734 - val_accuracy: 0.9672\n",
      "Epoch 115/500\n",
      "8/8 [==============================] - 7s 861ms/step - loss: 0.0180 - accuracy: 0.9971 - val_loss: 0.0886 - val_accuracy: 0.9672\n",
      "Epoch 116/500\n"
     ]
    },
    {
     "name": "stdout",
     "output_type": "stream",
     "text": [
      "8/8 [==============================] - 7s 897ms/step - loss: 0.0371 - accuracy: 0.9813 - val_loss: 0.1072 - val_accuracy: 0.9672\n",
      "Epoch 117/500\n",
      "8/8 [==============================] - 7s 829ms/step - loss: 0.0183 - accuracy: 0.9953 - val_loss: 0.0555 - val_accuracy: 0.9836\n",
      "Epoch 118/500\n",
      "8/8 [==============================] - 7s 862ms/step - loss: 0.0659 - accuracy: 0.9825 - val_loss: 0.0561 - val_accuracy: 0.9836\n",
      "Epoch 119/500\n",
      "8/8 [==============================] - 7s 887ms/step - loss: 0.0070 - accuracy: 1.0000 - val_loss: 0.0602 - val_accuracy: 0.9672\n",
      "Epoch 120/500\n",
      "8/8 [==============================] - 7s 850ms/step - loss: 0.0411 - accuracy: 0.9800 - val_loss: 0.0658 - val_accuracy: 0.9508\n",
      "Epoch 121/500\n",
      "8/8 [==============================] - 7s 877ms/step - loss: 0.0134 - accuracy: 1.0000 - val_loss: 0.0727 - val_accuracy: 0.9508\n",
      "Epoch 122/500\n",
      "8/8 [==============================] - 7s 860ms/step - loss: 0.0144 - accuracy: 0.9921 - val_loss: 0.1134 - val_accuracy: 0.9344\n",
      "Epoch 123/500\n",
      "8/8 [==============================] - 8s 944ms/step - loss: 0.0094 - accuracy: 1.0000 - val_loss: 0.1178 - val_accuracy: 0.9344\n",
      "Epoch 124/500\n",
      "8/8 [==============================] - 7s 867ms/step - loss: 0.0490 - accuracy: 0.9901 - val_loss: 0.0639 - val_accuracy: 0.9508\n",
      "Epoch 125/500\n",
      "8/8 [==============================] - 7s 845ms/step - loss: 0.1049 - accuracy: 0.9782 - val_loss: 0.0482 - val_accuracy: 0.9836\n",
      "Epoch 126/500\n",
      "8/8 [==============================] - 7s 833ms/step - loss: 0.0621 - accuracy: 0.9796 - val_loss: 0.0941 - val_accuracy: 0.9672\n",
      "Epoch 127/500\n",
      "8/8 [==============================] - 7s 839ms/step - loss: 0.0232 - accuracy: 1.0000 - val_loss: 0.0537 - val_accuracy: 0.9836\n",
      "Epoch 128/500\n",
      "8/8 [==============================] - 7s 831ms/step - loss: 0.1327 - accuracy: 0.9797 - val_loss: 0.1346 - val_accuracy: 0.9672\n",
      "Epoch 129/500\n",
      "8/8 [==============================] - 7s 842ms/step - loss: 0.0409 - accuracy: 1.0000 - val_loss: 0.1091 - val_accuracy: 0.9672\n",
      "Epoch 130/500\n",
      "8/8 [==============================] - 7s 823ms/step - loss: 0.0344 - accuracy: 0.9916 - val_loss: 0.0980 - val_accuracy: 0.9836\n",
      "Epoch 131/500\n",
      "8/8 [==============================] - 6s 788ms/step - loss: 0.0139 - accuracy: 0.9964 - val_loss: 0.0838 - val_accuracy: 0.9836\n",
      "Epoch 132/500\n",
      "8/8 [==============================] - 7s 844ms/step - loss: 0.0551 - accuracy: 0.9836 - val_loss: 0.0366 - val_accuracy: 0.9836\n",
      "Epoch 133/500\n",
      "8/8 [==============================] - 7s 860ms/step - loss: 0.0062 - accuracy: 1.0000 - val_loss: 0.0291 - val_accuracy: 0.9836\n",
      "Epoch 134/500\n",
      "8/8 [==============================] - 6s 764ms/step - loss: 0.0298 - accuracy: 0.9918 - val_loss: 0.1388 - val_accuracy: 0.9508\n",
      "Epoch 135/500\n",
      "8/8 [==============================] - 6s 757ms/step - loss: 0.0183 - accuracy: 0.9935 - val_loss: 0.0441 - val_accuracy: 0.9836\n",
      "Epoch 136/500\n",
      "8/8 [==============================] - 6s 742ms/step - loss: 0.0161 - accuracy: 0.9950 - val_loss: 0.1616 - val_accuracy: 0.9508\n",
      "Epoch 137/500\n",
      "8/8 [==============================] - 6s 760ms/step - loss: 0.0594 - accuracy: 0.9865 - val_loss: 0.0740 - val_accuracy: 0.9836\n",
      "Epoch 138/500\n",
      "8/8 [==============================] - 6s 792ms/step - loss: 0.0107 - accuracy: 1.0000 - val_loss: 0.0872 - val_accuracy: 0.9836\n",
      "Epoch 139/500\n",
      "8/8 [==============================] - 6s 764ms/step - loss: 0.0047 - accuracy: 1.0000 - val_loss: 0.0867 - val_accuracy: 0.9836\n",
      "Epoch 140/500\n",
      "8/8 [==============================] - 6s 754ms/step - loss: 0.0078 - accuracy: 0.9929 - val_loss: 0.0993 - val_accuracy: 0.9836\n",
      "Epoch 141/500\n",
      "8/8 [==============================] - 6s 734ms/step - loss: 0.0134 - accuracy: 0.9964 - val_loss: 0.0991 - val_accuracy: 0.9836\n",
      "Epoch 142/500\n",
      "8/8 [==============================] - 6s 754ms/step - loss: 0.0155 - accuracy: 0.9980 - val_loss: 0.0943 - val_accuracy: 0.9836\n",
      "Epoch 143/500\n",
      "8/8 [==============================] - 6s 779ms/step - loss: 0.0415 - accuracy: 0.9838 - val_loss: 0.0753 - val_accuracy: 0.9672\n",
      "Epoch 144/500\n",
      "8/8 [==============================] - 6s 779ms/step - loss: 0.1382 - accuracy: 0.9599 - val_loss: 0.1018 - val_accuracy: 0.9672\n",
      "Epoch 145/500\n",
      "8/8 [==============================] - 6s 821ms/step - loss: 0.0326 - accuracy: 0.9775 - val_loss: 0.1291 - val_accuracy: 0.9672\n",
      "Epoch 146/500\n",
      "8/8 [==============================] - 6s 796ms/step - loss: 0.0533 - accuracy: 0.9801 - val_loss: 0.1108 - val_accuracy: 0.9508\n",
      "Epoch 147/500\n",
      "8/8 [==============================] - 6s 788ms/step - loss: 0.0210 - accuracy: 0.9890 - val_loss: 0.0973 - val_accuracy: 0.9836\n",
      "Epoch 148/500\n",
      "8/8 [==============================] - 6s 762ms/step - loss: 0.0286 - accuracy: 0.9843 - val_loss: 0.0880 - val_accuracy: 0.9672\n",
      "Epoch 149/500\n",
      "8/8 [==============================] - 6s 768ms/step - loss: 0.0579 - accuracy: 0.9772 - val_loss: 0.1883 - val_accuracy: 0.9344\n",
      "Epoch 150/500\n",
      "8/8 [==============================] - 7s 833ms/step - loss: 0.0617 - accuracy: 0.9834 - val_loss: 0.1080 - val_accuracy: 0.9836\n",
      "Epoch 151/500\n",
      "8/8 [==============================] - 7s 846ms/step - loss: 0.0507 - accuracy: 0.9897 - val_loss: 0.0556 - val_accuracy: 1.0000\n",
      "Epoch 152/500\n",
      "8/8 [==============================] - 6s 744ms/step - loss: 0.0660 - accuracy: 0.9893 - val_loss: 0.1683 - val_accuracy: 0.9508\n",
      "Epoch 153/500\n",
      "8/8 [==============================] - 6s 769ms/step - loss: 0.0744 - accuracy: 0.9774 - val_loss: 0.2539 - val_accuracy: 0.9344\n",
      "Epoch 154/500\n",
      "8/8 [==============================] - 6s 739ms/step - loss: 0.0441 - accuracy: 0.9735 - val_loss: 0.1948 - val_accuracy: 0.9344\n",
      "Epoch 155/500\n",
      "8/8 [==============================] - 6s 747ms/step - loss: 0.0870 - accuracy: 0.9820 - val_loss: 0.0719 - val_accuracy: 0.9836\n",
      "Epoch 156/500\n",
      "8/8 [==============================] - 6s 786ms/step - loss: 0.0311 - accuracy: 0.9866 - val_loss: 0.1339 - val_accuracy: 0.9672\n",
      "Epoch 157/500\n",
      "8/8 [==============================] - 6s 746ms/step - loss: 0.0975 - accuracy: 0.9494 - val_loss: 0.1076 - val_accuracy: 0.9672\n",
      "Epoch 158/500\n",
      "8/8 [==============================] - 6s 762ms/step - loss: 0.0375 - accuracy: 0.9888 - val_loss: 0.0444 - val_accuracy: 0.9836\n",
      "Epoch 00158: early stopping\n",
      "Wall time: 16min 34s\n"
     ]
    },
    {
     "data": {
      "text/plain": [
       "<tensorflow.python.keras.callbacks.History at 0x1bf87239d88>"
      ]
     },
     "execution_count": 27,
     "metadata": {},
     "output_type": "execute_result"
    }
   ],
   "source": [
    "# auf Colab haben wir GPU support angeschaltet, d.h. auch dieses Training kann sehr schnell gehen\n",
    "# auf einem lokalen Recher ohne GPU kann sowas aber locker 2 Stunden oder mehr laufen\n",
    "# BATCH_SIZE = 500\n",
    "BATCH_SIZE = 32\n",
    "%time model.fit(X_train, y_train, epochs=500, batch_size=BATCH_SIZE, validation_split=0.2, callbacks=[early_stopping_callback])"
   ]
  },
  {
   "cell_type": "markdown",
   "metadata": {
    "colab_type": "text",
    "id": "o7UDsN7npoQw"
   },
   "source": [
    "# Bewertung"
   ]
  },
  {
   "cell_type": "code",
   "execution_count": 28,
   "metadata": {
    "colab": {
     "base_uri": "https://localhost:8080/",
     "height": 51
    },
    "colab_type": "code",
    "id": "I7KhwcBOpoQw",
    "outputId": "ea955684-1b7b-4409-9132-90d9e92fcaf5"
   },
   "outputs": [
    {
     "name": "stdout",
     "output_type": "stream",
     "text": [
      "10/10 [==============================] - 2s 150ms/step - loss: 0.0099 - accuracy: 0.9967\n"
     ]
    },
    {
     "data": {
      "text/plain": [
       "(0.009933054447174072, 0.9966996908187866)"
      ]
     },
     "execution_count": 28,
     "metadata": {},
     "output_type": "execute_result"
    }
   ],
   "source": [
    "train_loss, train_accuracy = model.evaluate(X_train, y_train, batch_size=BATCH_SIZE)\n",
    "train_loss, train_accuracy"
   ]
  },
  {
   "cell_type": "code",
   "execution_count": 29,
   "metadata": {
    "colab": {
     "base_uri": "https://localhost:8080/",
     "height": 51
    },
    "colab_type": "code",
    "id": "O5DtJ2jcpoQy",
    "outputId": "e296028c-7dad-45b5-ee40-3730deba1019"
   },
   "outputs": [
    {
     "name": "stdout",
     "output_type": "stream",
     "text": [
      "3/3 [==============================] - 0s 106ms/step - loss: 0.1941 - accuracy: 0.9474\n"
     ]
    },
    {
     "data": {
      "text/plain": [
       "(0.1940622478723526, 0.9473684430122375)"
      ]
     },
     "execution_count": 29,
     "metadata": {},
     "output_type": "execute_result"
    }
   ],
   "source": [
    "test_loss, test_accuracy = model.evaluate(X_test, y_test, batch_size=BATCH_SIZE)\n",
    "test_loss, test_accuracy"
   ]
  },
  {
   "cell_type": "markdown",
   "metadata": {
    "colab_type": "text",
    "id": "MTBpM_1vpoQ1"
   },
   "source": [
    "# Sichern des Modells"
   ]
  },
  {
   "cell_type": "code",
   "execution_count": 30,
   "metadata": {
    "colab": {},
    "colab_type": "code",
    "id": "aCNMOFkepoQ1"
   },
   "outputs": [],
   "source": [
    "!rmdir /s /q models\n",
    "!mkdir models\n",
    "#!rm -r models\n",
    "#!mkdir models"
   ]
  },
  {
   "cell_type": "code",
   "execution_count": 31,
   "metadata": {
    "colab": {},
    "colab_type": "code",
    "id": "bIkgD-XhpoQ3"
   },
   "outputs": [],
   "source": [
    "model.save('models/conv-vgg.hdf5')"
   ]
  },
  {
   "cell_type": "code",
   "execution_count": 32,
   "metadata": {
    "colab": {
     "base_uri": "https://localhost:8080/",
     "height": 51
    },
    "colab_type": "code",
    "id": "ruxkxejrpoQ4",
    "outputId": "8867a515-51a9-462b-91d5-1e120e3a79e2"
   },
   "outputs": [
    {
     "name": "stdout",
     "output_type": "stream",
     "text": [
      " Volume in Laufwerk C: hat keine Bezeichnung.\n",
      " Volumeseriennummer: 5ED5-9136\n",
      "\n",
      " Verzeichnis von C:\\Users\\kleme\\Python-Programme\\ML_Intro\\models\n",
      "\n",
      "21.03.2022  10:15    <DIR>          .\n",
      "21.03.2022  10:15    <DIR>          ..\n",
      "21.03.2022  10:15        57.540.480 conv-vgg.hdf5\n",
      "               1 Datei(en),     57.540.480 Bytes\n",
      "               2 Verzeichnis(se), 574.240.681.984 Bytes frei\n"
     ]
    }
   ],
   "source": [
    "!dir models\n",
    "#!ls -lh models"
   ]
  },
  {
   "cell_type": "code",
   "execution_count": 33,
   "metadata": {
    "colab": {},
    "colab_type": "code",
    "id": "rvEl_HczpoQ6"
   },
   "outputs": [],
   "source": [
    "# !curl --upload-file ./models/conv-vgg.hdf5 https://transfer.sh/conv-vgg.hdf5"
   ]
  },
  {
   "cell_type": "markdown",
   "metadata": {
    "colab_type": "text",
    "id": "FdOpaYeJpoQ7"
   },
   "source": [
    "# Ausprobieren auf ein paar Test-Daten"
   ]
  },
  {
   "cell_type": "code",
   "execution_count": 34,
   "metadata": {
    "colab": {
     "base_uri": "https://localhost:8080/",
     "height": 34
    },
    "colab_type": "code",
    "id": "Ocg1wPvOpoQ8",
    "outputId": "d33888e8-0954-4f6e-ddd1-8a9d10eb0660"
   },
   "outputs": [
    {
     "data": {
      "text/plain": [
       "array([5, 2, 2, 5, 0, 5, 2, 1, 0, 5], dtype=int64)"
      ]
     },
     "execution_count": 34,
     "metadata": {},
     "output_type": "execute_result"
    }
   ],
   "source": [
    "import random\n",
    "\n",
    "# Pick 10 random images for test data set\n",
    "random.seed(3) # to make this deterministic\n",
    "sample_indexes = random.sample(range(len(X_test)), 10)\n",
    "sample_images = [X_test[i] for i in sample_indexes]\n",
    "sample_labels = [y_test[i] for i in sample_indexes]\n",
    "\n",
    "ground_truth = np.argmax(sample_labels, axis=1)\n",
    "\n",
    "X_sample = np.array(sample_images)\n",
    "prediction = model.predict(X_sample)\n",
    "predicted_categories = np.argmax(prediction, axis=1)\n",
    "predicted_categories"
   ]
  },
  {
   "cell_type": "code",
   "execution_count": 35,
   "metadata": {
    "colab": {},
    "colab_type": "code",
    "id": "pWp-26pBpoQ9"
   },
   "outputs": [],
   "source": [
    "# Display the predictions and the ground truth visually.\n",
    "def display_prediction (images, true_labels, predicted_labels):\n",
    "    fig = plt.figure(figsize=(10, 10))\n",
    "    for i in range(len(true_labels)):\n",
    "        truth = true_labels[i]\n",
    "        prediction = predicted_labels[i]\n",
    "        plt.subplot(5, 2,1+i)\n",
    "        plt.axis('off')\n",
    "        color='green' if truth == prediction else 'red'\n",
    "        plt.text(80, 10, \"Truth:        {0}\\nPrediction: {1}\".format(truth, prediction), \n",
    "                 fontsize=12, color=color)\n",
    "        plt.imshow(images[i])"
   ]
  },
  {
   "cell_type": "code",
   "execution_count": 36,
   "metadata": {
    "colab": {
     "base_uri": "https://localhost:8080/",
     "height": 584
    },
    "colab_type": "code",
    "id": "nv5nUf4IpoQ_",
    "outputId": "8e76a28a-43e6-41ac-99b6-34e64f22cf20"
   },
   "outputs": [
    {
     "data": {
      "image/png": "[encoded data removed]",
      "text/plain": [
       "<Figure size 720x720 with 10 Axes>"
      ]
     },
     "metadata": {
      "needs_background": "light"
     },
     "output_type": "display_data"
    }
   ],
   "source": [
    "display_prediction(sample_images, ground_truth, predicted_categories)"
   ]
  }
 ],
 "metadata": {
  "accelerator": "GPU",
  "colab": {
   "include_colab_link": true,
   "name": "kap7-cnn.ipynb",
   "provenance": []
  },
  "kernelspec": {
   "display_name": "Python 3 (ipykernel)",
   "language": "python",
   "name": "python3"
  },
  "language_info": {
   "codemirror_mode": {
    "name": "ipython",
    "version": 3
   },
   "file_extension": ".py",
   "mimetype": "text/x-python",
   "name": "python",
   "nbconvert_exporter": "python",
   "pygments_lexer": "ipython3",
   "version": "3.7.11"
  }
 },
 "nbformat": 4,
 "nbformat_minor": 1
}
